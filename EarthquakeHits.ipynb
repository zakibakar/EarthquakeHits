{
 "cells": [
  {
   "cell_type": "markdown",
   "metadata": {},
   "source": [
    "The following program gather earthquake data from https://earthquake.usgs.gov \n",
    "<br>that happened over the last 2 weeks"
   ]
  },
  {
   "cell_type": "markdown",
   "metadata": {},
   "source": [
    "# Data Collection"
   ]
  },
  {
   "cell_type": "markdown",
   "metadata": {},
   "source": [
    "Data collection is using API from the website as follow:\n",
    "<br>https://earthquake.usgs.gov/fdsnws/event/1/query?format=geojson&starttime=YYYY-MM-DD&endtime=YYYY-MM-DD\n",
    "<br><br><b>[1] construct the start/end date in YYYY-MM-DD format"
   ]
  },
  {
   "cell_type": "code",
   "execution_count": 1,
   "metadata": {},
   "outputs": [
    {
     "name": "stdout",
     "output_type": "stream",
     "text": [
      "currDate: 2018-09-29 00:33:49\n",
      "endDate: 2018-09-30\n",
      "startDate: 2018-09-15\n"
     ]
    }
   ],
   "source": [
    "import datetime\n",
    "# get the current date \n",
    "day = int(datetime.datetime.now().strftime(\"%d\"))\n",
    "month = int(datetime.datetime.now().strftime(\"%m\"))\n",
    "year = int(datetime.datetime.now().strftime(\"%Y\"))\n",
    "hour = int(datetime.datetime.now().strftime(\"%H\"))\n",
    "minute = int(datetime.datetime.now().strftime(\"%M\"))\n",
    "second = int(datetime.datetime.now().strftime(\"%S\"))\n",
    "\n",
    "DAYS_BEFORE = 14\n",
    "\n",
    "currDate = datetime.datetime(year, month, day, hour, minute, second)\n",
    "print 'currDate:',currDate\n",
    "\n",
    "# End timestamp should be today's midnight\n",
    "endDate = currDate + datetime.timedelta(days=1)\n",
    "print 'endDate:',endDate.strftime(\"%Y-%m-%d\")\n",
    "\n",
    "# Start timestamp is last 14 days\n",
    "startDate = currDate - datetime.timedelta(days=DAYS_BEFORE)\n",
    "print 'startDate:',startDate.strftime(\"%Y-%m-%d\")"
   ]
  },
  {
   "cell_type": "markdown",
   "metadata": {},
   "source": [
    "<b>[2] Construct the URL"
   ]
  },
  {
   "cell_type": "code",
   "execution_count": 2,
   "metadata": {},
   "outputs": [
    {
     "name": "stdout",
     "output_type": "stream",
     "text": [
      "https://earthquake.usgs.gov/fdsnws/event/1/query?format=geojson&starttime=2018-09-15&endtime=2018-09-30\n"
     ]
    }
   ],
   "source": [
    "urlStart = startDate.strftime(\"%Y-%m-%d\")\n",
    "urlEnd = endDate.strftime(\"%Y-%m-%d\")\n",
    "\n",
    "url = 'https://earthquake.usgs.gov/fdsnws/event/1/query?format=geojson&starttime='+urlStart+'&endtime='+urlEnd\n",
    "print url"
   ]
  },
  {
   "cell_type": "markdown",
   "metadata": {},
   "source": [
    "<b>[3] Download the data"
   ]
  },
  {
   "cell_type": "code",
   "execution_count": 3,
   "metadata": {},
   "outputs": [
    {
     "data": {
      "text/html": [
       "<div>\n",
       "<style scoped>\n",
       "    .dataframe tbody tr th:only-of-type {\n",
       "        vertical-align: middle;\n",
       "    }\n",
       "\n",
       "    .dataframe tbody tr th {\n",
       "        vertical-align: top;\n",
       "    }\n",
       "\n",
       "    .dataframe thead th {\n",
       "        text-align: right;\n",
       "    }\n",
       "</style>\n",
       "<table border=\"1\" class=\"dataframe\">\n",
       "  <thead>\n",
       "    <tr style=\"text-align: right;\">\n",
       "      <th></th>\n",
       "      <th>geometry.coordinates</th>\n",
       "      <th>geometry.type</th>\n",
       "      <th>id</th>\n",
       "      <th>properties.alert</th>\n",
       "      <th>properties.cdi</th>\n",
       "      <th>properties.code</th>\n",
       "      <th>properties.detail</th>\n",
       "      <th>properties.dmin</th>\n",
       "      <th>properties.felt</th>\n",
       "      <th>properties.gap</th>\n",
       "      <th>...</th>\n",
       "      <th>properties.status</th>\n",
       "      <th>properties.time</th>\n",
       "      <th>properties.title</th>\n",
       "      <th>properties.tsunami</th>\n",
       "      <th>properties.type</th>\n",
       "      <th>properties.types</th>\n",
       "      <th>properties.tz</th>\n",
       "      <th>properties.updated</th>\n",
       "      <th>properties.url</th>\n",
       "      <th>type</th>\n",
       "    </tr>\n",
       "  </thead>\n",
       "  <tbody>\n",
       "    <tr>\n",
       "      <th>0</th>\n",
       "      <td>[-147.2956, 68.6269, 0]</td>\n",
       "      <td>Point</td>\n",
       "      <td>ak20266354</td>\n",
       "      <td>None</td>\n",
       "      <td>NaN</td>\n",
       "      <td>20266354</td>\n",
       "      <td>https://earthquake.usgs.gov/fdsnws/event/1/que...</td>\n",
       "      <td>NaN</td>\n",
       "      <td>NaN</td>\n",
       "      <td>NaN</td>\n",
       "      <td>...</td>\n",
       "      <td>automatic</td>\n",
       "      <td>1538151744415</td>\n",
       "      <td>M 1.9 - 91km NW of Arctic Village, Alaska</td>\n",
       "      <td>0</td>\n",
       "      <td>earthquake</td>\n",
       "      <td>,geoserve,origin,</td>\n",
       "      <td>-540.0</td>\n",
       "      <td>1538151973186</td>\n",
       "      <td>https://earthquake.usgs.gov/earthquakes/eventp...</td>\n",
       "      <td>Feature</td>\n",
       "    </tr>\n",
       "    <tr>\n",
       "      <th>1</th>\n",
       "      <td>[-116.9068298, 33.4918327, 6.84]</td>\n",
       "      <td>Point</td>\n",
       "      <td>ci37372930</td>\n",
       "      <td>None</td>\n",
       "      <td>NaN</td>\n",
       "      <td>37372930</td>\n",
       "      <td>https://earthquake.usgs.gov/fdsnws/event/1/que...</td>\n",
       "      <td>0.14270</td>\n",
       "      <td>NaN</td>\n",
       "      <td>53.0</td>\n",
       "      <td>...</td>\n",
       "      <td>automatic</td>\n",
       "      <td>1538151591000</td>\n",
       "      <td>M 0.7 - 7km NW of Aguanga, CA</td>\n",
       "      <td>0</td>\n",
       "      <td>earthquake</td>\n",
       "      <td>,geoserve,nearby-cities,origin,phase-data,scit...</td>\n",
       "      <td>-480.0</td>\n",
       "      <td>1538151809726</td>\n",
       "      <td>https://earthquake.usgs.gov/earthquakes/eventp...</td>\n",
       "      <td>Feature</td>\n",
       "    </tr>\n",
       "    <tr>\n",
       "      <th>2</th>\n",
       "      <td>[-155.4588318, 19.2056675, 35.93]</td>\n",
       "      <td>Point</td>\n",
       "      <td>hv70618267</td>\n",
       "      <td>None</td>\n",
       "      <td>NaN</td>\n",
       "      <td>70618267</td>\n",
       "      <td>https://earthquake.usgs.gov/fdsnws/event/1/que...</td>\n",
       "      <td>0.05009</td>\n",
       "      <td>NaN</td>\n",
       "      <td>113.0</td>\n",
       "      <td>...</td>\n",
       "      <td>automatic</td>\n",
       "      <td>1538151312020</td>\n",
       "      <td>M 2.0 - 2km E of Pahala, Hawaii</td>\n",
       "      <td>0</td>\n",
       "      <td>earthquake</td>\n",
       "      <td>,geoserve,origin,phase-data,</td>\n",
       "      <td>-600.0</td>\n",
       "      <td>1538151515900</td>\n",
       "      <td>https://earthquake.usgs.gov/earthquakes/eventp...</td>\n",
       "      <td>Feature</td>\n",
       "    </tr>\n",
       "    <tr>\n",
       "      <th>3</th>\n",
       "      <td>[-116.7886667, 33.4878333, 3.7]</td>\n",
       "      <td>Point</td>\n",
       "      <td>ci37372914</td>\n",
       "      <td>None</td>\n",
       "      <td>NaN</td>\n",
       "      <td>37372914</td>\n",
       "      <td>https://earthquake.usgs.gov/fdsnws/event/1/que...</td>\n",
       "      <td>0.02635</td>\n",
       "      <td>NaN</td>\n",
       "      <td>70.0</td>\n",
       "      <td>...</td>\n",
       "      <td>automatic</td>\n",
       "      <td>1538151157750</td>\n",
       "      <td>M 0.4 - 9km NE of Aguanga, CA</td>\n",
       "      <td>0</td>\n",
       "      <td>earthquake</td>\n",
       "      <td>,geoserve,nearby-cities,origin,phase-data,scit...</td>\n",
       "      <td>-480.0</td>\n",
       "      <td>1538151380686</td>\n",
       "      <td>https://earthquake.usgs.gov/earthquakes/eventp...</td>\n",
       "      <td>Feature</td>\n",
       "    </tr>\n",
       "    <tr>\n",
       "      <th>4</th>\n",
       "      <td>[-162.6996, 67.6679, 7.8]</td>\n",
       "      <td>Point</td>\n",
       "      <td>ak20266349</td>\n",
       "      <td>None</td>\n",
       "      <td>NaN</td>\n",
       "      <td>20266349</td>\n",
       "      <td>https://earthquake.usgs.gov/fdsnws/event/1/que...</td>\n",
       "      <td>NaN</td>\n",
       "      <td>NaN</td>\n",
       "      <td>NaN</td>\n",
       "      <td>...</td>\n",
       "      <td>automatic</td>\n",
       "      <td>1538150542291</td>\n",
       "      <td>M 2.3 - 15km NE of Noatak, Alaska</td>\n",
       "      <td>0</td>\n",
       "      <td>earthquake</td>\n",
       "      <td>,geoserve,origin,</td>\n",
       "      <td>-540.0</td>\n",
       "      <td>1538150871514</td>\n",
       "      <td>https://earthquake.usgs.gov/earthquakes/eventp...</td>\n",
       "      <td>Feature</td>\n",
       "    </tr>\n",
       "  </tbody>\n",
       "</table>\n",
       "<p>5 rows × 30 columns</p>\n",
       "</div>"
      ],
      "text/plain": [
       "                geometry.coordinates geometry.type          id  \\\n",
       "0            [-147.2956, 68.6269, 0]         Point  ak20266354   \n",
       "1   [-116.9068298, 33.4918327, 6.84]         Point  ci37372930   \n",
       "2  [-155.4588318, 19.2056675, 35.93]         Point  hv70618267   \n",
       "3    [-116.7886667, 33.4878333, 3.7]         Point  ci37372914   \n",
       "4          [-162.6996, 67.6679, 7.8]         Point  ak20266349   \n",
       "\n",
       "  properties.alert  properties.cdi properties.code  \\\n",
       "0             None             NaN        20266354   \n",
       "1             None             NaN        37372930   \n",
       "2             None             NaN        70618267   \n",
       "3             None             NaN        37372914   \n",
       "4             None             NaN        20266349   \n",
       "\n",
       "                                   properties.detail  properties.dmin  \\\n",
       "0  https://earthquake.usgs.gov/fdsnws/event/1/que...              NaN   \n",
       "1  https://earthquake.usgs.gov/fdsnws/event/1/que...          0.14270   \n",
       "2  https://earthquake.usgs.gov/fdsnws/event/1/que...          0.05009   \n",
       "3  https://earthquake.usgs.gov/fdsnws/event/1/que...          0.02635   \n",
       "4  https://earthquake.usgs.gov/fdsnws/event/1/que...              NaN   \n",
       "\n",
       "   properties.felt  properties.gap   ...    properties.status  \\\n",
       "0              NaN             NaN   ...            automatic   \n",
       "1              NaN            53.0   ...            automatic   \n",
       "2              NaN           113.0   ...            automatic   \n",
       "3              NaN            70.0   ...            automatic   \n",
       "4              NaN             NaN   ...            automatic   \n",
       "\n",
       "   properties.time                           properties.title  \\\n",
       "0    1538151744415  M 1.9 - 91km NW of Arctic Village, Alaska   \n",
       "1    1538151591000              M 0.7 - 7km NW of Aguanga, CA   \n",
       "2    1538151312020            M 2.0 - 2km E of Pahala, Hawaii   \n",
       "3    1538151157750              M 0.4 - 9km NE of Aguanga, CA   \n",
       "4    1538150542291          M 2.3 - 15km NE of Noatak, Alaska   \n",
       "\n",
       "   properties.tsunami properties.type  \\\n",
       "0                   0      earthquake   \n",
       "1                   0      earthquake   \n",
       "2                   0      earthquake   \n",
       "3                   0      earthquake   \n",
       "4                   0      earthquake   \n",
       "\n",
       "                                    properties.types properties.tz  \\\n",
       "0                                  ,geoserve,origin,        -540.0   \n",
       "1  ,geoserve,nearby-cities,origin,phase-data,scit...        -480.0   \n",
       "2                       ,geoserve,origin,phase-data,        -600.0   \n",
       "3  ,geoserve,nearby-cities,origin,phase-data,scit...        -480.0   \n",
       "4                                  ,geoserve,origin,        -540.0   \n",
       "\n",
       "   properties.updated                                     properties.url  \\\n",
       "0       1538151973186  https://earthquake.usgs.gov/earthquakes/eventp...   \n",
       "1       1538151809726  https://earthquake.usgs.gov/earthquakes/eventp...   \n",
       "2       1538151515900  https://earthquake.usgs.gov/earthquakes/eventp...   \n",
       "3       1538151380686  https://earthquake.usgs.gov/earthquakes/eventp...   \n",
       "4       1538150871514  https://earthquake.usgs.gov/earthquakes/eventp...   \n",
       "\n",
       "      type  \n",
       "0  Feature  \n",
       "1  Feature  \n",
       "2  Feature  \n",
       "3  Feature  \n",
       "4  Feature  \n",
       "\n",
       "[5 rows x 30 columns]"
      ]
     },
     "execution_count": 3,
     "metadata": {},
     "output_type": "execute_result"
    }
   ],
   "source": [
    "import requests\n",
    "import json\n",
    "import pandas as pd\n",
    "from pandas.io.json import json_normalize\n",
    "\n",
    "resp = requests.get(url=url)\n",
    "data = resp.json()\n",
    "\n",
    "# process the JSON response\n",
    "# put it into dataframe\n",
    "response_df = json_normalize(data['features'])\n",
    "\n",
    "response_df.head()"
   ]
  },
  {
   "cell_type": "markdown",
   "metadata": {},
   "source": [
    "# Inspect Data"
   ]
  },
  {
   "cell_type": "markdown",
   "metadata": {},
   "source": [
    "<b>[1] Check on the available columns</b>\n",
    "<br> further info is available from https://earthquake.usgs.gov/earthquakes/feed/v1.0/geojson_detail.php"
   ]
  },
  {
   "cell_type": "code",
   "execution_count": 4,
   "metadata": {},
   "outputs": [
    {
     "name": "stdout",
     "output_type": "stream",
     "text": [
      "<class 'pandas.core.frame.DataFrame'>\n",
      "RangeIndex: 4472 entries, 0 to 4471\n",
      "Data columns (total 30 columns):\n",
      "geometry.coordinates    4472 non-null object\n",
      "geometry.type           4472 non-null object\n",
      "id                      4472 non-null object\n",
      "properties.alert        29 non-null object\n",
      "properties.cdi          186 non-null float64\n",
      "properties.code         4472 non-null object\n",
      "properties.detail       4472 non-null object\n",
      "properties.dmin         3098 non-null float64\n",
      "properties.felt         186 non-null float64\n",
      "properties.gap          3109 non-null float64\n",
      "properties.ids          4472 non-null object\n",
      "properties.mag          4471 non-null float64\n",
      "properties.magType      4471 non-null object\n",
      "properties.mmi          47 non-null float64\n",
      "properties.net          4472 non-null object\n",
      "properties.nst          2761 non-null float64\n",
      "properties.place        4472 non-null object\n",
      "properties.rms          4472 non-null float64\n",
      "properties.sig          4472 non-null int64\n",
      "properties.sources      4472 non-null object\n",
      "properties.status       4472 non-null object\n",
      "properties.time         4472 non-null int64\n",
      "properties.title        4472 non-null object\n",
      "properties.tsunami      4472 non-null int64\n",
      "properties.type         4472 non-null object\n",
      "properties.types        4472 non-null object\n",
      "properties.tz           4471 non-null float64\n",
      "properties.updated      4472 non-null int64\n",
      "properties.url          4472 non-null object\n",
      "type                    4472 non-null object\n",
      "dtypes: float64(9), int64(4), object(17)\n",
      "memory usage: 1.0+ MB\n"
     ]
    }
   ],
   "source": [
    "response_df.info()"
   ]
  },
  {
   "cell_type": "markdown",
   "metadata": {},
   "source": [
    "For earthquake we probably interested to know:\n",
    "<br>1. When it happened (date/time) --> properties.time\n",
    "<br>2. What was the magnitude --> properties.mag\n",
    "<br>3. Where it happened --> properties.place\n",
    "<br>4. Coordinate so that it can be plotted --> geometry.coordinates"
   ]
  },
  {
   "cell_type": "markdown",
   "metadata": {},
   "source": [
    "<b>check on the date/time<b>"
   ]
  },
  {
   "cell_type": "code",
   "execution_count": 5,
   "metadata": {},
   "outputs": [
    {
     "name": "stdout",
     "output_type": "stream",
     "text": [
      "Sample\t: 1538151744415\n",
      "type\t: <class 'pandas.core.series.Series'>\n",
      "1538151744415\n"
     ]
    }
   ],
   "source": [
    "print 'Sample\\t:',response_df['properties.time'][0]\n",
    "print 'type\\t:',type(response_df['properties.time'])\n",
    "print response_df['properties.time'][0]"
   ]
  },
  {
   "cell_type": "code",
   "execution_count": 6,
   "metadata": {},
   "outputs": [
    {
     "name": "stdout",
     "output_type": "stream",
     "text": [
      "Converted\t: 29-09-2018 00:22:24\n"
     ]
    }
   ],
   "source": [
    "# Times are reported in milliseconds since the epoch, and provided in UTC\n",
    "# good to convert this into human readable format\n",
    "\n",
    "def convertEpochToReadable(dt):\n",
    "    time1 = float(dt/1000)\n",
    "    return datetime.datetime.fromtimestamp(time1).strftime('%d-%m-%Y %H:%M:%S')\n",
    "\n",
    "print 'Converted\\t:',convertEpochToReadable(response_df['properties.time'][0])"
   ]
  },
  {
   "cell_type": "markdown",
   "metadata": {},
   "source": [
    "<b>check on the coordinate</b>"
   ]
  },
  {
   "cell_type": "code",
   "execution_count": 7,
   "metadata": {},
   "outputs": [
    {
     "name": "stdout",
     "output_type": "stream",
     "text": [
      "Sample\t: [-147.2956, 68.6269, 0]\n",
      "type\t: <class 'pandas.core.series.Series'>\n"
     ]
    }
   ],
   "source": [
    "print 'Sample\\t:',response_df['geometry.coordinates'][0]\n",
    "print 'type\\t:',type(response_df['geometry.coordinates'])"
   ]
  },
  {
   "cell_type": "code",
   "execution_count": 8,
   "metadata": {},
   "outputs": [
    {
     "name": "stdout",
     "output_type": "stream",
     "text": [
      "lon: -147.2956\n",
      "lat: 68.6269\n",
      "depth 0\n"
     ]
    }
   ],
   "source": [
    "# coordinate return as series -> [lon,lat,depth]\n",
    "print 'lon:',response_df['geometry.coordinates'][0][0]\n",
    "print 'lat:',response_df['geometry.coordinates'][0][1]\n",
    "print 'depth',response_df['geometry.coordinates'][0][2]"
   ]
  },
  {
   "cell_type": "markdown",
   "metadata": {},
   "source": [
    "<b>Check on mangitude</b>"
   ]
  },
  {
   "cell_type": "code",
   "execution_count": 9,
   "metadata": {},
   "outputs": [
    {
     "name": "stdout",
     "output_type": "stream",
     "text": [
      "Sample\t: 1.9\n",
      "type\t: <class 'pandas.core.series.Series'>\n"
     ]
    }
   ],
   "source": [
    "print 'Sample\\t:',response_df['properties.mag'][0]\n",
    "print 'type\\t:',type(response_df['properties.mag'])"
   ]
  },
  {
   "cell_type": "markdown",
   "metadata": {},
   "source": [
    "<b>Check on location</b>"
   ]
  },
  {
   "cell_type": "code",
   "execution_count": 10,
   "metadata": {},
   "outputs": [
    {
     "name": "stdout",
     "output_type": "stream",
     "text": [
      "Sample\t: 91km NW of Arctic Village, Alaska\n",
      "type\t: <class 'pandas.core.series.Series'>\n"
     ]
    }
   ],
   "source": [
    "print 'Sample\\t:',response_df['properties.place'][0]\n",
    "print 'type\\t:',type(response_df['properties.place'])"
   ]
  },
  {
   "cell_type": "markdown",
   "metadata": {},
   "source": [
    "# Prepare data for further analysis"
   ]
  },
  {
   "cell_type": "markdown",
   "metadata": {},
   "source": [
    "let's create new data frame\n",
    "<br>split the coordinate to 3 columns --> longitude, latitude, depth\n",
    "<br>new columns for human readable timestamp --> delete existing column"
   ]
  },
  {
   "cell_type": "markdown",
   "metadata": {},
   "source": [
    "<b>Create new dataframe from the original</b>"
   ]
  },
  {
   "cell_type": "code",
   "execution_count": 11,
   "metadata": {},
   "outputs": [
    {
     "data": {
      "text/html": [
       "<div>\n",
       "<style scoped>\n",
       "    .dataframe tbody tr th:only-of-type {\n",
       "        vertical-align: middle;\n",
       "    }\n",
       "\n",
       "    .dataframe tbody tr th {\n",
       "        vertical-align: top;\n",
       "    }\n",
       "\n",
       "    .dataframe thead th {\n",
       "        text-align: right;\n",
       "    }\n",
       "</style>\n",
       "<table border=\"1\" class=\"dataframe\">\n",
       "  <thead>\n",
       "    <tr style=\"text-align: right;\">\n",
       "      <th></th>\n",
       "      <th>geometry.coordinates</th>\n",
       "      <th>properties.mag</th>\n",
       "      <th>properties.place</th>\n",
       "      <th>properties.time</th>\n",
       "    </tr>\n",
       "  </thead>\n",
       "  <tbody>\n",
       "    <tr>\n",
       "      <th>0</th>\n",
       "      <td>[-147.2956, 68.6269, 0]</td>\n",
       "      <td>1.90</td>\n",
       "      <td>91km NW of Arctic Village, Alaska</td>\n",
       "      <td>1538151744415</td>\n",
       "    </tr>\n",
       "    <tr>\n",
       "      <th>1</th>\n",
       "      <td>[-116.9068298, 33.4918327, 6.84]</td>\n",
       "      <td>0.72</td>\n",
       "      <td>7km NW of Aguanga, CA</td>\n",
       "      <td>1538151591000</td>\n",
       "    </tr>\n",
       "    <tr>\n",
       "      <th>2</th>\n",
       "      <td>[-155.4588318, 19.2056675, 35.93]</td>\n",
       "      <td>1.98</td>\n",
       "      <td>2km E of Pahala, Hawaii</td>\n",
       "      <td>1538151312020</td>\n",
       "    </tr>\n",
       "    <tr>\n",
       "      <th>3</th>\n",
       "      <td>[-116.7886667, 33.4878333, 3.7]</td>\n",
       "      <td>0.42</td>\n",
       "      <td>9km NE of Aguanga, CA</td>\n",
       "      <td>1538151157750</td>\n",
       "    </tr>\n",
       "    <tr>\n",
       "      <th>4</th>\n",
       "      <td>[-162.6996, 67.6679, 7.8]</td>\n",
       "      <td>2.30</td>\n",
       "      <td>15km NE of Noatak, Alaska</td>\n",
       "      <td>1538150542291</td>\n",
       "    </tr>\n",
       "  </tbody>\n",
       "</table>\n",
       "</div>"
      ],
      "text/plain": [
       "                geometry.coordinates  properties.mag  \\\n",
       "0            [-147.2956, 68.6269, 0]            1.90   \n",
       "1   [-116.9068298, 33.4918327, 6.84]            0.72   \n",
       "2  [-155.4588318, 19.2056675, 35.93]            1.98   \n",
       "3    [-116.7886667, 33.4878333, 3.7]            0.42   \n",
       "4          [-162.6996, 67.6679, 7.8]            2.30   \n",
       "\n",
       "                    properties.place  properties.time  \n",
       "0  91km NW of Arctic Village, Alaska    1538151744415  \n",
       "1              7km NW of Aguanga, CA    1538151591000  \n",
       "2            2km E of Pahala, Hawaii    1538151312020  \n",
       "3              9km NE of Aguanga, CA    1538151157750  \n",
       "4          15km NE of Noatak, Alaska    1538150542291  "
      ]
     },
     "execution_count": 11,
     "metadata": {},
     "output_type": "execute_result"
    }
   ],
   "source": [
    "earthquake_df = response_df[['geometry.coordinates','properties.mag','properties.place','properties.time']].copy()\n",
    "earthquake_df.head()"
   ]
  },
  {
   "cell_type": "markdown",
   "metadata": {},
   "source": [
    "<b>split the coordinate to 3 columns</b>"
   ]
  },
  {
   "cell_type": "code",
   "execution_count": 12,
   "metadata": {},
   "outputs": [],
   "source": [
    "# custom function to split coordinate\n",
    "def splitCoordinate(coor):\n",
    "    lon,lat,depth = coor\n",
    "    \n",
    "    return pd.Series([lon,lat,depth])"
   ]
  },
  {
   "cell_type": "code",
   "execution_count": 13,
   "metadata": {},
   "outputs": [
    {
     "data": {
      "text/html": [
       "<div>\n",
       "<style scoped>\n",
       "    .dataframe tbody tr th:only-of-type {\n",
       "        vertical-align: middle;\n",
       "    }\n",
       "\n",
       "    .dataframe tbody tr th {\n",
       "        vertical-align: top;\n",
       "    }\n",
       "\n",
       "    .dataframe thead th {\n",
       "        text-align: right;\n",
       "    }\n",
       "</style>\n",
       "<table border=\"1\" class=\"dataframe\">\n",
       "  <thead>\n",
       "    <tr style=\"text-align: right;\">\n",
       "      <th></th>\n",
       "      <th>geometry.coordinates</th>\n",
       "      <th>properties.mag</th>\n",
       "      <th>properties.place</th>\n",
       "      <th>properties.time</th>\n",
       "      <th>lon</th>\n",
       "      <th>lat</th>\n",
       "      <th>depth</th>\n",
       "    </tr>\n",
       "  </thead>\n",
       "  <tbody>\n",
       "    <tr>\n",
       "      <th>0</th>\n",
       "      <td>[-147.2956, 68.6269, 0]</td>\n",
       "      <td>1.90</td>\n",
       "      <td>91km NW of Arctic Village, Alaska</td>\n",
       "      <td>1538151744415</td>\n",
       "      <td>-147.295600</td>\n",
       "      <td>68.626900</td>\n",
       "      <td>0.00</td>\n",
       "    </tr>\n",
       "    <tr>\n",
       "      <th>1</th>\n",
       "      <td>[-116.9068298, 33.4918327, 6.84]</td>\n",
       "      <td>0.72</td>\n",
       "      <td>7km NW of Aguanga, CA</td>\n",
       "      <td>1538151591000</td>\n",
       "      <td>-116.906830</td>\n",
       "      <td>33.491833</td>\n",
       "      <td>6.84</td>\n",
       "    </tr>\n",
       "    <tr>\n",
       "      <th>2</th>\n",
       "      <td>[-155.4588318, 19.2056675, 35.93]</td>\n",
       "      <td>1.98</td>\n",
       "      <td>2km E of Pahala, Hawaii</td>\n",
       "      <td>1538151312020</td>\n",
       "      <td>-155.458832</td>\n",
       "      <td>19.205668</td>\n",
       "      <td>35.93</td>\n",
       "    </tr>\n",
       "    <tr>\n",
       "      <th>3</th>\n",
       "      <td>[-116.7886667, 33.4878333, 3.7]</td>\n",
       "      <td>0.42</td>\n",
       "      <td>9km NE of Aguanga, CA</td>\n",
       "      <td>1538151157750</td>\n",
       "      <td>-116.788667</td>\n",
       "      <td>33.487833</td>\n",
       "      <td>3.70</td>\n",
       "    </tr>\n",
       "    <tr>\n",
       "      <th>4</th>\n",
       "      <td>[-162.6996, 67.6679, 7.8]</td>\n",
       "      <td>2.30</td>\n",
       "      <td>15km NE of Noatak, Alaska</td>\n",
       "      <td>1538150542291</td>\n",
       "      <td>-162.699600</td>\n",
       "      <td>67.667900</td>\n",
       "      <td>7.80</td>\n",
       "    </tr>\n",
       "  </tbody>\n",
       "</table>\n",
       "</div>"
      ],
      "text/plain": [
       "                geometry.coordinates  properties.mag  \\\n",
       "0            [-147.2956, 68.6269, 0]            1.90   \n",
       "1   [-116.9068298, 33.4918327, 6.84]            0.72   \n",
       "2  [-155.4588318, 19.2056675, 35.93]            1.98   \n",
       "3    [-116.7886667, 33.4878333, 3.7]            0.42   \n",
       "4          [-162.6996, 67.6679, 7.8]            2.30   \n",
       "\n",
       "                    properties.place  properties.time         lon        lat  \\\n",
       "0  91km NW of Arctic Village, Alaska    1538151744415 -147.295600  68.626900   \n",
       "1              7km NW of Aguanga, CA    1538151591000 -116.906830  33.491833   \n",
       "2            2km E of Pahala, Hawaii    1538151312020 -155.458832  19.205668   \n",
       "3              9km NE of Aguanga, CA    1538151157750 -116.788667  33.487833   \n",
       "4          15km NE of Noatak, Alaska    1538150542291 -162.699600  67.667900   \n",
       "\n",
       "   depth  \n",
       "0   0.00  \n",
       "1   6.84  \n",
       "2  35.93  \n",
       "3   3.70  \n",
       "4   7.80  "
      ]
     },
     "execution_count": 13,
     "metadata": {},
     "output_type": "execute_result"
    }
   ],
   "source": [
    "earthquake_df[['lon','lat','depth']] = earthquake_df['geometry.coordinates'].apply(splitCoordinate)\n",
    "earthquake_df.head()"
   ]
  },
  {
   "cell_type": "markdown",
   "metadata": {},
   "source": [
    "<b>convert time into human readable format</b>"
   ]
  },
  {
   "cell_type": "code",
   "execution_count": 14,
   "metadata": {},
   "outputs": [
    {
     "data": {
      "text/html": [
       "<div>\n",
       "<style scoped>\n",
       "    .dataframe tbody tr th:only-of-type {\n",
       "        vertical-align: middle;\n",
       "    }\n",
       "\n",
       "    .dataframe tbody tr th {\n",
       "        vertical-align: top;\n",
       "    }\n",
       "\n",
       "    .dataframe thead th {\n",
       "        text-align: right;\n",
       "    }\n",
       "</style>\n",
       "<table border=\"1\" class=\"dataframe\">\n",
       "  <thead>\n",
       "    <tr style=\"text-align: right;\">\n",
       "      <th></th>\n",
       "      <th>geometry.coordinates</th>\n",
       "      <th>properties.mag</th>\n",
       "      <th>properties.place</th>\n",
       "      <th>properties.time</th>\n",
       "      <th>lon</th>\n",
       "      <th>lat</th>\n",
       "      <th>depth</th>\n",
       "      <th>datetime</th>\n",
       "    </tr>\n",
       "  </thead>\n",
       "  <tbody>\n",
       "    <tr>\n",
       "      <th>0</th>\n",
       "      <td>[-147.2956, 68.6269, 0]</td>\n",
       "      <td>1.90</td>\n",
       "      <td>91km NW of Arctic Village, Alaska</td>\n",
       "      <td>1538151744415</td>\n",
       "      <td>-147.295600</td>\n",
       "      <td>68.626900</td>\n",
       "      <td>0.00</td>\n",
       "      <td>29-09-2018 00:22:24</td>\n",
       "    </tr>\n",
       "    <tr>\n",
       "      <th>1</th>\n",
       "      <td>[-116.9068298, 33.4918327, 6.84]</td>\n",
       "      <td>0.72</td>\n",
       "      <td>7km NW of Aguanga, CA</td>\n",
       "      <td>1538151591000</td>\n",
       "      <td>-116.906830</td>\n",
       "      <td>33.491833</td>\n",
       "      <td>6.84</td>\n",
       "      <td>29-09-2018 00:19:51</td>\n",
       "    </tr>\n",
       "    <tr>\n",
       "      <th>2</th>\n",
       "      <td>[-155.4588318, 19.2056675, 35.93]</td>\n",
       "      <td>1.98</td>\n",
       "      <td>2km E of Pahala, Hawaii</td>\n",
       "      <td>1538151312020</td>\n",
       "      <td>-155.458832</td>\n",
       "      <td>19.205668</td>\n",
       "      <td>35.93</td>\n",
       "      <td>29-09-2018 00:15:12</td>\n",
       "    </tr>\n",
       "    <tr>\n",
       "      <th>3</th>\n",
       "      <td>[-116.7886667, 33.4878333, 3.7]</td>\n",
       "      <td>0.42</td>\n",
       "      <td>9km NE of Aguanga, CA</td>\n",
       "      <td>1538151157750</td>\n",
       "      <td>-116.788667</td>\n",
       "      <td>33.487833</td>\n",
       "      <td>3.70</td>\n",
       "      <td>29-09-2018 00:12:37</td>\n",
       "    </tr>\n",
       "    <tr>\n",
       "      <th>4</th>\n",
       "      <td>[-162.6996, 67.6679, 7.8]</td>\n",
       "      <td>2.30</td>\n",
       "      <td>15km NE of Noatak, Alaska</td>\n",
       "      <td>1538150542291</td>\n",
       "      <td>-162.699600</td>\n",
       "      <td>67.667900</td>\n",
       "      <td>7.80</td>\n",
       "      <td>29-09-2018 00:02:22</td>\n",
       "    </tr>\n",
       "  </tbody>\n",
       "</table>\n",
       "</div>"
      ],
      "text/plain": [
       "                geometry.coordinates  properties.mag  \\\n",
       "0            [-147.2956, 68.6269, 0]            1.90   \n",
       "1   [-116.9068298, 33.4918327, 6.84]            0.72   \n",
       "2  [-155.4588318, 19.2056675, 35.93]            1.98   \n",
       "3    [-116.7886667, 33.4878333, 3.7]            0.42   \n",
       "4          [-162.6996, 67.6679, 7.8]            2.30   \n",
       "\n",
       "                    properties.place  properties.time         lon        lat  \\\n",
       "0  91km NW of Arctic Village, Alaska    1538151744415 -147.295600  68.626900   \n",
       "1              7km NW of Aguanga, CA    1538151591000 -116.906830  33.491833   \n",
       "2            2km E of Pahala, Hawaii    1538151312020 -155.458832  19.205668   \n",
       "3              9km NE of Aguanga, CA    1538151157750 -116.788667  33.487833   \n",
       "4          15km NE of Noatak, Alaska    1538150542291 -162.699600  67.667900   \n",
       "\n",
       "   depth             datetime  \n",
       "0   0.00  29-09-2018 00:22:24  \n",
       "1   6.84  29-09-2018 00:19:51  \n",
       "2  35.93  29-09-2018 00:15:12  \n",
       "3   3.70  29-09-2018 00:12:37  \n",
       "4   7.80  29-09-2018 00:02:22  "
      ]
     },
     "execution_count": 14,
     "metadata": {},
     "output_type": "execute_result"
    }
   ],
   "source": [
    "earthquake_df['datetime'] = earthquake_df['properties.time'].apply(convertEpochToReadable)\n",
    "earthquake_df.head()"
   ]
  },
  {
   "cell_type": "markdown",
   "metadata": {},
   "source": [
    "<b>drop the column time and coordinate</b>\n",
    "<br><b>rename the columns accordingly</b>"
   ]
  },
  {
   "cell_type": "code",
   "execution_count": 15,
   "metadata": {},
   "outputs": [
    {
     "data": {
      "text/html": [
       "<div>\n",
       "<style scoped>\n",
       "    .dataframe tbody tr th:only-of-type {\n",
       "        vertical-align: middle;\n",
       "    }\n",
       "\n",
       "    .dataframe tbody tr th {\n",
       "        vertical-align: top;\n",
       "    }\n",
       "\n",
       "    .dataframe thead th {\n",
       "        text-align: right;\n",
       "    }\n",
       "</style>\n",
       "<table border=\"1\" class=\"dataframe\">\n",
       "  <thead>\n",
       "    <tr style=\"text-align: right;\">\n",
       "      <th></th>\n",
       "      <th>magnitude</th>\n",
       "      <th>place</th>\n",
       "      <th>lon</th>\n",
       "      <th>lat</th>\n",
       "      <th>depth</th>\n",
       "      <th>datetime</th>\n",
       "    </tr>\n",
       "  </thead>\n",
       "  <tbody>\n",
       "    <tr>\n",
       "      <th>0</th>\n",
       "      <td>1.90</td>\n",
       "      <td>91km NW of Arctic Village, Alaska</td>\n",
       "      <td>-147.295600</td>\n",
       "      <td>68.626900</td>\n",
       "      <td>0.00</td>\n",
       "      <td>29-09-2018 00:22:24</td>\n",
       "    </tr>\n",
       "    <tr>\n",
       "      <th>1</th>\n",
       "      <td>0.72</td>\n",
       "      <td>7km NW of Aguanga, CA</td>\n",
       "      <td>-116.906830</td>\n",
       "      <td>33.491833</td>\n",
       "      <td>6.84</td>\n",
       "      <td>29-09-2018 00:19:51</td>\n",
       "    </tr>\n",
       "    <tr>\n",
       "      <th>2</th>\n",
       "      <td>1.98</td>\n",
       "      <td>2km E of Pahala, Hawaii</td>\n",
       "      <td>-155.458832</td>\n",
       "      <td>19.205668</td>\n",
       "      <td>35.93</td>\n",
       "      <td>29-09-2018 00:15:12</td>\n",
       "    </tr>\n",
       "    <tr>\n",
       "      <th>3</th>\n",
       "      <td>0.42</td>\n",
       "      <td>9km NE of Aguanga, CA</td>\n",
       "      <td>-116.788667</td>\n",
       "      <td>33.487833</td>\n",
       "      <td>3.70</td>\n",
       "      <td>29-09-2018 00:12:37</td>\n",
       "    </tr>\n",
       "    <tr>\n",
       "      <th>4</th>\n",
       "      <td>2.30</td>\n",
       "      <td>15km NE of Noatak, Alaska</td>\n",
       "      <td>-162.699600</td>\n",
       "      <td>67.667900</td>\n",
       "      <td>7.80</td>\n",
       "      <td>29-09-2018 00:02:22</td>\n",
       "    </tr>\n",
       "  </tbody>\n",
       "</table>\n",
       "</div>"
      ],
      "text/plain": [
       "   magnitude                              place         lon        lat  depth  \\\n",
       "0       1.90  91km NW of Arctic Village, Alaska -147.295600  68.626900   0.00   \n",
       "1       0.72              7km NW of Aguanga, CA -116.906830  33.491833   6.84   \n",
       "2       1.98            2km E of Pahala, Hawaii -155.458832  19.205668  35.93   \n",
       "3       0.42              9km NE of Aguanga, CA -116.788667  33.487833   3.70   \n",
       "4       2.30          15km NE of Noatak, Alaska -162.699600  67.667900   7.80   \n",
       "\n",
       "              datetime  \n",
       "0  29-09-2018 00:22:24  \n",
       "1  29-09-2018 00:19:51  \n",
       "2  29-09-2018 00:15:12  \n",
       "3  29-09-2018 00:12:37  \n",
       "4  29-09-2018 00:02:22  "
      ]
     },
     "execution_count": 15,
     "metadata": {},
     "output_type": "execute_result"
    }
   ],
   "source": [
    "earthquake_df.drop(['geometry.coordinates','properties.time'], axis=1, inplace=True)\n",
    "\n",
    "earthquake_df.rename(columns={'properties.mag': 'magnitude',\\\n",
    "                           'properties.place': 'place',\\\n",
    "                           'properties.tsunami': 'tsunami'},\\\n",
    "                  inplace=True)\n",
    "\n",
    "earthquake_df.head()"
   ]
  },
  {
   "cell_type": "markdown",
   "metadata": {},
   "source": [
    "# Basic data analysis"
   ]
  },
  {
   "cell_type": "code",
   "execution_count": 16,
   "metadata": {},
   "outputs": [
    {
     "data": {
      "text/html": [
       "<div>\n",
       "<style scoped>\n",
       "    .dataframe tbody tr th:only-of-type {\n",
       "        vertical-align: middle;\n",
       "    }\n",
       "\n",
       "    .dataframe tbody tr th {\n",
       "        vertical-align: top;\n",
       "    }\n",
       "\n",
       "    .dataframe thead th {\n",
       "        text-align: right;\n",
       "    }\n",
       "</style>\n",
       "<table border=\"1\" class=\"dataframe\">\n",
       "  <thead>\n",
       "    <tr style=\"text-align: right;\">\n",
       "      <th></th>\n",
       "      <th>magnitude</th>\n",
       "      <th>lon</th>\n",
       "      <th>lat</th>\n",
       "      <th>depth</th>\n",
       "    </tr>\n",
       "  </thead>\n",
       "  <tbody>\n",
       "    <tr>\n",
       "      <th>count</th>\n",
       "      <td>4471.000000</td>\n",
       "      <td>4472.000000</td>\n",
       "      <td>4472.000000</td>\n",
       "      <td>4472.000000</td>\n",
       "    </tr>\n",
       "    <tr>\n",
       "      <th>mean</th>\n",
       "      <td>1.449629</td>\n",
       "      <td>-118.075666</td>\n",
       "      <td>42.704187</td>\n",
       "      <td>18.605961</td>\n",
       "    </tr>\n",
       "    <tr>\n",
       "      <th>std</th>\n",
       "      <td>1.213993</td>\n",
       "      <td>57.818513</td>\n",
       "      <td>19.546213</td>\n",
       "      <td>49.697182</td>\n",
       "    </tr>\n",
       "    <tr>\n",
       "      <th>min</th>\n",
       "      <td>-1.260000</td>\n",
       "      <td>-179.949400</td>\n",
       "      <td>-60.610600</td>\n",
       "      <td>-3.490000</td>\n",
       "    </tr>\n",
       "    <tr>\n",
       "      <th>25%</th>\n",
       "      <td>0.630000</td>\n",
       "      <td>-147.631800</td>\n",
       "      <td>33.508667</td>\n",
       "      <td>2.155000</td>\n",
       "    </tr>\n",
       "    <tr>\n",
       "      <th>50%</th>\n",
       "      <td>1.290000</td>\n",
       "      <td>-120.609000</td>\n",
       "      <td>38.756167</td>\n",
       "      <td>5.805000</td>\n",
       "    </tr>\n",
       "    <tr>\n",
       "      <th>75%</th>\n",
       "      <td>1.900000</td>\n",
       "      <td>-116.788167</td>\n",
       "      <td>60.328325</td>\n",
       "      <td>13.205000</td>\n",
       "    </tr>\n",
       "    <tr>\n",
       "      <th>max</th>\n",
       "      <td>7.500000</td>\n",
       "      <td>179.941900</td>\n",
       "      <td>69.847700</td>\n",
       "      <td>652.720000</td>\n",
       "    </tr>\n",
       "  </tbody>\n",
       "</table>\n",
       "</div>"
      ],
      "text/plain": [
       "         magnitude          lon          lat        depth\n",
       "count  4471.000000  4472.000000  4472.000000  4472.000000\n",
       "mean      1.449629  -118.075666    42.704187    18.605961\n",
       "std       1.213993    57.818513    19.546213    49.697182\n",
       "min      -1.260000  -179.949400   -60.610600    -3.490000\n",
       "25%       0.630000  -147.631800    33.508667     2.155000\n",
       "50%       1.290000  -120.609000    38.756167     5.805000\n",
       "75%       1.900000  -116.788167    60.328325    13.205000\n",
       "max       7.500000   179.941900    69.847700   652.720000"
      ]
     },
     "execution_count": 16,
     "metadata": {},
     "output_type": "execute_result"
    }
   ],
   "source": [
    "# Let's look at the summary of the data\n",
    "# this give the stats for the numerical value\n",
    "earthquake_df.describe()"
   ]
  },
  {
   "cell_type": "markdown",
   "metadata": {},
   "source": [
    "[1] We have 100367 data from the dataframe, basically that's number of earthquake happened in the last two week.\n",
    "<br>[2] Greatest earthquake was of magnitude 6.9\n",
    "<br>[3] describe() does not cover timestamp and place as both are non-numeric"
   ]
  },
  {
   "cell_type": "code",
   "execution_count": 17,
   "metadata": {},
   "outputs": [
    {
     "name": "stdout",
     "output_type": "stream",
     "text": [
      "Earthquake date from \"15-09-2018 08:01:11\" to \"29-09-2018 00:22:24\" UTC\n"
     ]
    }
   ],
   "source": [
    "# describe doesn't cover the timestamp\n",
    "# now let's check the date range\n",
    "latestEQ = earthquake_df['datetime'].max()\n",
    "earliestEQ = earthquake_df['datetime'].min()\n",
    "\n",
    "print 'Earthquake date from \"'+earliestEQ+'\" to \"'+latestEQ+'\" UTC'"
   ]
  },
  {
   "cell_type": "code",
   "execution_count": 18,
   "metadata": {},
   "outputs": [
    {
     "data": {
      "text/html": [
       "<div>\n",
       "<style scoped>\n",
       "    .dataframe tbody tr th:only-of-type {\n",
       "        vertical-align: middle;\n",
       "    }\n",
       "\n",
       "    .dataframe tbody tr th {\n",
       "        vertical-align: top;\n",
       "    }\n",
       "\n",
       "    .dataframe thead th {\n",
       "        text-align: right;\n",
       "    }\n",
       "</style>\n",
       "<table border=\"1\" class=\"dataframe\">\n",
       "  <thead>\n",
       "    <tr style=\"text-align: right;\">\n",
       "      <th></th>\n",
       "      <th>magnitude</th>\n",
       "      <th>place</th>\n",
       "      <th>lon</th>\n",
       "      <th>lat</th>\n",
       "      <th>depth</th>\n",
       "      <th>datetime</th>\n",
       "    </tr>\n",
       "  </thead>\n",
       "  <tbody>\n",
       "    <tr>\n",
       "      <th>0</th>\n",
       "      <td>1.9</td>\n",
       "      <td>91km NW of Arctic Village, Alaska</td>\n",
       "      <td>-147.2956</td>\n",
       "      <td>68.6269</td>\n",
       "      <td>0.0</td>\n",
       "      <td>29-09-2018 00:22:24</td>\n",
       "    </tr>\n",
       "  </tbody>\n",
       "</table>\n",
       "</div>"
      ],
      "text/plain": [
       "   magnitude                              place       lon      lat  depth  \\\n",
       "0        1.9  91km NW of Arctic Village, Alaska -147.2956  68.6269    0.0   \n",
       "\n",
       "              datetime  \n",
       "0  29-09-2018 00:22:24  "
      ]
     },
     "execution_count": 18,
     "metadata": {},
     "output_type": "execute_result"
    }
   ],
   "source": [
    "# check on the latest earthquake\n",
    "earthquake_df[earthquake_df['datetime'] == earthquake_df['datetime'].max()]"
   ]
  },
  {
   "cell_type": "code",
   "execution_count": 19,
   "metadata": {},
   "outputs": [
    {
     "data": {
      "text/html": [
       "<div>\n",
       "<style scoped>\n",
       "    .dataframe tbody tr th:only-of-type {\n",
       "        vertical-align: middle;\n",
       "    }\n",
       "\n",
       "    .dataframe tbody tr th {\n",
       "        vertical-align: top;\n",
       "    }\n",
       "\n",
       "    .dataframe thead th {\n",
       "        text-align: right;\n",
       "    }\n",
       "</style>\n",
       "<table border=\"1\" class=\"dataframe\">\n",
       "  <thead>\n",
       "    <tr style=\"text-align: right;\">\n",
       "      <th></th>\n",
       "      <th>magnitude</th>\n",
       "      <th>place</th>\n",
       "      <th>lon</th>\n",
       "      <th>lat</th>\n",
       "      <th>depth</th>\n",
       "      <th>datetime</th>\n",
       "    </tr>\n",
       "  </thead>\n",
       "  <tbody>\n",
       "    <tr>\n",
       "      <th>76</th>\n",
       "      <td>7.5</td>\n",
       "      <td>78km N of Palu, Indonesia</td>\n",
       "      <td>119.8401</td>\n",
       "      <td>-0.1781</td>\n",
       "      <td>10.0</td>\n",
       "      <td>28-09-2018 18:02:43</td>\n",
       "    </tr>\n",
       "  </tbody>\n",
       "</table>\n",
       "</div>"
      ],
      "text/plain": [
       "    magnitude                      place       lon     lat  depth  \\\n",
       "76        7.5  78km N of Palu, Indonesia  119.8401 -0.1781   10.0   \n",
       "\n",
       "               datetime  \n",
       "76  28-09-2018 18:02:43  "
      ]
     },
     "execution_count": 19,
     "metadata": {},
     "output_type": "execute_result"
    }
   ],
   "source": [
    "# check on the greatest earthquake\n",
    "earthquake_df[earthquake_df['magnitude'] == earthquake_df['magnitude'].max()]"
   ]
  },
  {
   "cell_type": "code",
   "execution_count": 20,
   "metadata": {},
   "outputs": [
    {
     "data": {
      "text/plain": [
       "Text(0.5,1,u'Earthquake between 2018-09-15 till 29-09-2018 00:22:24')"
      ]
     },
     "execution_count": 20,
     "metadata": {},
     "output_type": "execute_result"
    },
    {
     "data": {
      "image/png": "[encoded data removed]",
      "text/plain": [
       "<matplotlib.figure.Figure at 0xceab9b0>"
      ]
     },
     "metadata": {},
     "output_type": "display_data"
    }
   ],
   "source": [
    "# Check on the number of earthquake during the period\n",
    "import matplotlib.pyplot as plt\n",
    "%matplotlib inline\n",
    "\n",
    "earthquake_df['magnitude'].hist(bins=50)\n",
    "plt.xlabel(\"Reported Magnitude\")\n",
    "plt.ylabel(\"#OccurenceS\")\n",
    "plt.title(\"Earthquake between \"+urlStart+\" till \"+latestEQ)"
   ]
  },
  {
   "cell_type": "code",
   "execution_count": 21,
   "metadata": {},
   "outputs": [
    {
     "data": {
      "text/plain": [
       "<matplotlib.axes._subplots.AxesSubplot at 0xe016e10>"
      ]
     },
     "execution_count": 21,
     "metadata": {},
     "output_type": "execute_result"
    },
    {
     "data": {
      "image/png": "[encoded data removed]",
      "text/plain": [
       "<matplotlib.figure.Figure at 0xc68b668>"
      ]
     },
     "metadata": {},
     "output_type": "display_data"
    }
   ],
   "source": [
    "earthquake_df.boxplot(column='magnitude')"
   ]
  },
  {
   "cell_type": "markdown",
   "metadata": {},
   "source": [
    "Majority of the earthquakes were below 4.0 magnitude\n",
    "<br>and 2 on average"
   ]
  },
  {
   "cell_type": "code",
   "execution_count": 22,
   "metadata": {},
   "outputs": [
    {
     "data": {
      "text/html": [
       "<div>\n",
       "<style scoped>\n",
       "    .dataframe tbody tr th:only-of-type {\n",
       "        vertical-align: middle;\n",
       "    }\n",
       "\n",
       "    .dataframe tbody tr th {\n",
       "        vertical-align: top;\n",
       "    }\n",
       "\n",
       "    .dataframe thead th {\n",
       "        text-align: right;\n",
       "    }\n",
       "</style>\n",
       "<table border=\"1\" class=\"dataframe\">\n",
       "  <thead>\n",
       "    <tr style=\"text-align: right;\">\n",
       "      <th></th>\n",
       "      <th>magnitude</th>\n",
       "      <th>place</th>\n",
       "      <th>lon</th>\n",
       "      <th>lat</th>\n",
       "      <th>depth</th>\n",
       "      <th>datetime</th>\n",
       "      <th>Class</th>\n",
       "    </tr>\n",
       "  </thead>\n",
       "  <tbody>\n",
       "    <tr>\n",
       "      <th>0</th>\n",
       "      <td>1.90</td>\n",
       "      <td>91km NW of Arctic Village, Alaska</td>\n",
       "      <td>-147.295600</td>\n",
       "      <td>68.626900</td>\n",
       "      <td>0.00</td>\n",
       "      <td>29-09-2018 00:22:24</td>\n",
       "      <td>Not felt</td>\n",
       "    </tr>\n",
       "    <tr>\n",
       "      <th>1</th>\n",
       "      <td>0.72</td>\n",
       "      <td>7km NW of Aguanga, CA</td>\n",
       "      <td>-116.906830</td>\n",
       "      <td>33.491833</td>\n",
       "      <td>6.84</td>\n",
       "      <td>29-09-2018 00:19:51</td>\n",
       "      <td>Not felt</td>\n",
       "    </tr>\n",
       "    <tr>\n",
       "      <th>2</th>\n",
       "      <td>1.98</td>\n",
       "      <td>2km E of Pahala, Hawaii</td>\n",
       "      <td>-155.458832</td>\n",
       "      <td>19.205668</td>\n",
       "      <td>35.93</td>\n",
       "      <td>29-09-2018 00:15:12</td>\n",
       "      <td>Not felt</td>\n",
       "    </tr>\n",
       "    <tr>\n",
       "      <th>3</th>\n",
       "      <td>0.42</td>\n",
       "      <td>9km NE of Aguanga, CA</td>\n",
       "      <td>-116.788667</td>\n",
       "      <td>33.487833</td>\n",
       "      <td>3.70</td>\n",
       "      <td>29-09-2018 00:12:37</td>\n",
       "      <td>Not felt</td>\n",
       "    </tr>\n",
       "    <tr>\n",
       "      <th>4</th>\n",
       "      <td>2.30</td>\n",
       "      <td>15km NE of Noatak, Alaska</td>\n",
       "      <td>-162.699600</td>\n",
       "      <td>67.667900</td>\n",
       "      <td>7.80</td>\n",
       "      <td>29-09-2018 00:02:22</td>\n",
       "      <td>Not felt</td>\n",
       "    </tr>\n",
       "  </tbody>\n",
       "</table>\n",
       "</div>"
      ],
      "text/plain": [
       "   magnitude                              place         lon        lat  depth  \\\n",
       "0       1.90  91km NW of Arctic Village, Alaska -147.295600  68.626900   0.00   \n",
       "1       0.72              7km NW of Aguanga, CA -116.906830  33.491833   6.84   \n",
       "2       1.98            2km E of Pahala, Hawaii -155.458832  19.205668  35.93   \n",
       "3       0.42              9km NE of Aguanga, CA -116.788667  33.487833   3.70   \n",
       "4       2.30          15km NE of Noatak, Alaska -162.699600  67.667900   7.80   \n",
       "\n",
       "              datetime     Class  \n",
       "0  29-09-2018 00:22:24  Not felt  \n",
       "1  29-09-2018 00:19:51  Not felt  \n",
       "2  29-09-2018 00:15:12  Not felt  \n",
       "3  29-09-2018 00:12:37  Not felt  \n",
       "4  29-09-2018 00:02:22  Not felt  "
      ]
     },
     "execution_count": 22,
     "metadata": {},
     "output_type": "execute_result"
    }
   ],
   "source": [
    "# add mangnitude class label\n",
    "# ref: http://www.geo.mtu.edu/UPSeis/magnitude.html\n",
    "\n",
    "def addClass(mag):\n",
    "    if (mag>8):\n",
    "        return 'Great'\n",
    "    elif (mag>7):\n",
    "        return 'Major'\n",
    "    elif (mag>6):\n",
    "        return 'Strong'\n",
    "    elif (mag>5):\n",
    "        return 'Moderate'\n",
    "    elif (mag>4):\n",
    "        return 'Light'\n",
    "    elif (mag>3):\n",
    "        return 'Minor'\n",
    "    else:\n",
    "        return 'Not felt'\n",
    "\n",
    "earthquake_df['Class'] = earthquake_df['magnitude'].apply(addClass)\n",
    "earthquake_df.head()"
   ]
  },
  {
   "cell_type": "code",
   "execution_count": 23,
   "metadata": {},
   "outputs": [
    {
     "data": {
      "text/plain": [
       "<seaborn.axisgrid.FacetGrid at 0xe170f60>"
      ]
     },
     "execution_count": 23,
     "metadata": {},
     "output_type": "execute_result"
    },
    {
     "data": {
      "image/png": "[encoded data removed]",
      "text/plain": [
       "<matplotlib.figure.Figure at 0xddf4080>"
      ]
     },
     "metadata": {},
     "output_type": "display_data"
    }
   ],
   "source": [
    "import seaborn as sns\n",
    "sns.factorplot('Class',data=earthquake_df[earthquake_df['magnitude']>3],\n",
    "               kind='count',aspect=2)"
   ]
  },
  {
   "cell_type": "markdown",
   "metadata": {},
   "source": [
    "Majority are categorize as Not-felt\n",
    "<br>and we have occurance of Strong\n",
    "<br>let's check on it"
   ]
  },
  {
   "cell_type": "code",
   "execution_count": 24,
   "metadata": {},
   "outputs": [
    {
     "data": {
      "text/html": [
       "<div>\n",
       "<style scoped>\n",
       "    .dataframe tbody tr th:only-of-type {\n",
       "        vertical-align: middle;\n",
       "    }\n",
       "\n",
       "    .dataframe tbody tr th {\n",
       "        vertical-align: top;\n",
       "    }\n",
       "\n",
       "    .dataframe thead th {\n",
       "        text-align: right;\n",
       "    }\n",
       "</style>\n",
       "<table border=\"1\" class=\"dataframe\">\n",
       "  <thead>\n",
       "    <tr style=\"text-align: right;\">\n",
       "      <th></th>\n",
       "      <th>Class</th>\n",
       "      <th>counts</th>\n",
       "    </tr>\n",
       "  </thead>\n",
       "  <tbody>\n",
       "    <tr>\n",
       "      <th>0</th>\n",
       "      <td>Light</td>\n",
       "      <td>227</td>\n",
       "    </tr>\n",
       "    <tr>\n",
       "      <th>1</th>\n",
       "      <td>Major</td>\n",
       "      <td>1</td>\n",
       "    </tr>\n",
       "    <tr>\n",
       "      <th>2</th>\n",
       "      <td>Minor</td>\n",
       "      <td>104</td>\n",
       "    </tr>\n",
       "    <tr>\n",
       "      <th>3</th>\n",
       "      <td>Moderate</td>\n",
       "      <td>69</td>\n",
       "    </tr>\n",
       "    <tr>\n",
       "      <th>4</th>\n",
       "      <td>Not felt</td>\n",
       "      <td>4069</td>\n",
       "    </tr>\n",
       "    <tr>\n",
       "      <th>5</th>\n",
       "      <td>Strong</td>\n",
       "      <td>2</td>\n",
       "    </tr>\n",
       "  </tbody>\n",
       "</table>\n",
       "</div>"
      ],
      "text/plain": [
       "      Class  counts\n",
       "0     Light     227\n",
       "1     Major       1\n",
       "2     Minor     104\n",
       "3  Moderate      69\n",
       "4  Not felt    4069\n",
       "5    Strong       2"
      ]
     },
     "execution_count": 24,
     "metadata": {},
     "output_type": "execute_result"
    }
   ],
   "source": [
    "earthquake_df.groupby('Class').size().reset_index(name='counts')"
   ]
  },
  {
   "cell_type": "code",
   "execution_count": 25,
   "metadata": {},
   "outputs": [
    {
     "data": {
      "text/html": [
       "<div>\n",
       "<style scoped>\n",
       "    .dataframe tbody tr th:only-of-type {\n",
       "        vertical-align: middle;\n",
       "    }\n",
       "\n",
       "    .dataframe tbody tr th {\n",
       "        vertical-align: top;\n",
       "    }\n",
       "\n",
       "    .dataframe thead th {\n",
       "        text-align: right;\n",
       "    }\n",
       "</style>\n",
       "<table border=\"1\" class=\"dataframe\">\n",
       "  <thead>\n",
       "    <tr style=\"text-align: right;\">\n",
       "      <th></th>\n",
       "      <th>magnitude</th>\n",
       "      <th>place</th>\n",
       "      <th>lon</th>\n",
       "      <th>lat</th>\n",
       "      <th>depth</th>\n",
       "      <th>datetime</th>\n",
       "      <th>Class</th>\n",
       "    </tr>\n",
       "  </thead>\n",
       "  <tbody>\n",
       "    <tr>\n",
       "      <th>76</th>\n",
       "      <td>7.5</td>\n",
       "      <td>78km N of Palu, Indonesia</td>\n",
       "      <td>119.8401</td>\n",
       "      <td>-0.1781</td>\n",
       "      <td>10.00</td>\n",
       "      <td>28-09-2018 18:02:43</td>\n",
       "      <td>Major</td>\n",
       "    </tr>\n",
       "    <tr>\n",
       "      <th>118</th>\n",
       "      <td>6.1</td>\n",
       "      <td>55km NNW of Palu, Indonesia</td>\n",
       "      <td>119.7631</td>\n",
       "      <td>-0.3976</td>\n",
       "      <td>18.08</td>\n",
       "      <td>28-09-2018 15:00:01</td>\n",
       "      <td>Strong</td>\n",
       "    </tr>\n",
       "    <tr>\n",
       "      <th>3951</th>\n",
       "      <td>6.5</td>\n",
       "      <td>South of the Fiji Islands</td>\n",
       "      <td>178.2198</td>\n",
       "      <td>-25.4526</td>\n",
       "      <td>569.97</td>\n",
       "      <td>17-09-2018 05:11:48</td>\n",
       "      <td>Strong</td>\n",
       "    </tr>\n",
       "  </tbody>\n",
       "</table>\n",
       "</div>"
      ],
      "text/plain": [
       "      magnitude                        place       lon      lat   depth  \\\n",
       "76          7.5    78km N of Palu, Indonesia  119.8401  -0.1781   10.00   \n",
       "118         6.1  55km NNW of Palu, Indonesia  119.7631  -0.3976   18.08   \n",
       "3951        6.5    South of the Fiji Islands  178.2198 -25.4526  569.97   \n",
       "\n",
       "                 datetime   Class  \n",
       "76    28-09-2018 18:02:43   Major  \n",
       "118   28-09-2018 15:00:01  Strong  \n",
       "3951  17-09-2018 05:11:48  Strong  "
      ]
     },
     "execution_count": 25,
     "metadata": {},
     "output_type": "execute_result"
    }
   ],
   "source": [
    "# Strong > 6\n",
    "earthquake_df[earthquake_df['magnitude'] > 6]"
   ]
  },
  {
   "cell_type": "code",
   "execution_count": 27,
   "metadata": {},
   "outputs": [
    {
     "name": "stdout",
     "output_type": "stream",
     "text": [
      "greatest earthquake at 2018-09-26 12:33:26\n",
      "current timestamp = 2018-09-29 00:34:02.585000\n",
      "2 days ago\n"
     ]
    }
   ],
   "source": [
    "from datetime import datetime\n",
    "\n",
    "a = datetime.strptime(earthquake_df.iloc[804].datetime, \"%d-%m-%Y %H:%M:%S\")\n",
    "b = datetime.now()\n",
    "\n",
    "delta = b - a\n",
    "\n",
    "print 'greatest earthquake at %s' %a\n",
    "print 'current timestamp = %s' %b\n",
    "print '%s days ago' %delta.days"
   ]
  },
  {
   "cell_type": "code",
   "execution_count": 29,
   "metadata": {},
   "outputs": [],
   "source": [
    "# check distance\n",
    "\n",
    "import math\n",
    "\n",
    "def distance_between_coordinate(ln1,ln2,lt1,lt2):\n",
    "    ln_dist = ln2 - ln1\n",
    "    lt_dist = lt2 - lt1\n",
    "    \n",
    "    ln_dist_sq = ln_dist ** 2\n",
    "    lt_dist_sq = lt_dist ** 2\n",
    "    \n",
    "    hp_dis = math.sqrt(ln_dist_sq + lt_dist_sq)\n",
    "    \n",
    "    return hp_dis"
   ]
  },
  {
   "cell_type": "markdown",
   "metadata": {},
   "source": [
    "# Visualize data on the map"
   ]
  },
  {
   "cell_type": "code",
   "execution_count": 31,
   "metadata": {},
   "outputs": [
    {
     "data": {
      "image/png": "[encoded data removed]",
      "text/plain": [
       "<matplotlib.figure.Figure at 0x109ac390>"
      ]
     },
     "metadata": {},
     "output_type": "display_data"
    }
   ],
   "source": [
    "import geopandas as gpd\n",
    "from geopandas import GeoDataFrame\n",
    "from shapely.geometry import Point\n",
    "\n",
    "crs = {'init': 'epsg:4326'}\n",
    "world = gpd.read_file(gpd.datasets.get_path('naturalearth_lowres'))\n",
    "\n",
    "#world = world[world.name==\"Malaysia\"]\n",
    "from matplotlib import cm\n",
    "\n",
    "base = world.plot(figsize=(20,20),color='white', edgecolor='lightgrey')\n",
    "base.set_title(\"Earthquake between \"+urlStart+\" till \"+urlEnd)\n",
    "\n",
    "colorDict = {'Great': 'darkred', # >8\n",
    "             'Major': 'purple', # >7\n",
    "             'Strong': 'red', # >6\n",
    "             'Moderate': 'orange', # >5\n",
    "             'Light': 'yellow', # >4\n",
    "             'Minor': 'darkgreen', # >3\n",
    "             'Not felt': 'cyan' # <3\n",
    "            }\n",
    "\n",
    "#classType = ['Great','Major','Strong','Moderate','Light','Minor','Not felt']\n",
    "classType = ['Not felt','Minor','Light','Moderate','Strong','Major','Great']\n",
    "for cType in classType:\n",
    "    if(len(earthquake_df[earthquake_df['Class']==cType])>0):\n",
    "        subsetDF = earthquake_df[earthquake_df['Class']==cType]\n",
    "        geometry = [Point(xy) for xy in zip(subsetDF.lon, subsetDF .lat)]\n",
    "        subsetGDF = GeoDataFrame(subsetDF, crs=crs, geometry=geometry)\n",
    "    \n",
    "        subsetGDF.plot(ax=base, marker='.', color=colorDict[cType], markersize=100);"
   ]
  },
  {
   "cell_type": "code",
   "execution_count": null,
   "metadata": {},
   "outputs": [],
   "source": []
  }
 ],
 "metadata": {
  "kernelspec": {
   "display_name": "Python 2",
   "language": "python",
   "name": "python2"
  },
  "language_info": {
   "codemirror_mode": {
    "name": "ipython",
    "version": 2
   },
   "file_extension": ".py",
   "mimetype": "text/x-python",
   "name": "python",
   "nbconvert_exporter": "python",
   "pygments_lexer": "ipython2",
   "version": "2.7.14"
  }
 },
 "nbformat": 4,
 "nbformat_minor": 2
}
