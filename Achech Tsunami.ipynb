{
 "cells": [
  {
   "cell_type": "markdown",
   "metadata": {},
   "source": [
    "This analysis is following the recent disaster happened in Acheh, Indonesia on 26th December 2004\n",
    "<br>Data is collected from https://earthquake.usgs.gov\n",
    "<br>Filter applied to limit data based on coordinate,"
   ]
  },
  {
   "cell_type": "code",
   "execution_count": 1,
   "metadata": {},
   "outputs": [],
   "source": [
    "# Import required libraries\n",
    "import datetime\n",
    "import requests\n",
    "import json\n",
    "import pandas as pd\n",
    "from pandas.io.json import json_normalize"
   ]
  },
  {
   "cell_type": "markdown",
   "metadata": {},
   "source": [
    "# Data Collection"
   ]
  },
  {
   "cell_type": "code",
   "execution_count": 2,
   "metadata": {},
   "outputs": [],
   "source": [
    "# set the date as 6th December 2004\n",
    "# the program will loop for the number of iteration for a period of 30 days\n",
    "baseDate = '26 December 2004'\n",
    "rangeDate = 7    # we're collecting data 1 week before/after the baseDate\n",
    "\n",
    "# set the boundaries of location (covering South East Asia)\n",
    "latMin = -15\n",
    "latMax = 15\n",
    "lonMin = 90\n",
    "lonMax = 140"
   ]
  },
  {
   "cell_type": "code",
   "execution_count": 3,
   "metadata": {},
   "outputs": [],
   "source": [
    "# Custom function to record coordinate into separate lon/lat columns\n",
    "# input : the coordinate as [longitude, latitude, depth]\n",
    "# output : Series of lon/lat\n",
    "def splitCoordinate(coor):\n",
    "    lon,lat,elav = coor\n",
    "    \n",
    "    return pd.Series([lon,lat])"
   ]
  },
  {
   "cell_type": "code",
   "execution_count": 4,
   "metadata": {},
   "outputs": [
    {
     "data": {
      "text/html": [
       "<div>\n",
       "<style scoped>\n",
       "    .dataframe tbody tr th:only-of-type {\n",
       "        vertical-align: middle;\n",
       "    }\n",
       "\n",
       "    .dataframe tbody tr th {\n",
       "        vertical-align: top;\n",
       "    }\n",
       "\n",
       "    .dataframe thead th {\n",
       "        text-align: right;\n",
       "    }\n",
       "</style>\n",
       "<table border=\"1\" class=\"dataframe\">\n",
       "  <thead>\n",
       "    <tr style=\"text-align: right;\">\n",
       "      <th></th>\n",
       "      <th>geometry.coordinates</th>\n",
       "      <th>geometry.type</th>\n",
       "      <th>id</th>\n",
       "      <th>properties.alert</th>\n",
       "      <th>properties.cdi</th>\n",
       "      <th>properties.code</th>\n",
       "      <th>properties.detail</th>\n",
       "      <th>properties.dmin</th>\n",
       "      <th>properties.felt</th>\n",
       "      <th>properties.gap</th>\n",
       "      <th>...</th>\n",
       "      <th>properties.title</th>\n",
       "      <th>properties.tsunami</th>\n",
       "      <th>properties.type</th>\n",
       "      <th>properties.types</th>\n",
       "      <th>properties.tz</th>\n",
       "      <th>properties.updated</th>\n",
       "      <th>properties.url</th>\n",
       "      <th>type</th>\n",
       "      <th>lon</th>\n",
       "      <th>lat</th>\n",
       "    </tr>\n",
       "  </thead>\n",
       "  <tbody>\n",
       "    <tr>\n",
       "      <th>0</th>\n",
       "      <td>[96.486, 3.177, 30]</td>\n",
       "      <td>Point</td>\n",
       "      <td>usp000dcd2</td>\n",
       "      <td>None</td>\n",
       "      <td>NaN</td>\n",
       "      <td>p000dcd2</td>\n",
       "      <td>https://earthquake.usgs.gov/fdsnws/event/1/que...</td>\n",
       "      <td>NaN</td>\n",
       "      <td>NaN</td>\n",
       "      <td>90.1</td>\n",
       "      <td>...</td>\n",
       "      <td>M 4.9 - northern Sumatra, Indonesia</td>\n",
       "      <td>0</td>\n",
       "      <td>earthquake</td>\n",
       "      <td>,focal-mechanism,impact-text,moment-tensor,ori...</td>\n",
       "      <td>NaN</td>\n",
       "      <td>1478739450984</td>\n",
       "      <td>https://earthquake.usgs.gov/earthquakes/eventp...</td>\n",
       "      <td>Feature</td>\n",
       "      <td>96.486</td>\n",
       "      <td>3.177</td>\n",
       "    </tr>\n",
       "    <tr>\n",
       "      <th>1</th>\n",
       "      <td>[92.937, 5.707, 30]</td>\n",
       "      <td>Point</td>\n",
       "      <td>usp000dcd0</td>\n",
       "      <td>None</td>\n",
       "      <td>NaN</td>\n",
       "      <td>p000dcd0</td>\n",
       "      <td>https://earthquake.usgs.gov/fdsnws/event/1/que...</td>\n",
       "      <td>NaN</td>\n",
       "      <td>NaN</td>\n",
       "      <td>177.9</td>\n",
       "      <td>...</td>\n",
       "      <td>M 4.8 - off the west coast of northern Sumatra</td>\n",
       "      <td>0</td>\n",
       "      <td>earthquake</td>\n",
       "      <td>,impact-text,origin,phase-data,</td>\n",
       "      <td>NaN</td>\n",
       "      <td>1415323471887</td>\n",
       "      <td>https://earthquake.usgs.gov/earthquakes/eventp...</td>\n",
       "      <td>Feature</td>\n",
       "      <td>92.937</td>\n",
       "      <td>5.707</td>\n",
       "    </tr>\n",
       "    <tr>\n",
       "      <th>2</th>\n",
       "      <td>[93.344, 8.144, 30]</td>\n",
       "      <td>Point</td>\n",
       "      <td>usp000dccy</td>\n",
       "      <td>None</td>\n",
       "      <td>NaN</td>\n",
       "      <td>p000dccy</td>\n",
       "      <td>https://earthquake.usgs.gov/fdsnws/event/1/que...</td>\n",
       "      <td>NaN</td>\n",
       "      <td>NaN</td>\n",
       "      <td>101.1</td>\n",
       "      <td>...</td>\n",
       "      <td>M 4.9 - Nicobar Islands, India region</td>\n",
       "      <td>0</td>\n",
       "      <td>earthquake</td>\n",
       "      <td>,impact-text,origin,phase-data,</td>\n",
       "      <td>NaN</td>\n",
       "      <td>1415323471875</td>\n",
       "      <td>https://earthquake.usgs.gov/earthquakes/eventp...</td>\n",
       "      <td>Feature</td>\n",
       "      <td>93.344</td>\n",
       "      <td>8.144</td>\n",
       "    </tr>\n",
       "    <tr>\n",
       "      <th>3</th>\n",
       "      <td>[92.626, 9.026, 30]</td>\n",
       "      <td>Point</td>\n",
       "      <td>usp000dccv</td>\n",
       "      <td>None</td>\n",
       "      <td>NaN</td>\n",
       "      <td>p000dccv</td>\n",
       "      <td>https://earthquake.usgs.gov/fdsnws/event/1/que...</td>\n",
       "      <td>NaN</td>\n",
       "      <td>NaN</td>\n",
       "      <td>68.0</td>\n",
       "      <td>...</td>\n",
       "      <td>M 5.2 - Nicobar Islands, India region</td>\n",
       "      <td>0</td>\n",
       "      <td>earthquake</td>\n",
       "      <td>,focal-mechanism,impact-text,moment-tensor,ori...</td>\n",
       "      <td>NaN</td>\n",
       "      <td>1478739450475</td>\n",
       "      <td>https://earthquake.usgs.gov/earthquakes/eventp...</td>\n",
       "      <td>Feature</td>\n",
       "      <td>92.626</td>\n",
       "      <td>9.026</td>\n",
       "    </tr>\n",
       "    <tr>\n",
       "      <th>4</th>\n",
       "      <td>[92.765, 7.192, 10]</td>\n",
       "      <td>Point</td>\n",
       "      <td>usp000dccu</td>\n",
       "      <td>None</td>\n",
       "      <td>NaN</td>\n",
       "      <td>p000dccu</td>\n",
       "      <td>https://earthquake.usgs.gov/fdsnws/event/1/que...</td>\n",
       "      <td>NaN</td>\n",
       "      <td>NaN</td>\n",
       "      <td>58.2</td>\n",
       "      <td>...</td>\n",
       "      <td>M 5.5 - Nicobar Islands, India region</td>\n",
       "      <td>0</td>\n",
       "      <td>earthquake</td>\n",
       "      <td>,focal-mechanism,impact-text,moment-tensor,mom...</td>\n",
       "      <td>NaN</td>\n",
       "      <td>1478739449981</td>\n",
       "      <td>https://earthquake.usgs.gov/earthquakes/eventp...</td>\n",
       "      <td>Feature</td>\n",
       "      <td>92.765</td>\n",
       "      <td>7.192</td>\n",
       "    </tr>\n",
       "  </tbody>\n",
       "</table>\n",
       "<p>5 rows × 32 columns</p>\n",
       "</div>"
      ],
      "text/plain": [
       "  geometry.coordinates geometry.type          id properties.alert  \\\n",
       "0  [96.486, 3.177, 30]         Point  usp000dcd2             None   \n",
       "1  [92.937, 5.707, 30]         Point  usp000dcd0             None   \n",
       "2  [93.344, 8.144, 30]         Point  usp000dccy             None   \n",
       "3  [92.626, 9.026, 30]         Point  usp000dccv             None   \n",
       "4  [92.765, 7.192, 10]         Point  usp000dccu             None   \n",
       "\n",
       "   properties.cdi properties.code  \\\n",
       "0             NaN        p000dcd2   \n",
       "1             NaN        p000dcd0   \n",
       "2             NaN        p000dccy   \n",
       "3             NaN        p000dccv   \n",
       "4             NaN        p000dccu   \n",
       "\n",
       "                                   properties.detail  properties.dmin  \\\n",
       "0  https://earthquake.usgs.gov/fdsnws/event/1/que...              NaN   \n",
       "1  https://earthquake.usgs.gov/fdsnws/event/1/que...              NaN   \n",
       "2  https://earthquake.usgs.gov/fdsnws/event/1/que...              NaN   \n",
       "3  https://earthquake.usgs.gov/fdsnws/event/1/que...              NaN   \n",
       "4  https://earthquake.usgs.gov/fdsnws/event/1/que...              NaN   \n",
       "\n",
       "   properties.felt  properties.gap  ...    \\\n",
       "0              NaN            90.1  ...     \n",
       "1              NaN           177.9  ...     \n",
       "2              NaN           101.1  ...     \n",
       "3              NaN            68.0  ...     \n",
       "4              NaN            58.2  ...     \n",
       "\n",
       "                                 properties.title  properties.tsunami  \\\n",
       "0             M 4.9 - northern Sumatra, Indonesia                   0   \n",
       "1  M 4.8 - off the west coast of northern Sumatra                   0   \n",
       "2           M 4.9 - Nicobar Islands, India region                   0   \n",
       "3           M 5.2 - Nicobar Islands, India region                   0   \n",
       "4           M 5.5 - Nicobar Islands, India region                   0   \n",
       "\n",
       "  properties.type                                   properties.types  \\\n",
       "0      earthquake  ,focal-mechanism,impact-text,moment-tensor,ori...   \n",
       "1      earthquake                    ,impact-text,origin,phase-data,   \n",
       "2      earthquake                    ,impact-text,origin,phase-data,   \n",
       "3      earthquake  ,focal-mechanism,impact-text,moment-tensor,ori...   \n",
       "4      earthquake  ,focal-mechanism,impact-text,moment-tensor,mom...   \n",
       "\n",
       "  properties.tz  properties.updated  \\\n",
       "0           NaN       1478739450984   \n",
       "1           NaN       1415323471887   \n",
       "2           NaN       1415323471875   \n",
       "3           NaN       1478739450475   \n",
       "4           NaN       1478739449981   \n",
       "\n",
       "                                      properties.url     type     lon    lat  \n",
       "0  https://earthquake.usgs.gov/earthquakes/eventp...  Feature  96.486  3.177  \n",
       "1  https://earthquake.usgs.gov/earthquakes/eventp...  Feature  92.937  5.707  \n",
       "2  https://earthquake.usgs.gov/earthquakes/eventp...  Feature  93.344  8.144  \n",
       "3  https://earthquake.usgs.gov/earthquakes/eventp...  Feature  92.626  9.026  \n",
       "4  https://earthquake.usgs.gov/earthquakes/eventp...  Feature  92.765  7.192  \n",
       "\n",
       "[5 rows x 32 columns]"
      ]
     },
     "execution_count": 4,
     "metadata": {},
     "output_type": "execute_result"
    }
   ],
   "source": [
    "dt = datetime.datetime.strptime(baseDate, '%d %B %Y')\n",
    "\n",
    "startDate = dt - datetime.timedelta(days=rangeDate)\n",
    "endDate = dt + datetime.timedelta(days=rangeDate)\n",
    "\n",
    "# construct the url used to download the data\n",
    "urlStart = startDate.strftime(\"%Y-%m-%d\")\n",
    "urlEnd = endDate.strftime(\"%Y-%m-%d\")\n",
    "url = 'https://earthquake.usgs.gov/fdsnws/event/1/query?format=geojson&starttime='+urlStart+'&endtime='+urlEnd\n",
    "\n",
    "# submit the request\n",
    "resp = requests.get(url=url)\n",
    "data = resp.json()\n",
    "\n",
    "# process the JSON response\n",
    "block_df = json_normalize(data['features'])\n",
    "\n",
    "# create new column for lon/lat\n",
    "# so that we can scope the output only for the required region\n",
    "block_df[['lon','lat']] = block_df['geometry.coordinates'].apply(splitCoordinate)\n",
    "\n",
    "# define the boundaries based on lon/lat\n",
    "location_latitude = (block_df['lat'] > latMin) & (block_df['lat'] < latMax)\n",
    "location_longitude = (block_df['lon'] > lonMin) & (block_df['lon'] < lonMax)\n",
    "\n",
    "# filter the response only to have earthquake on selected region\n",
    "regional_df = block_df[ location_latitude & location_longitude ]\n",
    "\n",
    "# combine the filtered response into master dataframe\n",
    "master_df = pd.DataFrame()\n",
    "master_df = master_df.append(regional_df, ignore_index = True)\n",
    "\n",
    "master_df.head()"
   ]
  },
  {
   "cell_type": "markdown",
   "metadata": {},
   "source": [
    "# Process the Collected Data"
   ]
  },
  {
   "cell_type": "code",
   "execution_count": 5,
   "metadata": {},
   "outputs": [
    {
     "data": {
      "text/plain": [
       "(793, 32)"
      ]
     },
     "execution_count": 5,
     "metadata": {},
     "output_type": "execute_result"
    }
   ],
   "source": [
    "# Check on the shape of the dataframe, which give total data we collected\n",
    "master_df.shape"
   ]
  },
  {
   "cell_type": "markdown",
   "metadata": {},
   "source": [
    "<b>793 earthquakes</b> rocks the area within 1 week before and after 26th December 2004"
   ]
  },
  {
   "cell_type": "code",
   "execution_count": 6,
   "metadata": {},
   "outputs": [
    {
     "name": "stdout",
     "output_type": "stream",
     "text": [
      "<class 'pandas.core.frame.DataFrame'>\n",
      "RangeIndex: 793 entries, 0 to 792\n",
      "Data columns (total 32 columns):\n",
      "geometry.coordinates    793 non-null object\n",
      "geometry.type           793 non-null object\n",
      "id                      793 non-null object\n",
      "properties.alert        0 non-null object\n",
      "properties.cdi          5 non-null float64\n",
      "properties.code         793 non-null object\n",
      "properties.detail       793 non-null object\n",
      "properties.dmin         0 non-null float64\n",
      "properties.felt         5 non-null float64\n",
      "properties.gap          792 non-null float64\n",
      "properties.ids          793 non-null object\n",
      "properties.mag          793 non-null float64\n",
      "properties.magType      781 non-null object\n",
      "properties.mmi          15 non-null float64\n",
      "properties.net          793 non-null object\n",
      "properties.nst          792 non-null float64\n",
      "properties.place        793 non-null object\n",
      "properties.rms          792 non-null float64\n",
      "properties.sig          793 non-null int64\n",
      "properties.sources      793 non-null object\n",
      "properties.status       793 non-null object\n",
      "properties.time         793 non-null int64\n",
      "properties.title        793 non-null object\n",
      "properties.tsunami      793 non-null int64\n",
      "properties.type         793 non-null object\n",
      "properties.types        793 non-null object\n",
      "properties.tz           0 non-null float64\n",
      "properties.updated      793 non-null int64\n",
      "properties.url          793 non-null object\n",
      "type                    793 non-null object\n",
      "lon                     793 non-null float64\n",
      "lat                     793 non-null float64\n",
      "dtypes: float64(11), int64(4), object(17)\n",
      "memory usage: 198.3+ KB\n"
     ]
    }
   ],
   "source": [
    "# Check on the available columns\n",
    "master_df.info()"
   ]
  },
  {
   "cell_type": "markdown",
   "metadata": {},
   "source": [
    "For earthquake we probably interested to know:\n",
    "\n",
    "1. When it happened (date/time) --> properties.time\n",
    "2. What was the magnitude --> properties.mag\n",
    "3. Where it happened --> properties.place\n",
    "4. Coordinate so that it can be plotted --> geometry.coordinates\n",
    "\n",
    "Details of the availble data can be found from https://earthquake.usgs.gov/data/comcat/data-eventterms.php"
   ]
  },
  {
   "cell_type": "code",
   "execution_count": 7,
   "metadata": {},
   "outputs": [],
   "source": [
    "# make a copy of the original dataframe\n",
    "#earthquake_df = master_df[['geometry.coordinates','properties.mag','properties.place','properties.time','lon','lat']].copy()\n",
    "earthquake_df = master_df.copy()"
   ]
  },
  {
   "cell_type": "code",
   "execution_count": 8,
   "metadata": {},
   "outputs": [
    {
     "name": "stdout",
     "output_type": "stream",
     "text": [
      "Converted\t: 0    02-01-2005\n",
      "1      07:40:29\n",
      "dtype: object\n"
     ]
    }
   ],
   "source": [
    "# Times are reported in milliseconds since the epoch, and provided in UTC\n",
    "# good to convert this into human readable format\n",
    "\n",
    "def convertEpochToReadable(dt):\n",
    "    time1 = float(dt/1000)\n",
    "    dt_date = datetime.datetime.fromtimestamp(time1).strftime('%d-%m-%Y')\n",
    "    dt_time = datetime.datetime.fromtimestamp(time1).strftime('%H:%M:%S')\n",
    "    \n",
    "    return pd.Series([dt_date, dt_time])\n",
    "\n",
    "print 'Converted\\t:',convertEpochToReadable(master_df['properties.time'][0])"
   ]
  },
  {
   "cell_type": "code",
   "execution_count": 9,
   "metadata": {},
   "outputs": [
    {
     "data": {
      "text/html": [
       "<div>\n",
       "<style scoped>\n",
       "    .dataframe tbody tr th:only-of-type {\n",
       "        vertical-align: middle;\n",
       "    }\n",
       "\n",
       "    .dataframe tbody tr th {\n",
       "        vertical-align: top;\n",
       "    }\n",
       "\n",
       "    .dataframe thead th {\n",
       "        text-align: right;\n",
       "    }\n",
       "</style>\n",
       "<table border=\"1\" class=\"dataframe\">\n",
       "  <thead>\n",
       "    <tr style=\"text-align: right;\">\n",
       "      <th></th>\n",
       "      <th>geometry.coordinates</th>\n",
       "      <th>geometry.type</th>\n",
       "      <th>id</th>\n",
       "      <th>properties.alert</th>\n",
       "      <th>properties.cdi</th>\n",
       "      <th>properties.code</th>\n",
       "      <th>properties.detail</th>\n",
       "      <th>properties.dmin</th>\n",
       "      <th>properties.felt</th>\n",
       "      <th>properties.gap</th>\n",
       "      <th>...</th>\n",
       "      <th>properties.type</th>\n",
       "      <th>properties.types</th>\n",
       "      <th>properties.tz</th>\n",
       "      <th>properties.updated</th>\n",
       "      <th>properties.url</th>\n",
       "      <th>type</th>\n",
       "      <th>lon</th>\n",
       "      <th>lat</th>\n",
       "      <th>date</th>\n",
       "      <th>time</th>\n",
       "    </tr>\n",
       "  </thead>\n",
       "  <tbody>\n",
       "    <tr>\n",
       "      <th>0</th>\n",
       "      <td>[96.486, 3.177, 30]</td>\n",
       "      <td>Point</td>\n",
       "      <td>usp000dcd2</td>\n",
       "      <td>None</td>\n",
       "      <td>NaN</td>\n",
       "      <td>p000dcd2</td>\n",
       "      <td>https://earthquake.usgs.gov/fdsnws/event/1/que...</td>\n",
       "      <td>NaN</td>\n",
       "      <td>NaN</td>\n",
       "      <td>90.1</td>\n",
       "      <td>...</td>\n",
       "      <td>earthquake</td>\n",
       "      <td>,focal-mechanism,impact-text,moment-tensor,ori...</td>\n",
       "      <td>NaN</td>\n",
       "      <td>1478739450984</td>\n",
       "      <td>https://earthquake.usgs.gov/earthquakes/eventp...</td>\n",
       "      <td>Feature</td>\n",
       "      <td>96.486</td>\n",
       "      <td>3.177</td>\n",
       "      <td>02-01-2005</td>\n",
       "      <td>07:40:29</td>\n",
       "    </tr>\n",
       "    <tr>\n",
       "      <th>1</th>\n",
       "      <td>[92.937, 5.707, 30]</td>\n",
       "      <td>Point</td>\n",
       "      <td>usp000dcd0</td>\n",
       "      <td>None</td>\n",
       "      <td>NaN</td>\n",
       "      <td>p000dcd0</td>\n",
       "      <td>https://earthquake.usgs.gov/fdsnws/event/1/que...</td>\n",
       "      <td>NaN</td>\n",
       "      <td>NaN</td>\n",
       "      <td>177.9</td>\n",
       "      <td>...</td>\n",
       "      <td>earthquake</td>\n",
       "      <td>,impact-text,origin,phase-data,</td>\n",
       "      <td>NaN</td>\n",
       "      <td>1415323471887</td>\n",
       "      <td>https://earthquake.usgs.gov/earthquakes/eventp...</td>\n",
       "      <td>Feature</td>\n",
       "      <td>92.937</td>\n",
       "      <td>5.707</td>\n",
       "      <td>02-01-2005</td>\n",
       "      <td>07:11:22</td>\n",
       "    </tr>\n",
       "    <tr>\n",
       "      <th>2</th>\n",
       "      <td>[93.344, 8.144, 30]</td>\n",
       "      <td>Point</td>\n",
       "      <td>usp000dccy</td>\n",
       "      <td>None</td>\n",
       "      <td>NaN</td>\n",
       "      <td>p000dccy</td>\n",
       "      <td>https://earthquake.usgs.gov/fdsnws/event/1/que...</td>\n",
       "      <td>NaN</td>\n",
       "      <td>NaN</td>\n",
       "      <td>101.1</td>\n",
       "      <td>...</td>\n",
       "      <td>earthquake</td>\n",
       "      <td>,impact-text,origin,phase-data,</td>\n",
       "      <td>NaN</td>\n",
       "      <td>1415323471875</td>\n",
       "      <td>https://earthquake.usgs.gov/earthquakes/eventp...</td>\n",
       "      <td>Feature</td>\n",
       "      <td>93.344</td>\n",
       "      <td>8.144</td>\n",
       "      <td>02-01-2005</td>\n",
       "      <td>06:57:33</td>\n",
       "    </tr>\n",
       "    <tr>\n",
       "      <th>3</th>\n",
       "      <td>[92.626, 9.026, 30]</td>\n",
       "      <td>Point</td>\n",
       "      <td>usp000dccv</td>\n",
       "      <td>None</td>\n",
       "      <td>NaN</td>\n",
       "      <td>p000dccv</td>\n",
       "      <td>https://earthquake.usgs.gov/fdsnws/event/1/que...</td>\n",
       "      <td>NaN</td>\n",
       "      <td>NaN</td>\n",
       "      <td>68.0</td>\n",
       "      <td>...</td>\n",
       "      <td>earthquake</td>\n",
       "      <td>,focal-mechanism,impact-text,moment-tensor,ori...</td>\n",
       "      <td>NaN</td>\n",
       "      <td>1478739450475</td>\n",
       "      <td>https://earthquake.usgs.gov/earthquakes/eventp...</td>\n",
       "      <td>Feature</td>\n",
       "      <td>92.626</td>\n",
       "      <td>9.026</td>\n",
       "      <td>02-01-2005</td>\n",
       "      <td>06:40:51</td>\n",
       "    </tr>\n",
       "    <tr>\n",
       "      <th>4</th>\n",
       "      <td>[92.765, 7.192, 10]</td>\n",
       "      <td>Point</td>\n",
       "      <td>usp000dccu</td>\n",
       "      <td>None</td>\n",
       "      <td>NaN</td>\n",
       "      <td>p000dccu</td>\n",
       "      <td>https://earthquake.usgs.gov/fdsnws/event/1/que...</td>\n",
       "      <td>NaN</td>\n",
       "      <td>NaN</td>\n",
       "      <td>58.2</td>\n",
       "      <td>...</td>\n",
       "      <td>earthquake</td>\n",
       "      <td>,focal-mechanism,impact-text,moment-tensor,mom...</td>\n",
       "      <td>NaN</td>\n",
       "      <td>1478739449981</td>\n",
       "      <td>https://earthquake.usgs.gov/earthquakes/eventp...</td>\n",
       "      <td>Feature</td>\n",
       "      <td>92.765</td>\n",
       "      <td>7.192</td>\n",
       "      <td>02-01-2005</td>\n",
       "      <td>06:28:13</td>\n",
       "    </tr>\n",
       "  </tbody>\n",
       "</table>\n",
       "<p>5 rows × 34 columns</p>\n",
       "</div>"
      ],
      "text/plain": [
       "  geometry.coordinates geometry.type          id properties.alert  \\\n",
       "0  [96.486, 3.177, 30]         Point  usp000dcd2             None   \n",
       "1  [92.937, 5.707, 30]         Point  usp000dcd0             None   \n",
       "2  [93.344, 8.144, 30]         Point  usp000dccy             None   \n",
       "3  [92.626, 9.026, 30]         Point  usp000dccv             None   \n",
       "4  [92.765, 7.192, 10]         Point  usp000dccu             None   \n",
       "\n",
       "   properties.cdi properties.code  \\\n",
       "0             NaN        p000dcd2   \n",
       "1             NaN        p000dcd0   \n",
       "2             NaN        p000dccy   \n",
       "3             NaN        p000dccv   \n",
       "4             NaN        p000dccu   \n",
       "\n",
       "                                   properties.detail  properties.dmin  \\\n",
       "0  https://earthquake.usgs.gov/fdsnws/event/1/que...              NaN   \n",
       "1  https://earthquake.usgs.gov/fdsnws/event/1/que...              NaN   \n",
       "2  https://earthquake.usgs.gov/fdsnws/event/1/que...              NaN   \n",
       "3  https://earthquake.usgs.gov/fdsnws/event/1/que...              NaN   \n",
       "4  https://earthquake.usgs.gov/fdsnws/event/1/que...              NaN   \n",
       "\n",
       "   properties.felt  properties.gap    ...    properties.type  \\\n",
       "0              NaN            90.1    ...         earthquake   \n",
       "1              NaN           177.9    ...         earthquake   \n",
       "2              NaN           101.1    ...         earthquake   \n",
       "3              NaN            68.0    ...         earthquake   \n",
       "4              NaN            58.2    ...         earthquake   \n",
       "\n",
       "                                    properties.types properties.tz  \\\n",
       "0  ,focal-mechanism,impact-text,moment-tensor,ori...           NaN   \n",
       "1                    ,impact-text,origin,phase-data,           NaN   \n",
       "2                    ,impact-text,origin,phase-data,           NaN   \n",
       "3  ,focal-mechanism,impact-text,moment-tensor,ori...           NaN   \n",
       "4  ,focal-mechanism,impact-text,moment-tensor,mom...           NaN   \n",
       "\n",
       "   properties.updated                                     properties.url  \\\n",
       "0       1478739450984  https://earthquake.usgs.gov/earthquakes/eventp...   \n",
       "1       1415323471887  https://earthquake.usgs.gov/earthquakes/eventp...   \n",
       "2       1415323471875  https://earthquake.usgs.gov/earthquakes/eventp...   \n",
       "3       1478739450475  https://earthquake.usgs.gov/earthquakes/eventp...   \n",
       "4       1478739449981  https://earthquake.usgs.gov/earthquakes/eventp...   \n",
       "\n",
       "      type     lon    lat        date      time  \n",
       "0  Feature  96.486  3.177  02-01-2005  07:40:29  \n",
       "1  Feature  92.937  5.707  02-01-2005  07:11:22  \n",
       "2  Feature  93.344  8.144  02-01-2005  06:57:33  \n",
       "3  Feature  92.626  9.026  02-01-2005  06:40:51  \n",
       "4  Feature  92.765  7.192  02-01-2005  06:28:13  \n",
       "\n",
       "[5 rows x 34 columns]"
      ]
     },
     "execution_count": 9,
     "metadata": {},
     "output_type": "execute_result"
    }
   ],
   "source": [
    "# apply the function\n",
    "earthquake_df[['date','time']] = earthquake_df['properties.time'].apply(convertEpochToReadable)\n",
    "earthquake_df.head()"
   ]
  },
  {
   "cell_type": "code",
   "execution_count": 10,
   "metadata": {},
   "outputs": [
    {
     "data": {
      "text/html": [
       "<div>\n",
       "<style scoped>\n",
       "    .dataframe tbody tr th:only-of-type {\n",
       "        vertical-align: middle;\n",
       "    }\n",
       "\n",
       "    .dataframe tbody tr th {\n",
       "        vertical-align: top;\n",
       "    }\n",
       "\n",
       "    .dataframe thead th {\n",
       "        text-align: right;\n",
       "    }\n",
       "</style>\n",
       "<table border=\"1\" class=\"dataframe\">\n",
       "  <thead>\n",
       "    <tr style=\"text-align: right;\">\n",
       "      <th></th>\n",
       "      <th>properties.mag</th>\n",
       "      <th>Class</th>\n",
       "    </tr>\n",
       "  </thead>\n",
       "  <tbody>\n",
       "    <tr>\n",
       "      <th>0</th>\n",
       "      <td>4.9</td>\n",
       "      <td>Light</td>\n",
       "    </tr>\n",
       "    <tr>\n",
       "      <th>1</th>\n",
       "      <td>4.8</td>\n",
       "      <td>Light</td>\n",
       "    </tr>\n",
       "    <tr>\n",
       "      <th>2</th>\n",
       "      <td>4.9</td>\n",
       "      <td>Light</td>\n",
       "    </tr>\n",
       "    <tr>\n",
       "      <th>3</th>\n",
       "      <td>5.2</td>\n",
       "      <td>Moderate</td>\n",
       "    </tr>\n",
       "    <tr>\n",
       "      <th>4</th>\n",
       "      <td>5.5</td>\n",
       "      <td>Moderate</td>\n",
       "    </tr>\n",
       "    <tr>\n",
       "      <th>5</th>\n",
       "      <td>5.1</td>\n",
       "      <td>Moderate</td>\n",
       "    </tr>\n",
       "  </tbody>\n",
       "</table>\n",
       "</div>"
      ],
      "text/plain": [
       "   properties.mag     Class\n",
       "0             4.9     Light\n",
       "1             4.8     Light\n",
       "2             4.9     Light\n",
       "3             5.2  Moderate\n",
       "4             5.5  Moderate\n",
       "5             5.1  Moderate"
      ]
     },
     "execution_count": 10,
     "metadata": {},
     "output_type": "execute_result"
    }
   ],
   "source": [
    "# add mangnitude class label\n",
    "# ref: http://www.geo.mtu.edu/UPSeis/magnitude.html\n",
    "\n",
    "def addClass(mag):\n",
    "    if (mag>=8):\n",
    "        return 'Great'\n",
    "    elif (mag>=7):\n",
    "        return 'Major'\n",
    "    elif (mag>=6):\n",
    "        return 'Strong'\n",
    "    elif (mag>=5):\n",
    "        return 'Moderate'\n",
    "    elif (mag>=4):\n",
    "        return 'Light'\n",
    "    elif (mag>=3):\n",
    "        return 'Minor'\n",
    "    else:\n",
    "        return 'Not felt'\n",
    "\n",
    "# Apply the class on the dataframe\n",
    "earthquake_df['Class'] = earthquake_df['properties.mag'].apply(addClass)\n",
    "\n",
    "# Inspect the modified dataframe\n",
    "earthquake_df.loc[0:5,['properties.mag','Class']]"
   ]
  },
  {
   "cell_type": "code",
   "execution_count": 11,
   "metadata": {},
   "outputs": [],
   "source": [
    "# export to CSV\n",
    "filename = 'E:\\DataScience\\Jupyter\\Earthquake\\\\data\\\\regional-' + str(urlStart) + '-' + str(urlEnd) + '.csv'\n",
    "earthquake_df.to_csv(filename)"
   ]
  },
  {
   "cell_type": "markdown",
   "metadata": {},
   "source": [
    "# Visualize the Data"
   ]
  },
  {
   "cell_type": "code",
   "execution_count": 15,
   "metadata": {},
   "outputs": [
    {
     "data": {
      "image/png": "[encoded data removed]",
      "text/plain": [
       "<matplotlib.figure.Figure at 0xc7299e8>"
      ]
     },
     "metadata": {},
     "output_type": "display_data"
    }
   ],
   "source": [
    "# let's plot on the map\n",
    "import geopandas as gpd\n",
    "from geopandas import GeoDataFrame\n",
    "from shapely.geometry import Point\n",
    "\n",
    "crs = {'init': 'epsg:4326'}\n",
    "world = gpd.read_file(gpd.datasets.get_path('naturalearth_lowres'))\n",
    "\n",
    "world = world[(world.name==\"Indonesia\") | (world.name==\"Philippines\") \\\n",
    "              | (world.name==\"Malaysia\") | (world.name==\"Brunei\") \\\n",
    "              | (world.name==\"Brunei\") | (world.name==\"Thailand\")]\n",
    "\n",
    "from matplotlib import cm\n",
    "\n",
    "base = world.plot(figsize=(20,20),color='white', edgecolor='black')\n",
    "base.set_title(\"Earthquake between \"+urlStart+\" till \"+urlEnd)\n",
    "\n",
    "colorDict = {'Great': 'darkred', # >8\n",
    "             'Major': 'purple', # >7\n",
    "             'Strong': 'red', # >6\n",
    "             'Moderate': 'orange', # >5\n",
    "             'Light': 'yellow', # >4\n",
    "             'Minor': 'darkgreen', # >3\n",
    "             'Not felt': 'cyan' # <3\n",
    "            }\n",
    "\n",
    "classType = ['Not felt','Minor','Light','Moderate','Strong','Major','Great']\n",
    "#classType = ['Moderate','Strong','Major','Great']\n",
    "for cType in classType:\n",
    "    if(len(earthquake_df[earthquake_df['Class']==cType])>0):\n",
    "        subsetDF = earthquake_df[earthquake_df['Class']==cType]\n",
    "        geometry = [Point(xy) for xy in zip(subsetDF.lon, subsetDF .lat)]\n",
    "        subsetGDF = GeoDataFrame(subsetDF, crs=crs, geometry=geometry)\n",
    "    \n",
    "        subsetGDF.plot(ax=base, marker='.', color=colorDict[cType], markersize=100);"
   ]
  },
  {
   "cell_type": "markdown",
   "metadata": {},
   "source": [
    "From the map, we can see many occurance of earthquakes around the same area in Northen Acheh.\n",
    "<br>Let's focus only on that area, filter by coordinates."
   ]
  },
  {
   "cell_type": "markdown",
   "metadata": {},
   "source": [
    "# Inspect only area of focus"
   ]
  },
  {
   "cell_type": "code",
   "execution_count": 13,
   "metadata": {},
   "outputs": [],
   "source": [
    "# Create a copy of dataframe with only covering the Northen Acheh area\n",
    "# Roughly get the boundaries from the map above\n",
    "location_latitude = (earthquake_df['lat'] > -5) & (earthquake_df['lat'] < 20)\n",
    "location_longitude = (earthquake_df['lon'] > 80) & (earthquake_df['lon'] < 100)\n",
    "\n",
    "acheh_df = earthquake_df[location_latitude & location_longitude].copy()"
   ]
  },
  {
   "cell_type": "code",
   "execution_count": 14,
   "metadata": {},
   "outputs": [],
   "source": [
    "import matplotlib.pyplot as plt\n",
    "import seaborn as sns\n",
    "%matplotlib inline"
   ]
  },
  {
   "cell_type": "code",
   "execution_count": 16,
   "metadata": {},
   "outputs": [
    {
     "data": {
      "image/png": "[encoded data removed]",
      "text/plain": [
       "<matplotlib.figure.Figure at 0x1390f9b0>"
      ]
     },
     "metadata": {},
     "output_type": "display_data"
    }
   ],
   "source": [
    "# Just plot into xy-plane to check on the earthquake as we intended\n",
    "markerDict = {'Great': 'ro', # >8 red\n",
    "             'Major': 'mo', # >7 magenta\n",
    "             'Strong': 'yo', # >6 yellow\n",
    "             'Moderate': 'go', # >5 green\n",
    "             'Light': 'bo', # >4 blue\n",
    "             'Minor': 'co', # >3 minor\n",
    "             'Not felt': 'wo' # <3 white\n",
    "            }\n",
    "\n",
    "for cls in acheh_df.Class.unique():\n",
    "    clscFilter = acheh_df['Class']==cls\n",
    "    plt.plot(acheh_df[clscFilter].lon,acheh_df[clscFilter].lat, markerDict[cls],markersize=3)"
   ]
  },
  {
   "cell_type": "code",
   "execution_count": 17,
   "metadata": {},
   "outputs": [
    {
     "data": {
      "text/plain": [
       "Text(0.5,1,u'Number of earthquake by day')"
      ]
     },
     "execution_count": 17,
     "metadata": {},
     "output_type": "execute_result"
    },
    {
     "data": {
      "image/png": "[encoded data removed]",
      "text/plain": [
       "<matplotlib.figure.Figure at 0x13842cf8>"
      ]
     },
     "metadata": {},
     "output_type": "display_data"
    }
   ],
   "source": [
    "# Check the count by day\n",
    "\n",
    "sns.factorplot('date',data=acheh_df.sort_values(by='properties.time', ascending=1),kind='count',\n",
    "               orient=\"h\",aspect=4,legend=True)\n",
    "\n",
    "plt.xticks(rotation=70)\n",
    "plt.title(\"Number of earthquake by day\")"
   ]
  },
  {
   "cell_type": "code",
   "execution_count": 18,
   "metadata": {},
   "outputs": [
    {
     "data": {
      "text/plain": [
       "date\n",
       "01-01-2005     27\n",
       "02-01-2005     12\n",
       "20-12-2004      1\n",
       "25-12-2004      1\n",
       "26-12-2004    170\n",
       "27-12-2004    276\n",
       "28-12-2004    119\n",
       "29-12-2004     46\n",
       "30-12-2004     38\n",
       "31-12-2004     39\n",
       "Name: geometry.coordinates, dtype: int64"
      ]
     },
     "execution_count": 18,
     "metadata": {},
     "output_type": "execute_result"
    }
   ],
   "source": [
    "acheh_df.groupby(['date'])['geometry.coordinates'].nunique()"
   ]
  },
  {
   "cell_type": "markdown",
   "metadata": {},
   "source": [
    "27 December recorded the most earthquakes that hit the area.\n",
    "<br>Also there were significant number of earquakes a day before and after.\n",
    "<br>Let's plot the earthquake for these 3 days, and illustrate the magnitude level"
   ]
  },
  {
   "cell_type": "code",
   "execution_count": 19,
   "metadata": {},
   "outputs": [
    {
     "data": {
      "text/plain": [
       "Text(0.5,1,u'Number of earthquakes between 26-29 December')"
      ]
     },
     "execution_count": 19,
     "metadata": {},
     "output_type": "execute_result"
    },
    {
     "data": {
      "image/png": "[encoded data removed]",
      "text/plain": [
       "<matplotlib.figure.Figure at 0x13ac1278>"
      ]
     },
     "metadata": {},
     "output_type": "display_data"
    }
   ],
   "source": [
    "# High volume happened between 26-29 December 2004\n",
    "\n",
    "dateFilter = (acheh_df['date']>='26-12-2004') & (acheh_df['date']<'29-12-2004')\n",
    "\n",
    "classPalette = sns.color_palette(\"YlOrRd\", earthquake_df['Class'].nunique())\n",
    "sns.set_palette(classPalette)\n",
    "\n",
    "sns.factorplot('date',data=acheh_df[dateFilter].sort_values(by='properties.time', ascending=1),hue='Class',kind='count',\n",
    "               orient=\"h\",aspect=4,legend=True,hue_order = ['Not felt','Minor','Light','Moderate','Strong','Major','Great'])\n",
    "\n",
    "plt.xticks(rotation=70)\n",
    "plt.title(\"Number of earthquakes between 26-29 December\")"
   ]
  },
  {
   "cell_type": "markdown",
   "metadata": {},
   "source": [
    "Because of high volume of Light earthquakes on 27 December,\n",
    "<br>we can't clearly see the major earthquakes.\n",
    "<br>Let's check on the count in tabular format"
   ]
  },
  {
   "cell_type": "code",
   "execution_count": 20,
   "metadata": {},
   "outputs": [
    {
     "data": {
      "text/plain": [
       "date        Class   \n",
       "26-12-2004  Great         1\n",
       "            Light        48\n",
       "            Major         1\n",
       "            Moderate    111\n",
       "            Strong        9\n",
       "27-12-2004  Light       216\n",
       "            Minor         5\n",
       "            Moderate     45\n",
       "            Not felt      8\n",
       "            Strong        2\n",
       "28-12-2004  Light        85\n",
       "            Minor         3\n",
       "            Moderate     27\n",
       "            Not felt      4\n",
       "Name: geometry.coordinates, dtype: int64"
      ]
     },
     "execution_count": 20,
     "metadata": {},
     "output_type": "execute_result"
    }
   ],
   "source": [
    "dateFilter = (acheh_df['date']>='26-12-2004') & (acheh_df['date']<'29-12-2004')\n",
    "acheh_df[dateFilter].groupby(['date','Class'])['geometry.coordinates'].nunique()"
   ]
  },
  {
   "cell_type": "markdown",
   "metadata": {},
   "source": [
    "The area was hit by major earthquakes on 26th, with 11 earthquakes with magnitude >=6 (Strong/Major/Great)\n",
    "<br>Let's visualize these on xy-plot"
   ]
  },
  {
   "cell_type": "markdown",
   "metadata": {},
   "source": [
    "# What happened on 26th December"
   ]
  },
  {
   "cell_type": "code",
   "execution_count": 21,
   "metadata": {},
   "outputs": [
    {
     "data": {
      "image/png": "[encoded data removed]",
      "text/plain": [
       "<matplotlib.figure.Figure at 0xcf90048>"
      ]
     },
     "metadata": {},
     "output_type": "display_data"
    }
   ],
   "source": [
    "plt.figure(figsize=(15,5))\n",
    "\n",
    "magnFilter = acheh_df['properties.mag']>=5\n",
    "dateFilter = acheh_df['date']=='26-12-2004'\n",
    "\n",
    "plt.plot(acheh_df[dateFilter]['time'],\n",
    "        acheh_df[dateFilter]['properties.mag'],\n",
    "         '+k',markersize=10) # black cross\n",
    "\n",
    "plt.xticks(rotation=70)\n",
    "plt.xlabel(\"time\")\n",
    "plt.ylabel(\"magnitude\")\n",
    "plt.title(\"Earthquake hit Acheh on 26 December 2004\")\n",
    "\n",
    "plt.show()"
   ]
  },
  {
   "cell_type": "markdown",
   "metadata": {},
   "source": [
    "On 26th December, the area was hit by M9.1 earthquake at 8:58 am\n",
    "<br>Followed by series of earthquake throughout the day.\n",
    "<br>From previous line, we found >100 earthquake hit the area on that day\n",
    "<br>11 with M>=6 and 159 with 4<M<6"
   ]
  },
  {
   "cell_type": "code",
   "execution_count": 22,
   "metadata": {},
   "outputs": [
    {
     "data": {
      "text/html": [
       "<div>\n",
       "<style scoped>\n",
       "    .dataframe tbody tr th:only-of-type {\n",
       "        vertical-align: middle;\n",
       "    }\n",
       "\n",
       "    .dataframe tbody tr th {\n",
       "        vertical-align: top;\n",
       "    }\n",
       "\n",
       "    .dataframe thead th {\n",
       "        text-align: right;\n",
       "    }\n",
       "</style>\n",
       "<table border=\"1\" class=\"dataframe\">\n",
       "  <thead>\n",
       "    <tr style=\"text-align: right;\">\n",
       "      <th></th>\n",
       "      <th>properties.place</th>\n",
       "      <th>date</th>\n",
       "      <th>time</th>\n",
       "      <th>Class</th>\n",
       "      <th>properties.mag</th>\n",
       "    </tr>\n",
       "  </thead>\n",
       "  <tbody>\n",
       "    <tr>\n",
       "      <th>741</th>\n",
       "      <td>off the west coast of northern Sumatra</td>\n",
       "      <td>26-12-2004</td>\n",
       "      <td>08:58:53</td>\n",
       "      <td>Great</td>\n",
       "      <td>9.1</td>\n",
       "    </tr>\n",
       "    <tr>\n",
       "      <th>739</th>\n",
       "      <td>Nicobar Islands, India region</td>\n",
       "      <td>26-12-2004</td>\n",
       "      <td>09:21:20</td>\n",
       "      <td>Strong</td>\n",
       "      <td>6.1</td>\n",
       "    </tr>\n",
       "    <tr>\n",
       "      <th>738</th>\n",
       "      <td>Nicobar Islands, India region</td>\n",
       "      <td>26-12-2004</td>\n",
       "      <td>09:22:25</td>\n",
       "      <td>Strong</td>\n",
       "      <td>6.0</td>\n",
       "    </tr>\n",
       "    <tr>\n",
       "      <th>737</th>\n",
       "      <td>northern Sumatra, Indonesia</td>\n",
       "      <td>26-12-2004</td>\n",
       "      <td>09:25:48</td>\n",
       "      <td>Strong</td>\n",
       "      <td>6.1</td>\n",
       "    </tr>\n",
       "    <tr>\n",
       "      <th>730</th>\n",
       "      <td>Nicobar Islands, India region</td>\n",
       "      <td>26-12-2004</td>\n",
       "      <td>10:00:40</td>\n",
       "      <td>Strong</td>\n",
       "      <td>6.0</td>\n",
       "    </tr>\n",
       "    <tr>\n",
       "      <th>688</th>\n",
       "      <td>Nicobar Islands, India region</td>\n",
       "      <td>26-12-2004</td>\n",
       "      <td>12:21:29</td>\n",
       "      <td>Major</td>\n",
       "      <td>7.2</td>\n",
       "    </tr>\n",
       "    <tr>\n",
       "      <th>653</th>\n",
       "      <td>Nicobar Islands, India region</td>\n",
       "      <td>26-12-2004</td>\n",
       "      <td>15:51:17</td>\n",
       "      <td>Strong</td>\n",
       "      <td>6.0</td>\n",
       "    </tr>\n",
       "    <tr>\n",
       "      <th>640</th>\n",
       "      <td>Nicobar Islands, India region</td>\n",
       "      <td>26-12-2004</td>\n",
       "      <td>17:20:01</td>\n",
       "      <td>Strong</td>\n",
       "      <td>6.6</td>\n",
       "    </tr>\n",
       "    <tr>\n",
       "      <th>626</th>\n",
       "      <td>Andaman Islands, India region</td>\n",
       "      <td>26-12-2004</td>\n",
       "      <td>18:19:31</td>\n",
       "      <td>Strong</td>\n",
       "      <td>6.3</td>\n",
       "    </tr>\n",
       "    <tr>\n",
       "      <th>616</th>\n",
       "      <td>Andaman Islands, India region</td>\n",
       "      <td>26-12-2004</td>\n",
       "      <td>19:05:00</td>\n",
       "      <td>Strong</td>\n",
       "      <td>6.2</td>\n",
       "    </tr>\n",
       "    <tr>\n",
       "      <th>587</th>\n",
       "      <td>off the west coast of northern Sumatra</td>\n",
       "      <td>26-12-2004</td>\n",
       "      <td>23:06:33</td>\n",
       "      <td>Strong</td>\n",
       "      <td>6.0</td>\n",
       "    </tr>\n",
       "  </tbody>\n",
       "</table>\n",
       "</div>"
      ],
      "text/plain": [
       "                           properties.place        date      time   Class  \\\n",
       "741  off the west coast of northern Sumatra  26-12-2004  08:58:53   Great   \n",
       "739           Nicobar Islands, India region  26-12-2004  09:21:20  Strong   \n",
       "738           Nicobar Islands, India region  26-12-2004  09:22:25  Strong   \n",
       "737             northern Sumatra, Indonesia  26-12-2004  09:25:48  Strong   \n",
       "730           Nicobar Islands, India region  26-12-2004  10:00:40  Strong   \n",
       "688           Nicobar Islands, India region  26-12-2004  12:21:29   Major   \n",
       "653           Nicobar Islands, India region  26-12-2004  15:51:17  Strong   \n",
       "640           Nicobar Islands, India region  26-12-2004  17:20:01  Strong   \n",
       "626           Andaman Islands, India region  26-12-2004  18:19:31  Strong   \n",
       "616           Andaman Islands, India region  26-12-2004  19:05:00  Strong   \n",
       "587  off the west coast of northern Sumatra  26-12-2004  23:06:33  Strong   \n",
       "\n",
       "     properties.mag  \n",
       "741             9.1  \n",
       "739             6.1  \n",
       "738             6.0  \n",
       "737             6.1  \n",
       "730             6.0  \n",
       "688             7.2  \n",
       "653             6.0  \n",
       "640             6.6  \n",
       "626             6.3  \n",
       "616             6.2  \n",
       "587             6.0  "
      ]
     },
     "execution_count": 22,
     "metadata": {},
     "output_type": "execute_result"
    }
   ],
   "source": [
    "# list down the earthquake with magnitude > 6\n",
    "magnFilter = acheh_df['properties.mag']>=6\n",
    "dateFilter = acheh_df['date']=='26-12-2004'\n",
    "\n",
    "acheh_df[dateFilter & magnFilter] \\\n",
    "    .sort_values(by='time', ascending=1) \\\n",
    "    [['properties.place','date','time','Class','properties.mag']]"
   ]
  },
  {
   "cell_type": "markdown",
   "metadata": {},
   "source": [
    "On 26th December, the area was hit by <b>M9.1</b> earthquake at <b>8:58 am</b>\n",
    "<br>Followed by series of earthquake throughout the day.\n",
    "<br>From previous line, we found >100 earthquake hit the area on that day\n",
    "<br>The area was hit by 5 strong earthquake in 2 hours during that morning\n",
    "<br>The same area was hit by total of 276 earthquakes on 27th and 119 earthquakes on 28th"
   ]
  },
  {
   "cell_type": "markdown",
   "metadata": {},
   "source": [
    "# Let's see details on the greatest earthquake on 26th December"
   ]
  },
  {
   "cell_type": "code",
   "execution_count": 23,
   "metadata": {},
   "outputs": [
    {
     "data": {
      "text/html": [
       "<div>\n",
       "<style scoped>\n",
       "    .dataframe tbody tr th:only-of-type {\n",
       "        vertical-align: middle;\n",
       "    }\n",
       "\n",
       "    .dataframe tbody tr th {\n",
       "        vertical-align: top;\n",
       "    }\n",
       "\n",
       "    .dataframe thead th {\n",
       "        text-align: right;\n",
       "    }\n",
       "</style>\n",
       "<table border=\"1\" class=\"dataframe\">\n",
       "  <thead>\n",
       "    <tr style=\"text-align: right;\">\n",
       "      <th></th>\n",
       "      <th>properties.place</th>\n",
       "      <th>date</th>\n",
       "      <th>time</th>\n",
       "      <th>Class</th>\n",
       "      <th>properties.mag</th>\n",
       "      <th>properties.detail</th>\n",
       "    </tr>\n",
       "  </thead>\n",
       "  <tbody>\n",
       "    <tr>\n",
       "      <th>741</th>\n",
       "      <td>off the west coast of northern Sumatra</td>\n",
       "      <td>26-12-2004</td>\n",
       "      <td>08:58:53</td>\n",
       "      <td>Great</td>\n",
       "      <td>9.1</td>\n",
       "      <td>https://earthquake.usgs.gov/fdsnws/event/1/que...</td>\n",
       "    </tr>\n",
       "  </tbody>\n",
       "</table>\n",
       "</div>"
      ],
      "text/plain": [
       "                           properties.place        date      time  Class  \\\n",
       "741  off the west coast of northern Sumatra  26-12-2004  08:58:53  Great   \n",
       "\n",
       "     properties.mag                                  properties.detail  \n",
       "741             9.1  https://earthquake.usgs.gov/fdsnws/event/1/que...  "
      ]
     },
     "execution_count": 23,
     "metadata": {},
     "output_type": "execute_result"
    }
   ],
   "source": [
    "# Get the greatest earthquake\n",
    "dateFilter = acheh_df['date']=='26-12-2004'\n",
    "maxFilter = acheh_df['properties.mag'] == acheh_df['properties.mag'].max()\n",
    "\n",
    "acheh_df[dateFilter & maxFilter] \\\n",
    "    .sort_values(by='time', ascending=1) \\\n",
    "    [['properties.place','date','time','Class','properties.mag','properties.detail']]"
   ]
  },
  {
   "cell_type": "code",
   "execution_count": 24,
   "metadata": {},
   "outputs": [
    {
     "data": {
      "text/plain": [
       "geometry.coordinates                                  [95.982, 3.295, 30]\n",
       "geometry.type                                                       Point\n",
       "id                                           official20041226005853450_30\n",
       "properties.alert                                                     None\n",
       "properties.cdi                                                        9.1\n",
       "properties.code                                      20041226005853450_30\n",
       "properties.detail       https://earthquake.usgs.gov/fdsnws/event/1/que...\n",
       "properties.dmin                                                       NaN\n",
       "properties.felt                                                       886\n",
       "properties.gap                                                         22\n",
       "properties.ids          ,duputel122604a,us2004slav,official20041226005...\n",
       "properties.mag                                                        9.1\n",
       "properties.magType                                                     mw\n",
       "properties.mmi                                                        8.6\n",
       "properties.net                                                   official\n",
       "properties.nst                                                        601\n",
       "properties.place                   off the west coast of northern Sumatra\n",
       "properties.rms                                                       1.17\n",
       "properties.sig                                                       2080\n",
       "properties.sources      ,duputel,us,official,choy,gcmt,us,gcmt,atlas,i...\n",
       "properties.status                                                reviewed\n",
       "properties.time                                             1104022733450\n",
       "properties.title           M 9.1 - off the west coast of northern Sumatra\n",
       "properties.tsunami                                                      0\n",
       "properties.type                                                earthquake\n",
       "properties.types        ,associate,dyfi,focal-mechanism,general-header...\n",
       "properties.tz                                                         NaN\n",
       "properties.updated                                          1510165148120\n",
       "properties.url          https://earthquake.usgs.gov/earthquakes/eventp...\n",
       "type                                                              Feature\n",
       "lon                                                                95.982\n",
       "lat                                                                 3.295\n",
       "date                                                           26-12-2004\n",
       "time                                                             08:58:53\n",
       "Class                                                               Great\n",
       "Name: 741, dtype: object"
      ]
     },
     "execution_count": 24,
     "metadata": {},
     "output_type": "execute_result"
    }
   ],
   "source": [
    "# more details can be retrieved as follow\n",
    "acheh_df.loc[acheh_df['properties.mag'].idxmax()]"
   ]
  },
  {
   "cell_type": "markdown",
   "metadata": {},
   "source": [
    "The greatest earthquake on 26th December was with <b>magnitude 9.1</b>, happened <b>08:58:53 am</b>.\n",
    "<br>The exact location was <b>off the west coast of northern Sumatra</b>"
   ]
  },
  {
   "cell_type": "code",
   "execution_count": 25,
   "metadata": {},
   "outputs": [
    {
     "data": {
      "text/plain": [
       "u'https://earthquake.usgs.gov/fdsnws/event/1/query?eventid=official20041226005853450_30&format=geojson'"
      ]
     },
     "execution_count": 25,
     "metadata": {},
     "output_type": "execute_result"
    }
   ],
   "source": [
    "# get the detail from the properties.detail\n",
    "detailURL = acheh_df.loc[acheh_df['properties.mag'].idxmax()]['properties.detail']\n",
    "detailURL"
   ]
  },
  {
   "cell_type": "markdown",
   "metadata": {},
   "source": [
    "From this URL, we can get more details of each earthquake.\n",
    "<br>I have inspect the json response, and will only focus on some data captured:\n",
    "1. general-header\n",
    "2. general-header\n",
    "3. impact-text\n",
    "4. poster"
   ]
  },
  {
   "cell_type": "code",
   "execution_count": 26,
   "metadata": {},
   "outputs": [
    {
     "data": {
      "text/html": [
       "<div>\n",
       "<style scoped>\n",
       "    .dataframe tbody tr th:only-of-type {\n",
       "        vertical-align: middle;\n",
       "    }\n",
       "\n",
       "    .dataframe tbody tr th {\n",
       "        vertical-align: top;\n",
       "    }\n",
       "\n",
       "    .dataframe thead th {\n",
       "        text-align: right;\n",
       "    }\n",
       "</style>\n",
       "<table border=\"1\" class=\"dataframe\">\n",
       "  <thead>\n",
       "    <tr style=\"text-align: right;\">\n",
       "      <th></th>\n",
       "      <th>associate</th>\n",
       "      <th>dyfi</th>\n",
       "      <th>focal-mechanism</th>\n",
       "      <th>general-header</th>\n",
       "      <th>general-text</th>\n",
       "      <th>impact-text</th>\n",
       "      <th>moment-tensor</th>\n",
       "      <th>origin</th>\n",
       "      <th>phase-data</th>\n",
       "      <th>poster</th>\n",
       "      <th>shakemap</th>\n",
       "      <th>trump-origin</th>\n",
       "      <th>trump-shakemap</th>\n",
       "    </tr>\n",
       "  </thead>\n",
       "  <tbody>\n",
       "    <tr>\n",
       "      <th>0</th>\n",
       "      <td>[{u'status': u'UPDATE', u'updateTime': 1455831...</td>\n",
       "      <td>[{u'status': u'UPDATE', u'updateTime': 1422426...</td>\n",
       "      <td>[{u'status': u'UPDATE', u'updateTime': 1478745...</td>\n",
       "      <td>[{u'status': u'UPDATE', u'updateTime': 1478558...</td>\n",
       "      <td>[{u'status': u'UPDATE', u'updateTime': 1510165...</td>\n",
       "      <td>[{u'status': u'UPDATE', u'updateTime': 1415323...</td>\n",
       "      <td>[{u'status': u'UPDATE', u'updateTime': 1423758...</td>\n",
       "      <td>[{u'status': u'UPDATE', u'updateTime': 1361955...</td>\n",
       "      <td>[{u'status': u'UPDATE', u'updateTime': 1415323...</td>\n",
       "      <td>[{u'status': u'UPDATE', u'updateTime': 1457989...</td>\n",
       "      <td>[{u'status': u'UPDATE', u'updateTime': 1491979...</td>\n",
       "      <td>[{u'status': u'UPDATE', u'updateTime': 1439485...</td>\n",
       "      <td>[{u'status': u'UPDATE', u'updateTime': 1492121...</td>\n",
       "    </tr>\n",
       "  </tbody>\n",
       "</table>\n",
       "</div>"
      ],
      "text/plain": [
       "                                           associate  \\\n",
       "0  [{u'status': u'UPDATE', u'updateTime': 1455831...   \n",
       "\n",
       "                                                dyfi  \\\n",
       "0  [{u'status': u'UPDATE', u'updateTime': 1422426...   \n",
       "\n",
       "                                     focal-mechanism  \\\n",
       "0  [{u'status': u'UPDATE', u'updateTime': 1478745...   \n",
       "\n",
       "                                      general-header  \\\n",
       "0  [{u'status': u'UPDATE', u'updateTime': 1478558...   \n",
       "\n",
       "                                        general-text  \\\n",
       "0  [{u'status': u'UPDATE', u'updateTime': 1510165...   \n",
       "\n",
       "                                         impact-text  \\\n",
       "0  [{u'status': u'UPDATE', u'updateTime': 1415323...   \n",
       "\n",
       "                                       moment-tensor  \\\n",
       "0  [{u'status': u'UPDATE', u'updateTime': 1423758...   \n",
       "\n",
       "                                              origin  \\\n",
       "0  [{u'status': u'UPDATE', u'updateTime': 1361955...   \n",
       "\n",
       "                                          phase-data  \\\n",
       "0  [{u'status': u'UPDATE', u'updateTime': 1415323...   \n",
       "\n",
       "                                              poster  \\\n",
       "0  [{u'status': u'UPDATE', u'updateTime': 1457989...   \n",
       "\n",
       "                                            shakemap  \\\n",
       "0  [{u'status': u'UPDATE', u'updateTime': 1491979...   \n",
       "\n",
       "                                        trump-origin  \\\n",
       "0  [{u'status': u'UPDATE', u'updateTime': 1439485...   \n",
       "\n",
       "                                      trump-shakemap  \n",
       "0  [{u'status': u'UPDATE', u'updateTime': 1492121...  "
      ]
     },
     "execution_count": 26,
     "metadata": {},
     "output_type": "execute_result"
    }
   ],
   "source": [
    "# submit the request\n",
    "resp = requests.get(url=detailURL)\n",
    "data = resp.json()\n",
    "\n",
    "# process the JSON response\n",
    "block_df = json_normalize(data['properties']['products'])\n",
    "\n",
    "block_df"
   ]
  },
  {
   "cell_type": "code",
   "execution_count": 27,
   "metadata": {},
   "outputs": [
    {
     "data": {
      "text/plain": [
       "pandas.core.series.Series"
      ]
     },
     "execution_count": 27,
     "metadata": {},
     "output_type": "execute_result"
    }
   ],
   "source": [
    "headerBlock = block_df['general-header']\n",
    "type(headerBlock)"
   ]
  },
  {
   "cell_type": "code",
   "execution_count": 28,
   "metadata": {},
   "outputs": [
    {
     "data": {
      "text/html": [
       "<p class=\"alert info\">\n",
       "<b> Official Magnitude Reference: </b><br>\n",
       "<i>Duputel, Z., Rivera, L., Kanamori, H., & Hayes, G. (2012). <br>\n",
       "W phase source inversion for moderate to large earthquakes (1990–2010). <br>\n",
       "GJI, 189(2), 1125-1147.</i>\n",
       "</p>"
      ],
      "text/plain": [
       "<IPython.core.display.HTML object>"
      ]
     },
     "metadata": {},
     "output_type": "display_data"
    }
   ],
   "source": [
    "from IPython.core.display import display, HTML\n",
    "\n",
    "for h1 in headerBlock:\n",
    "    #print \"h1 is\",type(h1)    # list\n",
    "    for h2 in h1:\n",
    "        #print \"h2 is\",type(h2)  # dict\n",
    "        h2Content = h2['contents']\n",
    "        #print \"h2Content is\",type(h2Content)  # dict\n",
    "        #print h2Content['']['bytes']\n",
    "        display(HTML(h2Content['']['bytes']))"
   ]
  },
  {
   "cell_type": "code",
   "execution_count": 29,
   "metadata": {},
   "outputs": [
    {
     "data": {
      "text/html": [
       "<h2>Tectonic Summary</h2>\n",
       "<p>\n",
       "The devastating M 9.1 earthquake off the west coast of northern Sumatra on December 26, 2004, occurred as the result of thrust faulting on the interface of the India plate and the Burma microplate. In a period of minutes, the faulting released elastic strains that had accumulated for centuries from ongoing subduction of the India plate beneath the overriding Burma microplate.\n",
       "In a broad sense, the India and Australia plates move towards the north-northeast with respect to the interior of the Eurasia plate with velocities of about 60 mm/yr in the region of the earthquake. This results in oblique convergence at the Sunda Trench, about 200 km to the southwest of the December 26th earthquake. The oblique motion is partitioned into thrust faulting, which occurs on the interface between the India plate and the Burma microplate and involves slip directed at a large angle to the orientation of the trench, and strike-slip faulting, which occurs on the eastern boundary of the Burma microplate and involves slip directed approximately parallel to the trench. Details of the velocity of the Burma microplate remain to be determined and may, in fact, be clarified by further analysis of the December mainshock and its aftershocks.\n",
       "</p>\n",
       "<p>\n",
       "Early models of the December 26th mainshock fault displacement differ in many details, but are consistent in implying that fault rupture propagated to the northwest from the epicenter and that substantial fault rupture occurred hundreds of kilometers northwest of the epicenter. The data upon which the modeling is based do not permit confident resolution of the extent of rupture beyond about 500 km northwest of the mainshock epicenter. The width of the earthquake rupture, measured perpendicular to the Sunda Trench, was about 150 km, and maximum displacement on the fault plane was upwards of 20 m. The sea floor overlying the thrust fault was uplifted by several meters as a result of the earthquake, causing the ensuing tsunami that devastated shores around the Indian Ocean.\n",
       "</p>\n",
       "<p>\n",
       "The zone of aftershocks of the December 26th earthquake is more than 1,300 km long. Because aftershocks occur on and very near the fault planes of mainshocks, the length of the aftershock zone suggests that mainshock fault rupture may have extended north of the epicenter by an amount significantly larger than 500 km. However, a great earthquake may also trigger earthquake activity on faults that are distinct from the mainshock fault plane and separated from it by tens or even hundreds of kilometers. Detailed modeling of this earthquake over the months and years following the event, using teleseismic data (that the models discussed here were based on) and data from regional global positioning system (GPS) stations, indicates that significant slip extended over a region up to about 1,500 km to the north of the epicenter, and that rupture lasted for more than 500 seconds. \n",
       "</p>\n",
       "<p>\n",
       "This is the third largest earthquake in the world since 1900 and is the largest since the 1964 Prince William Sound, Alaska, earthquake. Since 1900, earthquakes similarly sized or larger than the December 26th earthquake have been the M 9.0 1952 Kamchatka earthquake, the M 9.5 1960 Chile earthquake, and the M 9.2 1964 Prince William Sound, Alaska, earthquake. All of these earthquakes, like the December 26th earthquake, were megathrust events, occurring where one tectonic plate subducts beneath another. All produced destructive tsunamis, although fatalities and damage from the December 26th tsunami have far exceeded those caused by tsunamis associated with the earlier earthquakes and was documented nearly worldwide on tide gages.\n",
       "</p>\n",
       "<p>\n",
       "Hayes et al. (2016) <a href=\"https://doi.org/10.3133/ofr20161192\">Tectonic summaries of magnitude 7 and greater earthquakes from 2000 to 2015</a>, USGS Open-File Report 2016-1192. (5.2 MB PDF)\n",
       "</p>\n",
       "\n",
       "<h2>Comparison of Fault Rupture Area to Size of California</h2>\n",
       "\n",
       "<img src=\"rupture_area.gif\" alt=\"map showing rupture area is half the size of California\">"
      ],
      "text/plain": [
       "<IPython.core.display.HTML object>"
      ]
     },
     "metadata": {},
     "output_type": "display_data"
    }
   ],
   "source": [
    "textBlock = block_df['general-text']\n",
    "for h1 in textBlock:\n",
    "    #print \"h1 is\",type(h1)    # list\n",
    "    for h2 in h1:\n",
    "        #print \"h2 is\",type(h2)  # dict\n",
    "        h2Content = h2['contents']\n",
    "        #print \"h2Content is\",type(h2Content)  # dict\n",
    "        #print h2Content['']['bytes']\n",
    "        display(HTML(h2Content['']['bytes']))"
   ]
  },
  {
   "cell_type": "code",
   "execution_count": 30,
   "metadata": {},
   "outputs": [
    {
     "data": {
      "text/html": [
       "This is the fourth largest earthquake in the world since 1900 and is the largest since the 1964 Prince William Sound, Alaska earthquake. In total, more than 283,100 people were killed, 14,100 are still listed as missing and 1,126,900 were displaced by the earthquake and subsequent tsunami in 10 countries in South Asia and East Africa. The earthquake was felt (IX) at Banda Aceh, (VIII) at Meulaboh and (IV) at Medan, Sumatra and (III-V) in parts of Bangladesh, India, Malaysia, Maldives, Myanmar, Singapore, Sri Lanka and Thailand. The tsunami caused more casualties than any other in recorded history and was recorded nearly world-wide on tide gauges in the Indian, Pacific and Atlantic Oceans. Seiches were observed in India and the United States. Subsidence and landslides were observed in Sumatra. A mud volcano near Baratang, Andaman Islands became active on December 28 and gas emissions were reported in Arakan, Myanmar. A detailed summary of this event is given at the end of this publication."
      ],
      "text/plain": [
       "<IPython.core.display.HTML object>"
      ]
     },
     "metadata": {},
     "output_type": "display_data"
    }
   ],
   "source": [
    "impactBlock = block_df['impact-text']\n",
    "for h1 in impactBlock:\n",
    "    #print \"h1 is\",type(h1)    # list\n",
    "    for h2 in h1:\n",
    "        #print \"h2 is\",type(h2)  # dict\n",
    "        h2Content = h2['contents']\n",
    "        #print \"h2Content is\",type(h2Content)  # dict\n",
    "        #print h2Content['']['bytes']\n",
    "        display(HTML(h2Content['']['bytes']))"
   ]
  },
  {
   "cell_type": "code",
   "execution_count": 31,
   "metadata": {},
   "outputs": [
    {
     "name": "stdout",
     "output_type": "stream",
     "text": [
      "https://earthquake.usgs.gov/archive/product/poster/20041226/us/1457989040172/poster.jpg\n"
     ]
    },
    {
     "data": {
      "text/html": [
       "<img src=\"https://earthquake.usgs.gov/archive/product/poster/20041226/us/1457989040172/poster.jpg\"/>"
      ],
      "text/plain": [
       "<IPython.core.display.Image object>"
      ]
     },
     "execution_count": 31,
     "metadata": {},
     "output_type": "execute_result"
    }
   ],
   "source": [
    "from IPython.display import Image\n",
    "from IPython.core.display import HTML\n",
    "\n",
    "imgUrl = \"\"\n",
    "\n",
    "posterBlock = block_df['poster']\n",
    "for h1 in posterBlock:\n",
    "    #print \"h1 is\",type(h1)    # list\n",
    "    for h2 in h1:\n",
    "        #print \"h2 is\",type(h2)  # dict\n",
    "        imgUrl = h2['contents']['poster.jpg']['url']\n",
    "        print imgUrl\n",
    "\n",
    "Image(url= imgUrl)"
   ]
  },
  {
   "cell_type": "code",
   "execution_count": null,
   "metadata": {},
   "outputs": [],
   "source": []
  }
 ],
 "metadata": {
  "kernelspec": {
   "display_name": "Python 2",
   "language": "python",
   "name": "python2"
  },
  "language_info": {
   "codemirror_mode": {
    "name": "ipython",
    "version": 2
   },
   "file_extension": ".py",
   "mimetype": "text/x-python",
   "name": "python",
   "nbconvert_exporter": "python",
   "pygments_lexer": "ipython2",
   "version": "2.7.14"
  }
 },
 "nbformat": 4,
 "nbformat_minor": 2
}
