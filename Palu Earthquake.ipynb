{
 "cells": [
  {
   "cell_type": "markdown",
   "metadata": {},
   "source": [
    "This analysis is following the recent disaster happened in Palu, Indonesia on 28th September 2018 \n",
    "<br>Data is collected from https://earthquake.usgs.gov\n",
    "<br>Filter applied to limit data based on coordinate,"
   ]
  },
  {
   "cell_type": "code",
   "execution_count": 1,
   "metadata": {},
   "outputs": [],
   "source": [
    "# Import required libraries\n",
    "import datetime\n",
    "import requests\n",
    "import json\n",
    "import pandas as pd\n",
    "from pandas.io.json import json_normalize"
   ]
  },
  {
   "cell_type": "markdown",
   "metadata": {},
   "source": [
    "# Data Collection"
   ]
  },
  {
   "cell_type": "code",
   "execution_count": 2,
   "metadata": {},
   "outputs": [],
   "source": [
    "# set the date as 6th December 2004\n",
    "# the program will loop for the number of iteration for a period of 30 days\n",
    "baseDate = '28 September 2018'\n",
    "rangeDate = 7    # we're collecting data 1 week before/after the baseDate\n",
    "\n",
    "# set the boundaries of location (covering South East Asia)\n",
    "latMin = -15\n",
    "latMax = 15\n",
    "lonMin = 90\n",
    "lonMax = 140"
   ]
  },
  {
   "cell_type": "code",
   "execution_count": 3,
   "metadata": {},
   "outputs": [],
   "source": [
    "# Custom function to record coordinate into separate lon/lat columns\n",
    "# input : the coordinate as [longitude, latitude, depth]\n",
    "# output : Series of lon/lat\n",
    "def splitCoordinate(coor):\n",
    "    lon,lat,elav = coor\n",
    "    \n",
    "    return pd.Series([lon,lat])"
   ]
  },
  {
   "cell_type": "code",
   "execution_count": 4,
   "metadata": {},
   "outputs": [
    {
     "data": {
      "text/html": [
       "<div>\n",
       "<style scoped>\n",
       "    .dataframe tbody tr th:only-of-type {\n",
       "        vertical-align: middle;\n",
       "    }\n",
       "\n",
       "    .dataframe tbody tr th {\n",
       "        vertical-align: top;\n",
       "    }\n",
       "\n",
       "    .dataframe thead th {\n",
       "        text-align: right;\n",
       "    }\n",
       "</style>\n",
       "<table border=\"1\" class=\"dataframe\">\n",
       "  <thead>\n",
       "    <tr style=\"text-align: right;\">\n",
       "      <th></th>\n",
       "      <th>geometry.coordinates</th>\n",
       "      <th>geometry.type</th>\n",
       "      <th>id</th>\n",
       "      <th>properties.alert</th>\n",
       "      <th>properties.cdi</th>\n",
       "      <th>properties.code</th>\n",
       "      <th>properties.detail</th>\n",
       "      <th>properties.dmin</th>\n",
       "      <th>properties.felt</th>\n",
       "      <th>properties.gap</th>\n",
       "      <th>...</th>\n",
       "      <th>properties.title</th>\n",
       "      <th>properties.tsunami</th>\n",
       "      <th>properties.type</th>\n",
       "      <th>properties.types</th>\n",
       "      <th>properties.tz</th>\n",
       "      <th>properties.updated</th>\n",
       "      <th>properties.url</th>\n",
       "      <th>type</th>\n",
       "      <th>lon</th>\n",
       "      <th>lat</th>\n",
       "    </tr>\n",
       "  </thead>\n",
       "  <tbody>\n",
       "    <tr>\n",
       "      <th>0</th>\n",
       "      <td>[120.0587, -1.2053, 10]</td>\n",
       "      <td>Point</td>\n",
       "      <td>us1000h7bb</td>\n",
       "      <td>None</td>\n",
       "      <td>NaN</td>\n",
       "      <td>1000h7bb</td>\n",
       "      <td>https://earthquake.usgs.gov/fdsnws/event/1/que...</td>\n",
       "      <td>2.411</td>\n",
       "      <td>NaN</td>\n",
       "      <td>87.0</td>\n",
       "      <td>...</td>\n",
       "      <td>M 4.5 - 40km SSE of Palu, Indonesia</td>\n",
       "      <td>0</td>\n",
       "      <td>earthquake</td>\n",
       "      <td>,geoserve,origin,phase-data,</td>\n",
       "      <td>480</td>\n",
       "      <td>1538692359040</td>\n",
       "      <td>https://earthquake.usgs.gov/earthquakes/eventp...</td>\n",
       "      <td>Feature</td>\n",
       "      <td>120.0587</td>\n",
       "      <td>-1.2053</td>\n",
       "    </tr>\n",
       "    <tr>\n",
       "      <th>1</th>\n",
       "      <td>[120.5781, -1.1493, 10]</td>\n",
       "      <td>Point</td>\n",
       "      <td>us1000h79w</td>\n",
       "      <td>None</td>\n",
       "      <td>NaN</td>\n",
       "      <td>1000h79w</td>\n",
       "      <td>https://earthquake.usgs.gov/fdsnws/event/1/que...</td>\n",
       "      <td>2.195</td>\n",
       "      <td>NaN</td>\n",
       "      <td>79.0</td>\n",
       "      <td>...</td>\n",
       "      <td>M 4.4 - 31km NNW of Kasiguncu, Indonesia</td>\n",
       "      <td>0</td>\n",
       "      <td>earthquake</td>\n",
       "      <td>,geoserve,origin,phase-data,</td>\n",
       "      <td>480</td>\n",
       "      <td>1539117939040</td>\n",
       "      <td>https://earthquake.usgs.gov/earthquakes/eventp...</td>\n",
       "      <td>Feature</td>\n",
       "      <td>120.5781</td>\n",
       "      <td>-1.1493</td>\n",
       "    </tr>\n",
       "    <tr>\n",
       "      <th>2</th>\n",
       "      <td>[101.8232, -4.6372, 23.66]</td>\n",
       "      <td>Point</td>\n",
       "      <td>us1000h777</td>\n",
       "      <td>None</td>\n",
       "      <td>NaN</td>\n",
       "      <td>1000h777</td>\n",
       "      <td>https://earthquake.usgs.gov/fdsnws/event/1/que...</td>\n",
       "      <td>3.347</td>\n",
       "      <td>NaN</td>\n",
       "      <td>106.0</td>\n",
       "      <td>...</td>\n",
       "      <td>M 4.7 - 104km SSW of Bengkulu, Indonesia</td>\n",
       "      <td>0</td>\n",
       "      <td>earthquake</td>\n",
       "      <td>,geoserve,origin,phase-data,</td>\n",
       "      <td>420</td>\n",
       "      <td>1539117184040</td>\n",
       "      <td>https://earthquake.usgs.gov/earthquakes/eventp...</td>\n",
       "      <td>Feature</td>\n",
       "      <td>101.8232</td>\n",
       "      <td>-4.6372</td>\n",
       "    </tr>\n",
       "    <tr>\n",
       "      <th>3</th>\n",
       "      <td>[120.3148, -1.3154, 10]</td>\n",
       "      <td>Point</td>\n",
       "      <td>us1000h774</td>\n",
       "      <td>None</td>\n",
       "      <td>NaN</td>\n",
       "      <td>1000h774</td>\n",
       "      <td>https://earthquake.usgs.gov/fdsnws/event/1/que...</td>\n",
       "      <td>2.455</td>\n",
       "      <td>NaN</td>\n",
       "      <td>126.0</td>\n",
       "      <td>...</td>\n",
       "      <td>M 4.6 - 39km WNW of Kasiguncu, Indonesia</td>\n",
       "      <td>0</td>\n",
       "      <td>earthquake</td>\n",
       "      <td>,geoserve,origin,phase-data,</td>\n",
       "      <td>480</td>\n",
       "      <td>1539095934040</td>\n",
       "      <td>https://earthquake.usgs.gov/earthquakes/eventp...</td>\n",
       "      <td>Feature</td>\n",
       "      <td>120.3148</td>\n",
       "      <td>-1.3154</td>\n",
       "    </tr>\n",
       "    <tr>\n",
       "      <th>4</th>\n",
       "      <td>[128.5938, 2.161, 10]</td>\n",
       "      <td>Point</td>\n",
       "      <td>us1000h6yd</td>\n",
       "      <td>None</td>\n",
       "      <td>NaN</td>\n",
       "      <td>1000h6yd</td>\n",
       "      <td>https://earthquake.usgs.gov/fdsnws/event/1/que...</td>\n",
       "      <td>1.846</td>\n",
       "      <td>NaN</td>\n",
       "      <td>161.0</td>\n",
       "      <td>...</td>\n",
       "      <td>M 4.5 - 80km NE of Tobelo, Indonesia</td>\n",
       "      <td>0</td>\n",
       "      <td>earthquake</td>\n",
       "      <td>,geoserve,origin,phase-data,</td>\n",
       "      <td>540</td>\n",
       "      <td>1538668737040</td>\n",
       "      <td>https://earthquake.usgs.gov/earthquakes/eventp...</td>\n",
       "      <td>Feature</td>\n",
       "      <td>128.5938</td>\n",
       "      <td>2.1610</td>\n",
       "    </tr>\n",
       "  </tbody>\n",
       "</table>\n",
       "<p>5 rows × 32 columns</p>\n",
       "</div>"
      ],
      "text/plain": [
       "         geometry.coordinates geometry.type          id properties.alert  \\\n",
       "0     [120.0587, -1.2053, 10]         Point  us1000h7bb             None   \n",
       "1     [120.5781, -1.1493, 10]         Point  us1000h79w             None   \n",
       "2  [101.8232, -4.6372, 23.66]         Point  us1000h777             None   \n",
       "3     [120.3148, -1.3154, 10]         Point  us1000h774             None   \n",
       "4       [128.5938, 2.161, 10]         Point  us1000h6yd             None   \n",
       "\n",
       "   properties.cdi properties.code  \\\n",
       "0             NaN        1000h7bb   \n",
       "1             NaN        1000h79w   \n",
       "2             NaN        1000h777   \n",
       "3             NaN        1000h774   \n",
       "4             NaN        1000h6yd   \n",
       "\n",
       "                                   properties.detail  properties.dmin  \\\n",
       "0  https://earthquake.usgs.gov/fdsnws/event/1/que...            2.411   \n",
       "1  https://earthquake.usgs.gov/fdsnws/event/1/que...            2.195   \n",
       "2  https://earthquake.usgs.gov/fdsnws/event/1/que...            3.347   \n",
       "3  https://earthquake.usgs.gov/fdsnws/event/1/que...            2.455   \n",
       "4  https://earthquake.usgs.gov/fdsnws/event/1/que...            1.846   \n",
       "\n",
       "   properties.felt  properties.gap   ...    \\\n",
       "0              NaN            87.0   ...     \n",
       "1              NaN            79.0   ...     \n",
       "2              NaN           106.0   ...     \n",
       "3              NaN           126.0   ...     \n",
       "4              NaN           161.0   ...     \n",
       "\n",
       "                           properties.title  properties.tsunami  \\\n",
       "0       M 4.5 - 40km SSE of Palu, Indonesia                   0   \n",
       "1  M 4.4 - 31km NNW of Kasiguncu, Indonesia                   0   \n",
       "2  M 4.7 - 104km SSW of Bengkulu, Indonesia                   0   \n",
       "3  M 4.6 - 39km WNW of Kasiguncu, Indonesia                   0   \n",
       "4      M 4.5 - 80km NE of Tobelo, Indonesia                   0   \n",
       "\n",
       "  properties.type              properties.types properties.tz  \\\n",
       "0      earthquake  ,geoserve,origin,phase-data,           480   \n",
       "1      earthquake  ,geoserve,origin,phase-data,           480   \n",
       "2      earthquake  ,geoserve,origin,phase-data,           420   \n",
       "3      earthquake  ,geoserve,origin,phase-data,           480   \n",
       "4      earthquake  ,geoserve,origin,phase-data,           540   \n",
       "\n",
       "   properties.updated                                     properties.url  \\\n",
       "0       1538692359040  https://earthquake.usgs.gov/earthquakes/eventp...   \n",
       "1       1539117939040  https://earthquake.usgs.gov/earthquakes/eventp...   \n",
       "2       1539117184040  https://earthquake.usgs.gov/earthquakes/eventp...   \n",
       "3       1539095934040  https://earthquake.usgs.gov/earthquakes/eventp...   \n",
       "4       1538668737040  https://earthquake.usgs.gov/earthquakes/eventp...   \n",
       "\n",
       "      type       lon     lat  \n",
       "0  Feature  120.0587 -1.2053  \n",
       "1  Feature  120.5781 -1.1493  \n",
       "2  Feature  101.8232 -4.6372  \n",
       "3  Feature  120.3148 -1.3154  \n",
       "4  Feature  128.5938  2.1610  \n",
       "\n",
       "[5 rows x 32 columns]"
      ]
     },
     "execution_count": 4,
     "metadata": {},
     "output_type": "execute_result"
    }
   ],
   "source": [
    "dt = datetime.datetime.strptime(baseDate, '%d %B %Y')\n",
    "\n",
    "startDate = dt - datetime.timedelta(days=rangeDate)\n",
    "endDate = dt + datetime.timedelta(days=rangeDate)\n",
    "\n",
    "# construct the url used to download the data\n",
    "urlStart = startDate.strftime(\"%Y-%m-%d\")\n",
    "urlEnd = endDate.strftime(\"%Y-%m-%d\")\n",
    "url = 'https://earthquake.usgs.gov/fdsnws/event/1/query?format=geojson&starttime='+urlStart+'&endtime='+urlEnd\n",
    "\n",
    "# submit the request\n",
    "resp = requests.get(url=url)\n",
    "data = resp.json()\n",
    "\n",
    "# process the JSON response\n",
    "block_df = json_normalize(data['features'])\n",
    "\n",
    "# create new column for lon/lat\n",
    "# so that we can scope the output only for the required region\n",
    "block_df[['lon','lat']] = block_df['geometry.coordinates'].apply(splitCoordinate)\n",
    "\n",
    "# define the boundaries based on lon/lat\n",
    "location_latitude = (block_df['lat'] > latMin) & (block_df['lat'] < latMax)\n",
    "location_longitude = (block_df['lon'] > lonMin) & (block_df['lon'] < lonMax)\n",
    "\n",
    "# filter the response only to have earthquake on selected region\n",
    "regional_df = block_df[ location_latitude & location_longitude ]\n",
    "\n",
    "# combine the filtered response into master dataframe\n",
    "master_df = pd.DataFrame()\n",
    "master_df = master_df.append(regional_df, ignore_index = True)\n",
    "\n",
    "master_df.head()"
   ]
  },
  {
   "cell_type": "markdown",
   "metadata": {},
   "source": [
    "# Process the Collected Data"
   ]
  },
  {
   "cell_type": "code",
   "execution_count": 5,
   "metadata": {},
   "outputs": [
    {
     "data": {
      "text/plain": [
       "(112, 32)"
      ]
     },
     "execution_count": 5,
     "metadata": {},
     "output_type": "execute_result"
    }
   ],
   "source": [
    "# Check on the shape of the dataframe, which give total data we collected\n",
    "master_df.shape"
   ]
  },
  {
   "cell_type": "markdown",
   "metadata": {},
   "source": [
    "<b>112 earthquakes</b> rocks the area within 1 week before and after 28th September 2018"
   ]
  },
  {
   "cell_type": "code",
   "execution_count": 6,
   "metadata": {},
   "outputs": [
    {
     "name": "stdout",
     "output_type": "stream",
     "text": [
      "<class 'pandas.core.frame.DataFrame'>\n",
      "RangeIndex: 112 entries, 0 to 111\n",
      "Data columns (total 32 columns):\n",
      "geometry.coordinates    112 non-null object\n",
      "geometry.type           112 non-null object\n",
      "id                      112 non-null object\n",
      "properties.alert        10 non-null object\n",
      "properties.cdi          10 non-null float64\n",
      "properties.code         112 non-null object\n",
      "properties.detail       112 non-null object\n",
      "properties.dmin         112 non-null float64\n",
      "properties.felt         10 non-null float64\n",
      "properties.gap          112 non-null float64\n",
      "properties.ids          112 non-null object\n",
      "properties.mag          112 non-null float64\n",
      "properties.magType      112 non-null object\n",
      "properties.mmi          10 non-null float64\n",
      "properties.net          112 non-null object\n",
      "properties.nst          0 non-null float64\n",
      "properties.place        112 non-null object\n",
      "properties.rms          112 non-null float64\n",
      "properties.sig          112 non-null int64\n",
      "properties.sources      112 non-null object\n",
      "properties.status       112 non-null object\n",
      "properties.time         112 non-null int64\n",
      "properties.title        112 non-null object\n",
      "properties.tsunami      112 non-null int64\n",
      "properties.type         112 non-null object\n",
      "properties.types        112 non-null object\n",
      "properties.tz           112 non-null int64\n",
      "properties.updated      112 non-null int64\n",
      "properties.url          112 non-null object\n",
      "type                    112 non-null object\n",
      "lon                     112 non-null float64\n",
      "lat                     112 non-null float64\n",
      "dtypes: float64(10), int64(5), object(17)\n",
      "memory usage: 28.1+ KB\n"
     ]
    }
   ],
   "source": [
    "# Check on the available columns\n",
    "master_df.info()"
   ]
  },
  {
   "cell_type": "markdown",
   "metadata": {},
   "source": [
    "For earthquake we probably interested to know:\n",
    "\n",
    "1. When it happened (date/time) --> properties.time\n",
    "2. What was the magnitude --> properties.mag\n",
    "3. Where it happened --> properties.place\n",
    "4. Coordinate so that it can be plotted --> geometry.coordinates\n",
    "\n",
    "Details of the availble data can be found from https://earthquake.usgs.gov/data/comcat/data-eventterms.php"
   ]
  },
  {
   "cell_type": "code",
   "execution_count": 7,
   "metadata": {},
   "outputs": [],
   "source": [
    "# make a copy of the original dataframe\n",
    "#earthquake_df = master_df[['geometry.coordinates','properties.mag','properties.place','properties.time','lon','lat']].copy()\n",
    "earthquake_df = master_df.copy()"
   ]
  },
  {
   "cell_type": "code",
   "execution_count": 8,
   "metadata": {},
   "outputs": [
    {
     "name": "stdout",
     "output_type": "stream",
     "text": [
      "Converted\t: 0    05-10-2018\n",
      "1      06:08:34\n",
      "dtype: object\n"
     ]
    }
   ],
   "source": [
    "# Times are reported in milliseconds since the epoch, and provided in UTC\n",
    "# good to convert this into human readable format\n",
    "\n",
    "def convertEpochToReadable(dt):\n",
    "    time1 = float(dt/1000)\n",
    "    dt_date = datetime.datetime.fromtimestamp(time1).strftime('%d-%m-%Y')\n",
    "    dt_time = datetime.datetime.fromtimestamp(time1).strftime('%H:%M:%S')\n",
    "    \n",
    "    return pd.Series([dt_date, dt_time])\n",
    "\n",
    "print 'Converted\\t:',convertEpochToReadable(master_df['properties.time'][0])"
   ]
  },
  {
   "cell_type": "code",
   "execution_count": 9,
   "metadata": {},
   "outputs": [
    {
     "data": {
      "text/html": [
       "<div>\n",
       "<style scoped>\n",
       "    .dataframe tbody tr th:only-of-type {\n",
       "        vertical-align: middle;\n",
       "    }\n",
       "\n",
       "    .dataframe tbody tr th {\n",
       "        vertical-align: top;\n",
       "    }\n",
       "\n",
       "    .dataframe thead th {\n",
       "        text-align: right;\n",
       "    }\n",
       "</style>\n",
       "<table border=\"1\" class=\"dataframe\">\n",
       "  <thead>\n",
       "    <tr style=\"text-align: right;\">\n",
       "      <th></th>\n",
       "      <th>geometry.coordinates</th>\n",
       "      <th>geometry.type</th>\n",
       "      <th>id</th>\n",
       "      <th>properties.alert</th>\n",
       "      <th>properties.cdi</th>\n",
       "      <th>properties.code</th>\n",
       "      <th>properties.detail</th>\n",
       "      <th>properties.dmin</th>\n",
       "      <th>properties.felt</th>\n",
       "      <th>properties.gap</th>\n",
       "      <th>...</th>\n",
       "      <th>properties.type</th>\n",
       "      <th>properties.types</th>\n",
       "      <th>properties.tz</th>\n",
       "      <th>properties.updated</th>\n",
       "      <th>properties.url</th>\n",
       "      <th>type</th>\n",
       "      <th>lon</th>\n",
       "      <th>lat</th>\n",
       "      <th>date</th>\n",
       "      <th>time</th>\n",
       "    </tr>\n",
       "  </thead>\n",
       "  <tbody>\n",
       "    <tr>\n",
       "      <th>0</th>\n",
       "      <td>[120.0587, -1.2053, 10]</td>\n",
       "      <td>Point</td>\n",
       "      <td>us1000h7bb</td>\n",
       "      <td>None</td>\n",
       "      <td>NaN</td>\n",
       "      <td>1000h7bb</td>\n",
       "      <td>https://earthquake.usgs.gov/fdsnws/event/1/que...</td>\n",
       "      <td>2.411</td>\n",
       "      <td>NaN</td>\n",
       "      <td>87.0</td>\n",
       "      <td>...</td>\n",
       "      <td>earthquake</td>\n",
       "      <td>,geoserve,origin,phase-data,</td>\n",
       "      <td>480</td>\n",
       "      <td>1538692359040</td>\n",
       "      <td>https://earthquake.usgs.gov/earthquakes/eventp...</td>\n",
       "      <td>Feature</td>\n",
       "      <td>120.0587</td>\n",
       "      <td>-1.2053</td>\n",
       "      <td>05-10-2018</td>\n",
       "      <td>06:08:34</td>\n",
       "    </tr>\n",
       "    <tr>\n",
       "      <th>1</th>\n",
       "      <td>[120.5781, -1.1493, 10]</td>\n",
       "      <td>Point</td>\n",
       "      <td>us1000h79w</td>\n",
       "      <td>None</td>\n",
       "      <td>NaN</td>\n",
       "      <td>1000h79w</td>\n",
       "      <td>https://earthquake.usgs.gov/fdsnws/event/1/que...</td>\n",
       "      <td>2.195</td>\n",
       "      <td>NaN</td>\n",
       "      <td>79.0</td>\n",
       "      <td>...</td>\n",
       "      <td>earthquake</td>\n",
       "      <td>,geoserve,origin,phase-data,</td>\n",
       "      <td>480</td>\n",
       "      <td>1539117939040</td>\n",
       "      <td>https://earthquake.usgs.gov/earthquakes/eventp...</td>\n",
       "      <td>Feature</td>\n",
       "      <td>120.5781</td>\n",
       "      <td>-1.1493</td>\n",
       "      <td>05-10-2018</td>\n",
       "      <td>04:40:31</td>\n",
       "    </tr>\n",
       "    <tr>\n",
       "      <th>2</th>\n",
       "      <td>[101.8232, -4.6372, 23.66]</td>\n",
       "      <td>Point</td>\n",
       "      <td>us1000h777</td>\n",
       "      <td>None</td>\n",
       "      <td>NaN</td>\n",
       "      <td>1000h777</td>\n",
       "      <td>https://earthquake.usgs.gov/fdsnws/event/1/que...</td>\n",
       "      <td>3.347</td>\n",
       "      <td>NaN</td>\n",
       "      <td>106.0</td>\n",
       "      <td>...</td>\n",
       "      <td>earthquake</td>\n",
       "      <td>,geoserve,origin,phase-data,</td>\n",
       "      <td>420</td>\n",
       "      <td>1539117184040</td>\n",
       "      <td>https://earthquake.usgs.gov/earthquakes/eventp...</td>\n",
       "      <td>Feature</td>\n",
       "      <td>101.8232</td>\n",
       "      <td>-4.6372</td>\n",
       "      <td>05-10-2018</td>\n",
       "      <td>02:27:40</td>\n",
       "    </tr>\n",
       "    <tr>\n",
       "      <th>3</th>\n",
       "      <td>[120.3148, -1.3154, 10]</td>\n",
       "      <td>Point</td>\n",
       "      <td>us1000h774</td>\n",
       "      <td>None</td>\n",
       "      <td>NaN</td>\n",
       "      <td>1000h774</td>\n",
       "      <td>https://earthquake.usgs.gov/fdsnws/event/1/que...</td>\n",
       "      <td>2.455</td>\n",
       "      <td>NaN</td>\n",
       "      <td>126.0</td>\n",
       "      <td>...</td>\n",
       "      <td>earthquake</td>\n",
       "      <td>,geoserve,origin,phase-data,</td>\n",
       "      <td>480</td>\n",
       "      <td>1539095934040</td>\n",
       "      <td>https://earthquake.usgs.gov/earthquakes/eventp...</td>\n",
       "      <td>Feature</td>\n",
       "      <td>120.3148</td>\n",
       "      <td>-1.3154</td>\n",
       "      <td>05-10-2018</td>\n",
       "      <td>02:27:22</td>\n",
       "    </tr>\n",
       "    <tr>\n",
       "      <th>4</th>\n",
       "      <td>[128.5938, 2.161, 10]</td>\n",
       "      <td>Point</td>\n",
       "      <td>us1000h6yd</td>\n",
       "      <td>None</td>\n",
       "      <td>NaN</td>\n",
       "      <td>1000h6yd</td>\n",
       "      <td>https://earthquake.usgs.gov/fdsnws/event/1/que...</td>\n",
       "      <td>1.846</td>\n",
       "      <td>NaN</td>\n",
       "      <td>161.0</td>\n",
       "      <td>...</td>\n",
       "      <td>earthquake</td>\n",
       "      <td>,geoserve,origin,phase-data,</td>\n",
       "      <td>540</td>\n",
       "      <td>1538668737040</td>\n",
       "      <td>https://earthquake.usgs.gov/earthquakes/eventp...</td>\n",
       "      <td>Feature</td>\n",
       "      <td>128.5938</td>\n",
       "      <td>2.1610</td>\n",
       "      <td>04-10-2018</td>\n",
       "      <td>21:57:19</td>\n",
       "    </tr>\n",
       "  </tbody>\n",
       "</table>\n",
       "<p>5 rows × 34 columns</p>\n",
       "</div>"
      ],
      "text/plain": [
       "         geometry.coordinates geometry.type          id properties.alert  \\\n",
       "0     [120.0587, -1.2053, 10]         Point  us1000h7bb             None   \n",
       "1     [120.5781, -1.1493, 10]         Point  us1000h79w             None   \n",
       "2  [101.8232, -4.6372, 23.66]         Point  us1000h777             None   \n",
       "3     [120.3148, -1.3154, 10]         Point  us1000h774             None   \n",
       "4       [128.5938, 2.161, 10]         Point  us1000h6yd             None   \n",
       "\n",
       "   properties.cdi properties.code  \\\n",
       "0             NaN        1000h7bb   \n",
       "1             NaN        1000h79w   \n",
       "2             NaN        1000h777   \n",
       "3             NaN        1000h774   \n",
       "4             NaN        1000h6yd   \n",
       "\n",
       "                                   properties.detail  properties.dmin  \\\n",
       "0  https://earthquake.usgs.gov/fdsnws/event/1/que...            2.411   \n",
       "1  https://earthquake.usgs.gov/fdsnws/event/1/que...            2.195   \n",
       "2  https://earthquake.usgs.gov/fdsnws/event/1/que...            3.347   \n",
       "3  https://earthquake.usgs.gov/fdsnws/event/1/que...            2.455   \n",
       "4  https://earthquake.usgs.gov/fdsnws/event/1/que...            1.846   \n",
       "\n",
       "   properties.felt  properties.gap    ...    properties.type  \\\n",
       "0              NaN            87.0    ...         earthquake   \n",
       "1              NaN            79.0    ...         earthquake   \n",
       "2              NaN           106.0    ...         earthquake   \n",
       "3              NaN           126.0    ...         earthquake   \n",
       "4              NaN           161.0    ...         earthquake   \n",
       "\n",
       "               properties.types properties.tz  properties.updated  \\\n",
       "0  ,geoserve,origin,phase-data,           480       1538692359040   \n",
       "1  ,geoserve,origin,phase-data,           480       1539117939040   \n",
       "2  ,geoserve,origin,phase-data,           420       1539117184040   \n",
       "3  ,geoserve,origin,phase-data,           480       1539095934040   \n",
       "4  ,geoserve,origin,phase-data,           540       1538668737040   \n",
       "\n",
       "                                      properties.url     type       lon  \\\n",
       "0  https://earthquake.usgs.gov/earthquakes/eventp...  Feature  120.0587   \n",
       "1  https://earthquake.usgs.gov/earthquakes/eventp...  Feature  120.5781   \n",
       "2  https://earthquake.usgs.gov/earthquakes/eventp...  Feature  101.8232   \n",
       "3  https://earthquake.usgs.gov/earthquakes/eventp...  Feature  120.3148   \n",
       "4  https://earthquake.usgs.gov/earthquakes/eventp...  Feature  128.5938   \n",
       "\n",
       "      lat        date      time  \n",
       "0 -1.2053  05-10-2018  06:08:34  \n",
       "1 -1.1493  05-10-2018  04:40:31  \n",
       "2 -4.6372  05-10-2018  02:27:40  \n",
       "3 -1.3154  05-10-2018  02:27:22  \n",
       "4  2.1610  04-10-2018  21:57:19  \n",
       "\n",
       "[5 rows x 34 columns]"
      ]
     },
     "execution_count": 9,
     "metadata": {},
     "output_type": "execute_result"
    }
   ],
   "source": [
    "# apply the function\n",
    "earthquake_df[['date','time']] = earthquake_df['properties.time'].apply(convertEpochToReadable)\n",
    "earthquake_df.head()"
   ]
  },
  {
   "cell_type": "code",
   "execution_count": 10,
   "metadata": {},
   "outputs": [
    {
     "data": {
      "text/html": [
       "<div>\n",
       "<style scoped>\n",
       "    .dataframe tbody tr th:only-of-type {\n",
       "        vertical-align: middle;\n",
       "    }\n",
       "\n",
       "    .dataframe tbody tr th {\n",
       "        vertical-align: top;\n",
       "    }\n",
       "\n",
       "    .dataframe thead th {\n",
       "        text-align: right;\n",
       "    }\n",
       "</style>\n",
       "<table border=\"1\" class=\"dataframe\">\n",
       "  <thead>\n",
       "    <tr style=\"text-align: right;\">\n",
       "      <th></th>\n",
       "      <th>properties.mag</th>\n",
       "      <th>Class</th>\n",
       "    </tr>\n",
       "  </thead>\n",
       "  <tbody>\n",
       "    <tr>\n",
       "      <th>0</th>\n",
       "      <td>4.5</td>\n",
       "      <td>Light</td>\n",
       "    </tr>\n",
       "    <tr>\n",
       "      <th>1</th>\n",
       "      <td>4.4</td>\n",
       "      <td>Light</td>\n",
       "    </tr>\n",
       "    <tr>\n",
       "      <th>2</th>\n",
       "      <td>4.7</td>\n",
       "      <td>Light</td>\n",
       "    </tr>\n",
       "    <tr>\n",
       "      <th>3</th>\n",
       "      <td>4.6</td>\n",
       "      <td>Light</td>\n",
       "    </tr>\n",
       "    <tr>\n",
       "      <th>4</th>\n",
       "      <td>4.5</td>\n",
       "      <td>Light</td>\n",
       "    </tr>\n",
       "    <tr>\n",
       "      <th>5</th>\n",
       "      <td>4.6</td>\n",
       "      <td>Light</td>\n",
       "    </tr>\n",
       "  </tbody>\n",
       "</table>\n",
       "</div>"
      ],
      "text/plain": [
       "   properties.mag  Class\n",
       "0             4.5  Light\n",
       "1             4.4  Light\n",
       "2             4.7  Light\n",
       "3             4.6  Light\n",
       "4             4.5  Light\n",
       "5             4.6  Light"
      ]
     },
     "execution_count": 10,
     "metadata": {},
     "output_type": "execute_result"
    }
   ],
   "source": [
    "# add mangnitude class label\n",
    "# ref: http://www.geo.mtu.edu/UPSeis/magnitude.html\n",
    "\n",
    "def addClass(mag):\n",
    "    if (mag>=8):\n",
    "        return 'Great'\n",
    "    elif (mag>=7):\n",
    "        return 'Major'\n",
    "    elif (mag>=6):\n",
    "        return 'Strong'\n",
    "    elif (mag>=5):\n",
    "        return 'Moderate'\n",
    "    elif (mag>=4):\n",
    "        return 'Light'\n",
    "    elif (mag>=3):\n",
    "        return 'Minor'\n",
    "    else:\n",
    "        return 'Not felt'\n",
    "\n",
    "# Apply the class on the dataframe\n",
    "earthquake_df['Class'] = earthquake_df['properties.mag'].apply(addClass)\n",
    "\n",
    "# Inspect the modified dataframe\n",
    "earthquake_df.loc[0:5,['properties.mag','Class']]"
   ]
  },
  {
   "cell_type": "code",
   "execution_count": 11,
   "metadata": {},
   "outputs": [],
   "source": [
    "# export to CSV\n",
    "filename = 'E:\\DataScience\\Jupyter\\Earthquake\\\\data\\\\regional-' + str(urlStart) + '-' + str(urlEnd) + '.csv'\n",
    "earthquake_df.to_csv(filename)"
   ]
  },
  {
   "cell_type": "markdown",
   "metadata": {},
   "source": [
    "# Visualize the Data"
   ]
  },
  {
   "cell_type": "code",
   "execution_count": 13,
   "metadata": {},
   "outputs": [
    {
     "data": {
      "image/png": "[encoded data removed]",
      "text/plain": [
       "<matplotlib.figure.Figure at 0xcfae978>"
      ]
     },
     "metadata": {},
     "output_type": "display_data"
    }
   ],
   "source": [
    "# let's plot on the map\n",
    "import geopandas as gpd\n",
    "from geopandas import GeoDataFrame\n",
    "from shapely.geometry import Point\n",
    "\n",
    "crs = {'init': 'epsg:4326'}\n",
    "world = gpd.read_file(gpd.datasets.get_path('naturalearth_lowres'))\n",
    "\n",
    "world = world[(world.name==\"Indonesia\") | (world.name==\"Philippines\") \\\n",
    "              | (world.name==\"Malaysia\") | (world.name==\"Brunei\") \\\n",
    "              | (world.name==\"Brunei\") | (world.name==\"Thailand\")]\n",
    "\n",
    "from matplotlib import cm\n",
    "\n",
    "base = world.plot(figsize=(20,20),color='white', edgecolor='black')\n",
    "base.set_title(\"Earthquake between \"+urlStart+\" till \"+urlEnd)\n",
    "\n",
    "colorDict = {'Great': 'darkred', # >8\n",
    "             'Major': 'purple', # >7\n",
    "             'Strong': 'red', # >6\n",
    "             'Moderate': 'orange', # >5\n",
    "             'Light': 'yellow', # >4\n",
    "             'Minor': 'darkgreen', # >3\n",
    "             'Not felt': 'cyan' # <3\n",
    "            }\n",
    "\n",
    "classType = ['Not felt','Minor','Light','Moderate','Strong','Major','Great']\n",
    "#classType = ['Moderate','Strong','Major','Great']\n",
    "for cType in classType:\n",
    "    if(len(earthquake_df[earthquake_df['Class']==cType])>0):\n",
    "        subsetDF = earthquake_df[earthquake_df['Class']==cType]\n",
    "        geometry = [Point(xy) for xy in zip(subsetDF.lon, subsetDF .lat)]\n",
    "        subsetGDF = GeoDataFrame(subsetDF, crs=crs, geometry=geometry)\n",
    "    \n",
    "        subsetGDF.plot(ax=base, marker='.', color=colorDict[cType], markersize=100);"
   ]
  },
  {
   "cell_type": "markdown",
   "metadata": {},
   "source": [
    "From the map, we can see many occurance of earthquakes around the same area in Palu.\n",
    "<br>Let's focus only on that area, filter by coordinates."
   ]
  },
  {
   "cell_type": "markdown",
   "metadata": {},
   "source": [
    "# Inspect only area of focus"
   ]
  },
  {
   "cell_type": "code",
   "execution_count": 14,
   "metadata": {},
   "outputs": [],
   "source": [
    "# Create a copy of dataframe with only covering the Northen Acheh area\n",
    "# Roughly get the boundaries from the map above\n",
    "location_latitude = (earthquake_df['lat'] > -5) & (earthquake_df['lat'] < 5)\n",
    "location_longitude = (earthquake_df['lon'] > 118) & (earthquake_df['lon'] < 121)\n",
    "\n",
    "palu_df = earthquake_df[location_latitude & location_longitude].copy()"
   ]
  },
  {
   "cell_type": "code",
   "execution_count": 15,
   "metadata": {},
   "outputs": [],
   "source": [
    "import matplotlib.pyplot as plt\n",
    "import seaborn as sns\n",
    "%matplotlib inline"
   ]
  },
  {
   "cell_type": "code",
   "execution_count": 17,
   "metadata": {},
   "outputs": [
    {
     "data": {
      "image/png": "[encoded data removed]",
      "text/plain": [
       "<matplotlib.figure.Figure at 0xd8c5080>"
      ]
     },
     "metadata": {},
     "output_type": "display_data"
    }
   ],
   "source": [
    "# Just plot into xy-plane to check on the earthquake as we intended\n",
    "markerDict = {'Great': 'ro', # >8 red\n",
    "             'Major': 'mo', # >7 magenta\n",
    "             'Strong': 'yo', # >6 yellow\n",
    "             'Moderate': 'go', # >5 green\n",
    "             'Light': 'bo', # >4 blue\n",
    "             'Minor': 'co', # >3 minor\n",
    "             'Not felt': 'wo' # <3 white\n",
    "            }\n",
    "\n",
    "for cls in palu_df.Class.unique():\n",
    "    clscFilter = palu_df['Class']==cls\n",
    "    plt.plot(palu_df[clscFilter].lon,palu_df[clscFilter].lat, markerDict[cls],markersize=3)"
   ]
  },
  {
   "cell_type": "code",
   "execution_count": 18,
   "metadata": {},
   "outputs": [
    {
     "data": {
      "text/plain": [
       "Text(0.5,1,u'Number of earthquake by day')"
      ]
     },
     "execution_count": 18,
     "metadata": {},
     "output_type": "execute_result"
    },
    {
     "data": {
      "image/png": "[encoded data removed]",
      "text/plain": [
       "<matplotlib.figure.Figure at 0xd8b2a20>"
      ]
     },
     "metadata": {},
     "output_type": "display_data"
    }
   ],
   "source": [
    "# Check the count by day\n",
    "\n",
    "sns.factorplot('date',data=palu_df.sort_values(by='properties.time', ascending=1),kind='count',\n",
    "               orient=\"h\",aspect=4,legend=True)\n",
    "\n",
    "plt.xticks(rotation=70)\n",
    "plt.title(\"Number of earthquake by day\")"
   ]
  },
  {
   "cell_type": "code",
   "execution_count": 19,
   "metadata": {},
   "outputs": [
    {
     "data": {
      "text/plain": [
       "date\n",
       "01-10-2018     1\n",
       "02-10-2018     4\n",
       "03-10-2018     1\n",
       "05-10-2018     3\n",
       "22-09-2018     2\n",
       "28-09-2018    30\n",
       "29-09-2018     8\n",
       "30-09-2018     3\n",
       "Name: geometry.coordinates, dtype: int64"
      ]
     },
     "execution_count": 19,
     "metadata": {},
     "output_type": "execute_result"
    }
   ],
   "source": [
    "palu_df.groupby(['date'])['geometry.coordinates'].nunique()"
   ]
  },
  {
   "cell_type": "markdown",
   "metadata": {},
   "source": [
    "28 September recorded the most earthquakes that hit the area.\n",
    "<br>Also there were significant number of earquakes a day after.\n",
    "<br>Let's plot the earthquake for these 2 days, and illustrate the magnitude level"
   ]
  },
  {
   "cell_type": "code",
   "execution_count": 41,
   "metadata": {},
   "outputs": [
    {
     "data": {
      "text/plain": [
       "Text(0.5,1,u'Number of earthquakes between 26-29 December')"
      ]
     },
     "execution_count": 41,
     "metadata": {},
     "output_type": "execute_result"
    },
    {
     "data": {
      "image/png": "[encoded data removed]",
      "text/plain": [
       "<matplotlib.figure.Figure at 0xb579940>"
      ]
     },
     "metadata": {},
     "output_type": "display_data"
    }
   ],
   "source": [
    "# High volume happened between 28-29 September 2018\n",
    "\n",
    "dateFilter = (palu_df['date']>='28-09-2018') & (palu_df['date']<'30-09-2018')\n",
    "\n",
    "classPalette = sns.color_palette(\"YlOrRd\", earthquake_df['Class'].nunique())\n",
    "sns.set_palette(classPalette)\n",
    "\n",
    "sns.factorplot('date',data=palu_df[dateFilter].sort_values(by='properties.time', ascending=1),hue='Class',kind='count',\n",
    "               orient=\"h\",aspect=4,legend=True,hue_order = ['Not felt','Minor','Light','Moderate','Strong','Major','Great'])\n",
    "\n",
    "plt.xticks(rotation=70)\n",
    "plt.title(\"Number of earthquakes between 26-29 December\")"
   ]
  },
  {
   "cell_type": "markdown",
   "metadata": {},
   "source": [
    "The area was hit by 30 earthquake on 28 September\n",
    "<br>half of it with magnitude >5"
   ]
  },
  {
   "cell_type": "code",
   "execution_count": 22,
   "metadata": {},
   "outputs": [
    {
     "data": {
      "text/plain": [
       "date        Class   \n",
       "28-09-2018  Light       14\n",
       "            Major        1\n",
       "            Moderate    14\n",
       "            Strong       1\n",
       "29-09-2018  Light        5\n",
       "            Moderate     3\n",
       "Name: geometry.coordinates, dtype: int64"
      ]
     },
     "execution_count": 22,
     "metadata": {},
     "output_type": "execute_result"
    }
   ],
   "source": [
    "dateFilter = (palu_df['date']>='26-12-2004') & (palu_df['date']<'29-12-2004')\n",
    "palu_df[dateFilter].groupby(['date','Class'])['geometry.coordinates'].nunique()"
   ]
  },
  {
   "cell_type": "markdown",
   "metadata": {},
   "source": [
    "The area was hit by major earthquakes on 28 September, with 30 earthquakes with magnitude >=5 (Moderate=14 Strong=1 Major=1)\n",
    "<br>Let's visualize these on xy-plot"
   ]
  },
  {
   "cell_type": "markdown",
   "metadata": {},
   "source": [
    "# What happened on 28 September"
   ]
  },
  {
   "cell_type": "code",
   "execution_count": 25,
   "metadata": {},
   "outputs": [
    {
     "data": {
      "image/png": "[encoded data removed]",
      "text/plain": [
       "<matplotlib.figure.Figure at 0xd8b3a90>"
      ]
     },
     "metadata": {},
     "output_type": "display_data"
    }
   ],
   "source": [
    "plt.figure(figsize=(15,5))\n",
    "\n",
    "magnFilter = palu_df['properties.mag']>=5\n",
    "dateFilter = palu_df['date']=='28-09-2018'\n",
    "\n",
    "plt.plot(palu_df[dateFilter]['time'],\n",
    "        palu_df[dateFilter]['properties.mag'],\n",
    "         '+k',markersize=10) # black cross\n",
    "\n",
    "plt.xticks(rotation=70)\n",
    "plt.xlabel(\"time\")\n",
    "plt.ylabel(\"magnitude\")\n",
    "plt.title(\"Earthquake hit Palu on 28 September\")\n",
    "\n",
    "plt.show()"
   ]
  },
  {
   "cell_type": "code",
   "execution_count": 27,
   "metadata": {},
   "outputs": [
    {
     "data": {
      "text/html": [
       "<div>\n",
       "<style scoped>\n",
       "    .dataframe tbody tr th:only-of-type {\n",
       "        vertical-align: middle;\n",
       "    }\n",
       "\n",
       "    .dataframe tbody tr th {\n",
       "        vertical-align: top;\n",
       "    }\n",
       "\n",
       "    .dataframe thead th {\n",
       "        text-align: right;\n",
       "    }\n",
       "</style>\n",
       "<table border=\"1\" class=\"dataframe\">\n",
       "  <thead>\n",
       "    <tr style=\"text-align: right;\">\n",
       "      <th></th>\n",
       "      <th>properties.place</th>\n",
       "      <th>date</th>\n",
       "      <th>time</th>\n",
       "      <th>Class</th>\n",
       "      <th>properties.mag</th>\n",
       "    </tr>\n",
       "  </thead>\n",
       "  <tbody>\n",
       "    <tr>\n",
       "      <th>80</th>\n",
       "      <td>55km NNW of Palu, Indonesia</td>\n",
       "      <td>28-09-2018</td>\n",
       "      <td>15:00:01</td>\n",
       "      <td>Strong</td>\n",
       "      <td>6.1</td>\n",
       "    </tr>\n",
       "    <tr>\n",
       "      <th>79</th>\n",
       "      <td>77km NNE of Palu, Indonesia</td>\n",
       "      <td>28-09-2018</td>\n",
       "      <td>15:03:18</td>\n",
       "      <td>Moderate</td>\n",
       "      <td>5.4</td>\n",
       "    </tr>\n",
       "    <tr>\n",
       "      <th>77</th>\n",
       "      <td>60km N of Palu, Indonesia</td>\n",
       "      <td>28-09-2018</td>\n",
       "      <td>16:24:58</td>\n",
       "      <td>Moderate</td>\n",
       "      <td>5.0</td>\n",
       "    </tr>\n",
       "    <tr>\n",
       "      <th>74</th>\n",
       "      <td>78km N of Palu, Indonesia</td>\n",
       "      <td>28-09-2018</td>\n",
       "      <td>18:02:43</td>\n",
       "      <td>Major</td>\n",
       "      <td>7.5</td>\n",
       "    </tr>\n",
       "    <tr>\n",
       "      <th>73</th>\n",
       "      <td>99km N of Palu, Indonesia</td>\n",
       "      <td>28-09-2018</td>\n",
       "      <td>18:14:20</td>\n",
       "      <td>Moderate</td>\n",
       "      <td>5.8</td>\n",
       "    </tr>\n",
       "    <tr>\n",
       "      <th>72</th>\n",
       "      <td>17km E of Palu, Indonesia</td>\n",
       "      <td>28-09-2018</td>\n",
       "      <td>18:16:49</td>\n",
       "      <td>Moderate</td>\n",
       "      <td>5.7</td>\n",
       "    </tr>\n",
       "    <tr>\n",
       "      <th>71</th>\n",
       "      <td>21km SSE of Palu, Indonesia</td>\n",
       "      <td>28-09-2018</td>\n",
       "      <td>18:25:04</td>\n",
       "      <td>Moderate</td>\n",
       "      <td>5.8</td>\n",
       "    </tr>\n",
       "    <tr>\n",
       "      <th>70</th>\n",
       "      <td>24km N of Palu, Indonesia</td>\n",
       "      <td>28-09-2018</td>\n",
       "      <td>18:39:03</td>\n",
       "      <td>Moderate</td>\n",
       "      <td>5.4</td>\n",
       "    </tr>\n",
       "    <tr>\n",
       "      <th>69</th>\n",
       "      <td>42km N of Palu, Indonesia</td>\n",
       "      <td>28-09-2018</td>\n",
       "      <td>18:47:44</td>\n",
       "      <td>Moderate</td>\n",
       "      <td>5.1</td>\n",
       "    </tr>\n",
       "    <tr>\n",
       "      <th>68</th>\n",
       "      <td>17km NNE of Palu, Indonesia</td>\n",
       "      <td>28-09-2018</td>\n",
       "      <td>18:50:25</td>\n",
       "      <td>Moderate</td>\n",
       "      <td>5.7</td>\n",
       "    </tr>\n",
       "    <tr>\n",
       "      <th>67</th>\n",
       "      <td>68km SSE of Palu, Indonesia</td>\n",
       "      <td>28-09-2018</td>\n",
       "      <td>19:06:51</td>\n",
       "      <td>Moderate</td>\n",
       "      <td>5.2</td>\n",
       "    </tr>\n",
       "    <tr>\n",
       "      <th>65</th>\n",
       "      <td>47km N of Palu, Indonesia</td>\n",
       "      <td>28-09-2018</td>\n",
       "      <td>20:27:33</td>\n",
       "      <td>Moderate</td>\n",
       "      <td>5.1</td>\n",
       "    </tr>\n",
       "    <tr>\n",
       "      <th>60</th>\n",
       "      <td>107km N of Palu, Indonesia</td>\n",
       "      <td>28-09-2018</td>\n",
       "      <td>21:35:30</td>\n",
       "      <td>Moderate</td>\n",
       "      <td>5.7</td>\n",
       "    </tr>\n",
       "    <tr>\n",
       "      <th>59</th>\n",
       "      <td>58km S of Palu, Indonesia</td>\n",
       "      <td>28-09-2018</td>\n",
       "      <td>21:39:44</td>\n",
       "      <td>Moderate</td>\n",
       "      <td>5.2</td>\n",
       "    </tr>\n",
       "    <tr>\n",
       "      <th>53</th>\n",
       "      <td>113km NNW of Palu, Indonesia</td>\n",
       "      <td>28-09-2018</td>\n",
       "      <td>22:26:00</td>\n",
       "      <td>Moderate</td>\n",
       "      <td>5.4</td>\n",
       "    </tr>\n",
       "    <tr>\n",
       "      <th>49</th>\n",
       "      <td>45km SSW of Palu, Indonesia</td>\n",
       "      <td>28-09-2018</td>\n",
       "      <td>23:35:42</td>\n",
       "      <td>Moderate</td>\n",
       "      <td>5.0</td>\n",
       "    </tr>\n",
       "  </tbody>\n",
       "</table>\n",
       "</div>"
      ],
      "text/plain": [
       "                properties.place        date      time     Class  \\\n",
       "80   55km NNW of Palu, Indonesia  28-09-2018  15:00:01    Strong   \n",
       "79   77km NNE of Palu, Indonesia  28-09-2018  15:03:18  Moderate   \n",
       "77     60km N of Palu, Indonesia  28-09-2018  16:24:58  Moderate   \n",
       "74     78km N of Palu, Indonesia  28-09-2018  18:02:43     Major   \n",
       "73     99km N of Palu, Indonesia  28-09-2018  18:14:20  Moderate   \n",
       "72     17km E of Palu, Indonesia  28-09-2018  18:16:49  Moderate   \n",
       "71   21km SSE of Palu, Indonesia  28-09-2018  18:25:04  Moderate   \n",
       "70     24km N of Palu, Indonesia  28-09-2018  18:39:03  Moderate   \n",
       "69     42km N of Palu, Indonesia  28-09-2018  18:47:44  Moderate   \n",
       "68   17km NNE of Palu, Indonesia  28-09-2018  18:50:25  Moderate   \n",
       "67   68km SSE of Palu, Indonesia  28-09-2018  19:06:51  Moderate   \n",
       "65     47km N of Palu, Indonesia  28-09-2018  20:27:33  Moderate   \n",
       "60    107km N of Palu, Indonesia  28-09-2018  21:35:30  Moderate   \n",
       "59     58km S of Palu, Indonesia  28-09-2018  21:39:44  Moderate   \n",
       "53  113km NNW of Palu, Indonesia  28-09-2018  22:26:00  Moderate   \n",
       "49   45km SSW of Palu, Indonesia  28-09-2018  23:35:42  Moderate   \n",
       "\n",
       "    properties.mag  \n",
       "80             6.1  \n",
       "79             5.4  \n",
       "77             5.0  \n",
       "74             7.5  \n",
       "73             5.8  \n",
       "72             5.7  \n",
       "71             5.8  \n",
       "70             5.4  \n",
       "69             5.1  \n",
       "68             5.7  \n",
       "67             5.2  \n",
       "65             5.1  \n",
       "60             5.7  \n",
       "59             5.2  \n",
       "53             5.4  \n",
       "49             5.0  "
      ]
     },
     "execution_count": 27,
     "metadata": {},
     "output_type": "execute_result"
    }
   ],
   "source": [
    "# list down the earthquake with magnitude > 6\n",
    "magnFilter = palu_df['properties.mag']>=5\n",
    "dateFilter = palu_df['date']=='28-09-2018'\n",
    "\n",
    "palu_df[dateFilter & magnFilter] \\\n",
    "    .sort_values(by='time', ascending=1) \\\n",
    "    [['properties.place','date','time','Class','properties.mag']]"
   ]
  },
  {
   "cell_type": "markdown",
   "metadata": {},
   "source": [
    "On 28 September, the area was hit by <b>M6.1</b> earthquake at <b>3 pm</b>\n",
    "<br>Followed <b>M7.5</b> earthquake at <b>6 pm</b>"
   ]
  },
  {
   "cell_type": "markdown",
   "metadata": {},
   "source": [
    "# Let's see details on the greatest earthquake on 28 September"
   ]
  },
  {
   "cell_type": "code",
   "execution_count": 28,
   "metadata": {},
   "outputs": [
    {
     "data": {
      "text/html": [
       "<div>\n",
       "<style scoped>\n",
       "    .dataframe tbody tr th:only-of-type {\n",
       "        vertical-align: middle;\n",
       "    }\n",
       "\n",
       "    .dataframe tbody tr th {\n",
       "        vertical-align: top;\n",
       "    }\n",
       "\n",
       "    .dataframe thead th {\n",
       "        text-align: right;\n",
       "    }\n",
       "</style>\n",
       "<table border=\"1\" class=\"dataframe\">\n",
       "  <thead>\n",
       "    <tr style=\"text-align: right;\">\n",
       "      <th></th>\n",
       "      <th>properties.place</th>\n",
       "      <th>date</th>\n",
       "      <th>time</th>\n",
       "      <th>Class</th>\n",
       "      <th>properties.mag</th>\n",
       "      <th>properties.detail</th>\n",
       "    </tr>\n",
       "  </thead>\n",
       "  <tbody>\n",
       "    <tr>\n",
       "      <th>74</th>\n",
       "      <td>78km N of Palu, Indonesia</td>\n",
       "      <td>28-09-2018</td>\n",
       "      <td>18:02:43</td>\n",
       "      <td>Major</td>\n",
       "      <td>7.5</td>\n",
       "      <td>https://earthquake.usgs.gov/fdsnws/event/1/que...</td>\n",
       "    </tr>\n",
       "  </tbody>\n",
       "</table>\n",
       "</div>"
      ],
      "text/plain": [
       "             properties.place        date      time  Class  properties.mag  \\\n",
       "74  78km N of Palu, Indonesia  28-09-2018  18:02:43  Major             7.5   \n",
       "\n",
       "                                    properties.detail  \n",
       "74  https://earthquake.usgs.gov/fdsnws/event/1/que...  "
      ]
     },
     "execution_count": 28,
     "metadata": {},
     "output_type": "execute_result"
    }
   ],
   "source": [
    "# Get the greatest earthquake\n",
    "dateFilter = palu_df['date']=='28-09-2018'\n",
    "maxFilter = palu_df['properties.mag'] == palu_df['properties.mag'].max()\n",
    "\n",
    "palu_df[dateFilter & maxFilter] \\\n",
    "    .sort_values(by='time', ascending=1) \\\n",
    "    [['properties.place','date','time','Class','properties.mag','properties.detail']]"
   ]
  },
  {
   "cell_type": "code",
   "execution_count": 29,
   "metadata": {},
   "outputs": [
    {
     "data": {
      "text/plain": [
       "geometry.coordinates                              [119.8401, -0.1781, 10]\n",
       "geometry.type                                                       Point\n",
       "id                                                             us1000h3p4\n",
       "properties.alert                                                      red\n",
       "properties.cdi                                                        8.4\n",
       "properties.code                                                  1000h3p4\n",
       "properties.detail       https://earthquake.usgs.gov/fdsnws/event/1/que...\n",
       "properties.dmin                                                     1.589\n",
       "properties.felt                                                        18\n",
       "properties.gap                                                         27\n",
       "properties.ids                                    ,us1000h3p4,us1000h4p4,\n",
       "properties.mag                                                        7.5\n",
       "properties.magType                                                    mww\n",
       "properties.mmi                                                       9.12\n",
       "properties.net                                                         us\n",
       "properties.nst                                                        NaN\n",
       "properties.place                                78km N of Palu, Indonesia\n",
       "properties.rms                                                       1.27\n",
       "properties.sig                                                       2015\n",
       "properties.sources                                                ,us,us,\n",
       "properties.status                                                reviewed\n",
       "properties.time                                             1538128963480\n",
       "properties.title                        M 7.5 - 78km N of Palu, Indonesia\n",
       "properties.tsunami                                                      1\n",
       "properties.type                                                earthquake\n",
       "properties.types        ,dyfi,finite-fault,general-text,geoserve,groun...\n",
       "properties.tz                                                         480\n",
       "properties.updated                                          1539123134531\n",
       "properties.url          https://earthquake.usgs.gov/earthquakes/eventp...\n",
       "type                                                              Feature\n",
       "lon                                                                119.84\n",
       "lat                                                               -0.1781\n",
       "date                                                           28-09-2018\n",
       "time                                                             18:02:43\n",
       "Class                                                               Major\n",
       "Name: 74, dtype: object"
      ]
     },
     "execution_count": 29,
     "metadata": {},
     "output_type": "execute_result"
    }
   ],
   "source": [
    "# more details can be retrieved as follow\n",
    "palu_df.loc[palu_df['properties.mag'].idxmax()]"
   ]
  },
  {
   "cell_type": "markdown",
   "metadata": {},
   "source": [
    "The greatest earthquake on 28th September was with <b>magnitude 7.5</b>, happened <b>6 pm</b>.\n",
    "<br>The exact location was <b>78km N of Palu, Indonesia</b>"
   ]
  },
  {
   "cell_type": "code",
   "execution_count": 31,
   "metadata": {},
   "outputs": [
    {
     "data": {
      "text/plain": [
       "u'https://earthquake.usgs.gov/fdsnws/event/1/query?eventid=us1000h3p4&format=geojson'"
      ]
     },
     "execution_count": 31,
     "metadata": {},
     "output_type": "execute_result"
    }
   ],
   "source": [
    "# get the detail from the properties.detail\n",
    "detailURL = palu_df.loc[palu_df['properties.mag'].idxmax()]['properties.detail']\n",
    "detailURL"
   ]
  },
  {
   "cell_type": "markdown",
   "metadata": {},
   "source": [
    "From this URL, we can get more details of each earthquake.\n",
    "<br>I have inspect the json response, and will only focus on some data captured:\n",
    "1. general-header\n",
    "2. general-header\n",
    "3. impact-text\n",
    "4. poster"
   ]
  },
  {
   "cell_type": "code",
   "execution_count": 32,
   "metadata": {},
   "outputs": [
    {
     "data": {
      "text/html": [
       "<div>\n",
       "<style scoped>\n",
       "    .dataframe tbody tr th:only-of-type {\n",
       "        vertical-align: middle;\n",
       "    }\n",
       "\n",
       "    .dataframe tbody tr th {\n",
       "        vertical-align: top;\n",
       "    }\n",
       "\n",
       "    .dataframe thead th {\n",
       "        text-align: right;\n",
       "    }\n",
       "</style>\n",
       "<table border=\"1\" class=\"dataframe\">\n",
       "  <thead>\n",
       "    <tr style=\"text-align: right;\">\n",
       "      <th></th>\n",
       "      <th>dyfi</th>\n",
       "      <th>finite-fault</th>\n",
       "      <th>general-text</th>\n",
       "      <th>geoserve</th>\n",
       "      <th>ground-failure</th>\n",
       "      <th>losspager</th>\n",
       "      <th>moment-tensor</th>\n",
       "      <th>origin</th>\n",
       "      <th>phase-data</th>\n",
       "      <th>poster</th>\n",
       "      <th>shakemap</th>\n",
       "    </tr>\n",
       "  </thead>\n",
       "  <tbody>\n",
       "    <tr>\n",
       "      <th>0</th>\n",
       "      <td>[{u'status': u'UPDATE', u'updateTime': 1538462...</td>\n",
       "      <td>[{u'status': u'UPDATE', u'updateTime': 1539123...</td>\n",
       "      <td>[{u'status': u'UPDATE', u'updateTime': 1538587...</td>\n",
       "      <td>[{u'status': u'UPDATE', u'updateTime': 1538130...</td>\n",
       "      <td>[{u'status': u'UPDATE', u'updateTime': 1538519...</td>\n",
       "      <td>[{u'status': u'UPDATE', u'updateTime': 1538519...</td>\n",
       "      <td>[{u'status': u'UPDATE', u'updateTime': 1538131...</td>\n",
       "      <td>[{u'status': u'UPDATE', u'updateTime': 1538130...</td>\n",
       "      <td>[{u'status': u'UPDATE', u'updateTime': 1538130...</td>\n",
       "      <td>[{u'status': u'UPDATE', u'updateTime': 1538151...</td>\n",
       "      <td>[{u'status': u'UPDATE', u'updateTime': 1538519...</td>\n",
       "    </tr>\n",
       "  </tbody>\n",
       "</table>\n",
       "</div>"
      ],
      "text/plain": [
       "                                                dyfi  \\\n",
       "0  [{u'status': u'UPDATE', u'updateTime': 1538462...   \n",
       "\n",
       "                                        finite-fault  \\\n",
       "0  [{u'status': u'UPDATE', u'updateTime': 1539123...   \n",
       "\n",
       "                                        general-text  \\\n",
       "0  [{u'status': u'UPDATE', u'updateTime': 1538587...   \n",
       "\n",
       "                                            geoserve  \\\n",
       "0  [{u'status': u'UPDATE', u'updateTime': 1538130...   \n",
       "\n",
       "                                      ground-failure  \\\n",
       "0  [{u'status': u'UPDATE', u'updateTime': 1538519...   \n",
       "\n",
       "                                           losspager  \\\n",
       "0  [{u'status': u'UPDATE', u'updateTime': 1538519...   \n",
       "\n",
       "                                       moment-tensor  \\\n",
       "0  [{u'status': u'UPDATE', u'updateTime': 1538131...   \n",
       "\n",
       "                                              origin  \\\n",
       "0  [{u'status': u'UPDATE', u'updateTime': 1538130...   \n",
       "\n",
       "                                          phase-data  \\\n",
       "0  [{u'status': u'UPDATE', u'updateTime': 1538130...   \n",
       "\n",
       "                                              poster  \\\n",
       "0  [{u'status': u'UPDATE', u'updateTime': 1538151...   \n",
       "\n",
       "                                            shakemap  \n",
       "0  [{u'status': u'UPDATE', u'updateTime': 1538519...  "
      ]
     },
     "execution_count": 32,
     "metadata": {},
     "output_type": "execute_result"
    }
   ],
   "source": [
    "# submit the request\n",
    "resp = requests.get(url=detailURL)\n",
    "data = resp.json()\n",
    "\n",
    "# process the JSON response\n",
    "block_df = json_normalize(data['properties']['products'])\n",
    "\n",
    "block_df"
   ]
  },
  {
   "cell_type": "code",
   "execution_count": 35,
   "metadata": {},
   "outputs": [
    {
     "data": {
      "text/plain": [
       "pandas.core.series.Series"
      ]
     },
     "execution_count": 35,
     "metadata": {},
     "output_type": "execute_result"
    }
   ],
   "source": [
    "headerBlock = block_df['general-text']\n",
    "type(headerBlock)"
   ]
  },
  {
   "cell_type": "code",
   "execution_count": 36,
   "metadata": {},
   "outputs": [
    {
     "data": {
      "text/html": [
       "<h2>Tectonic Summary</h2>\n",
       "<p>\n",
       "The September 28, 2018, M 7.5 earthquake near Sulawesi, Indonesia occurred as a result of strike-slip faulting at shallow depths within the interior of the Molucca Sea microplate, part of the broader Sunda tectonic plate. Focal mechanism solutions for the earthquake indicate rupture occurred on either a left-lateral north-south striking fault, or along a right-lateral east-west striking fault. Eastern Indonesia is characterized by complex tectonics in which motions of numerous small microplates are accommodating large-scale convergence between the Australia, Sunda, Pacific, and Philippine Sea plates. At the location of the September 28th earthquake, the Sunda plate moves south with respect to Molucca Sea plate at a velocity of about 30 mm/year.\n",
       "</p>\n",
       "<p>\n",
       "While commonly plotted as points on maps, earthquakes of this size are more appropriately described as slip over a larger fault area. Strike-slip events of the size of the September 28, 2018 earthquake are typically about 120x20 km in size (length x width); modeling of this earthquake implies dimensions of ~150x30 km, predominantly south of the hypocenter. Geodetic evidence (Pixel tracking and InSAR images) clearly show rupture (including surface rupture through the city of Palu) over a length of ~150 km. \n",
       "</p>\n",
       "<p>\n",
       "Shallow earthquakes of this size can often have a deadly impact on nearby communities. Historically, this region has hosted several large earthquakes, with fifteen events of M 6.5 and larger within 250 km of the September 28th earthquake over the preceding century. The largest of these was a M 7.9 earthquake in January 1996, about 100 km to the north of the September 28, 2018 event. The 1996 earthquake – a shallow thrust faulting earthquake likely to have occurred on the regional subduction zone system at depth beneath the shallow crust - resulted in approximately 10 fatalities, over 60 injuries, and significant building damage in the local region. The September 28, 2018 earthquake was preceded by a series of small-to-moderate sized earthquakes over the hours leading up to this event; the USGS located 4 other earthquakes of M 4.9 and larger in the epicentral region, beginning with a M 6.1 earthquake three hours earlier and just to the south of the M 7.5 event. There has also been an active aftershock sequence, with 40 events of M 4.4 and larger in the first five days following this earthquake. The largest aftershock in this timeframe was M 5.8, about 12 minutes after the M 7.5 earthquake. \n",
       "</p>"
      ],
      "text/plain": [
       "<IPython.core.display.HTML object>"
      ]
     },
     "metadata": {},
     "output_type": "display_data"
    }
   ],
   "source": [
    "from IPython.core.display import display, HTML\n",
    "\n",
    "for h1 in headerBlock:\n",
    "    #print \"h1 is\",type(h1)    # list\n",
    "    for h2 in h1:\n",
    "        #print \"h2 is\",type(h2)  # dict\n",
    "        h2Content = h2['contents']\n",
    "        #print \"h2Content is\",type(h2Content)  # dict\n",
    "        #print h2Content['']['bytes']\n",
    "        display(HTML(h2Content['']['bytes']))"
   ]
  },
  {
   "cell_type": "code",
   "execution_count": 39,
   "metadata": {},
   "outputs": [
    {
     "name": "stdout",
     "output_type": "stream",
     "text": [
      "https://earthquake.usgs.gov/archive/product/poster/20180928/us/1538151889786/poster.jpg\n"
     ]
    },
    {
     "data": {
      "text/html": [
       "<img src=\"https://earthquake.usgs.gov/archive/product/poster/20180928/us/1538151889786/poster.jpg\"/>"
      ],
      "text/plain": [
       "<IPython.core.display.Image object>"
      ]
     },
     "execution_count": 39,
     "metadata": {},
     "output_type": "execute_result"
    }
   ],
   "source": [
    "from IPython.display import Image\n",
    "from IPython.core.display import HTML\n",
    "\n",
    "imgUrl = \"\"\n",
    "\n",
    "posterBlock = block_df['poster']\n",
    "for h1 in posterBlock:\n",
    "    #print \"h1 is\",type(h1)    # list\n",
    "    for h2 in h1:\n",
    "        #print \"h2 is\",type(h2)  # dict\n",
    "        imgUrl = h2['contents']['poster.jpg']['url']\n",
    "        print imgUrl\n",
    "\n",
    "Image(url= imgUrl)"
   ]
  },
  {
   "cell_type": "code",
   "execution_count": null,
   "metadata": {},
   "outputs": [],
   "source": []
  }
 ],
 "metadata": {
  "kernelspec": {
   "display_name": "Python 2",
   "language": "python",
   "name": "python2"
  },
  "language_info": {
   "codemirror_mode": {
    "name": "ipython",
    "version": 2
   },
   "file_extension": ".py",
   "mimetype": "text/x-python",
   "name": "python",
   "nbconvert_exporter": "python",
   "pygments_lexer": "ipython2",
   "version": "2.7.14"
  }
 },
 "nbformat": 4,
 "nbformat_minor": 2
}
